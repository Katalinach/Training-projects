{
  "nbformat": 4,
  "nbformat_minor": 0,
  "metadata": {
    "kernelspec": {
      "display_name": "Python 3",
      "language": "python",
      "name": "python3"
    },
    "language_info": {
      "codemirror_mode": {
        "name": "ipython",
        "version": 3
      },
      "file_extension": ".py",
      "mimetype": "text/x-python",
      "name": "python",
      "nbconvert_exporter": "python",
      "pygments_lexer": "ipython3",
      "version": "3.6.9"
    },
    "colab": {
      "name": "Australian Credit Approval.ipynb",
      "provenance": []
    }
  },
  "cells": [
    {
      "cell_type": "code",
      "metadata": {
        "id": "MDOLBuI3r9Di",
        "colab_type": "code",
        "colab": {}
      },
      "source": [
        "!pip install category_encoders"
      ],
      "execution_count": null,
      "outputs": []
    },
    {
      "cell_type": "code",
      "metadata": {
        "id": "4qxpoFO3qZIL",
        "colab_type": "code",
        "colab": {}
      },
      "source": [
        "%matplotlib inline\n",
        "\n",
        "\n",
        "import category_encoders\n",
        "import random\n",
        "import matplotlib.pyplot as plt\n",
        "import numpy as np\n",
        "import pandas as pd\n",
        "import seaborn as sns\n",
        "from scipy.stats import t\n",
        "from scipy.stats import norm\n",
        "from sklearn.datasets import make_classification\n",
        "from sklearn.linear_model import \\\n",
        "    LinearRegression, LogisticRegression, Ridge, Lasso, SGDClassifier \n",
        "from sklearn.model_selection import GridSearchCV, train_test_split\n",
        "from sklearn.neighbors import KNeighborsClassifier\n",
        "from sklearn.tree import DecisionTreeClassifier\n",
        "from sklearn.ensemble import RandomForestClassifier\n",
        "from sklearn.metrics import accuracy_score\n",
        "from sklearn.pipeline import Pipeline\n",
        "from sklearn.preprocessing import StandardScaler, MinMaxScaler, \\\n",
        "    RobustScaler, QuantileTransformer, PowerTransformer, OneHotEncoder\n",
        "from warnings import filterwarnings\n",
        "filterwarnings('ignore')\n",
        "\n",
        "\n",
        "sns.set()"
      ],
      "execution_count": 13,
      "outputs": []
    },
    {
      "cell_type": "markdown",
      "metadata": {
        "id": "G1LtaJr9Mz9q",
        "colab_type": "text"
      },
      "source": [
        "## Задача: с помощью разных моделей добиться лучшего результата на датасете \"Australian Credit Approval\".\n",
        "\n",
        "- Использовать разные методы кодирования категориальных признаков;\n",
        "- Протестировать разные способы нормализации;\n",
        "- Отобрать оптимальной набор признаков для каждой модели."
      ]
    },
    {
      "cell_type": "code",
      "metadata": {
        "colab_type": "code",
        "id": "htJzAor8Iz8b",
        "colab": {}
      },
      "source": [
        "# загрузим данные\n",
        "\n",
        "df = pd.read_csv(\n",
        "    '/content/Australian Credit Approval.txt', \n",
        "    sep=' ', \n",
        "    header=None)\n",
        "df.columns = ['A' + str(i) for i in range(1, 15)] + ['loan']\n",
        "\n",
        "test_size = 200\n",
        "\n",
        "# рандомизируем элементы датасета\n",
        "\n",
        "shuffle = np.array(np.arange(0, 690))\n",
        "random.shuffle(shuffle)\n",
        "\n",
        "df = df.iloc[shuffle, :]"
      ],
      "execution_count": 6,
      "outputs": []
    },
    {
      "cell_type": "code",
      "metadata": {
        "id": "r55zmrEesJnz",
        "colab_type": "code",
        "colab": {
          "base_uri": "https://localhost:8080/",
          "height": 206
        },
        "outputId": "6e5f0dbe-61be-43c4-c56e-d97d801846fc"
      },
      "source": [
        "df.head()"
      ],
      "execution_count": 7,
      "outputs": [
        {
          "output_type": "execute_result",
          "data": {
            "text/html": [
              "<div>\n",
              "<style scoped>\n",
              "    .dataframe tbody tr th:only-of-type {\n",
              "        vertical-align: middle;\n",
              "    }\n",
              "\n",
              "    .dataframe tbody tr th {\n",
              "        vertical-align: top;\n",
              "    }\n",
              "\n",
              "    .dataframe thead th {\n",
              "        text-align: right;\n",
              "    }\n",
              "</style>\n",
              "<table border=\"1\" class=\"dataframe\">\n",
              "  <thead>\n",
              "    <tr style=\"text-align: right;\">\n",
              "      <th></th>\n",
              "      <th>A1</th>\n",
              "      <th>A2</th>\n",
              "      <th>A3</th>\n",
              "      <th>A4</th>\n",
              "      <th>A5</th>\n",
              "      <th>A6</th>\n",
              "      <th>A7</th>\n",
              "      <th>A8</th>\n",
              "      <th>A9</th>\n",
              "      <th>A10</th>\n",
              "      <th>A11</th>\n",
              "      <th>A12</th>\n",
              "      <th>A13</th>\n",
              "      <th>A14</th>\n",
              "      <th>loan</th>\n",
              "    </tr>\n",
              "  </thead>\n",
              "  <tbody>\n",
              "    <tr>\n",
              "      <th>407</th>\n",
              "      <td>0</td>\n",
              "      <td>33.25</td>\n",
              "      <td>3.000</td>\n",
              "      <td>1</td>\n",
              "      <td>6</td>\n",
              "      <td>4</td>\n",
              "      <td>2.000</td>\n",
              "      <td>0</td>\n",
              "      <td>0</td>\n",
              "      <td>0</td>\n",
              "      <td>0</td>\n",
              "      <td>2</td>\n",
              "      <td>180</td>\n",
              "      <td>1</td>\n",
              "      <td>0</td>\n",
              "    </tr>\n",
              "    <tr>\n",
              "      <th>58</th>\n",
              "      <td>1</td>\n",
              "      <td>42.50</td>\n",
              "      <td>4.915</td>\n",
              "      <td>1</td>\n",
              "      <td>9</td>\n",
              "      <td>4</td>\n",
              "      <td>3.165</td>\n",
              "      <td>1</td>\n",
              "      <td>0</td>\n",
              "      <td>0</td>\n",
              "      <td>1</td>\n",
              "      <td>2</td>\n",
              "      <td>52</td>\n",
              "      <td>1443</td>\n",
              "      <td>1</td>\n",
              "    </tr>\n",
              "    <tr>\n",
              "      <th>131</th>\n",
              "      <td>0</td>\n",
              "      <td>20.83</td>\n",
              "      <td>0.500</td>\n",
              "      <td>1</td>\n",
              "      <td>10</td>\n",
              "      <td>2</td>\n",
              "      <td>1.000</td>\n",
              "      <td>0</td>\n",
              "      <td>0</td>\n",
              "      <td>0</td>\n",
              "      <td>0</td>\n",
              "      <td>2</td>\n",
              "      <td>260</td>\n",
              "      <td>1</td>\n",
              "      <td>0</td>\n",
              "    </tr>\n",
              "    <tr>\n",
              "      <th>505</th>\n",
              "      <td>1</td>\n",
              "      <td>19.33</td>\n",
              "      <td>9.500</td>\n",
              "      <td>2</td>\n",
              "      <td>11</td>\n",
              "      <td>4</td>\n",
              "      <td>1.000</td>\n",
              "      <td>1</td>\n",
              "      <td>0</td>\n",
              "      <td>0</td>\n",
              "      <td>1</td>\n",
              "      <td>2</td>\n",
              "      <td>60</td>\n",
              "      <td>401</td>\n",
              "      <td>1</td>\n",
              "    </tr>\n",
              "    <tr>\n",
              "      <th>46</th>\n",
              "      <td>0</td>\n",
              "      <td>24.50</td>\n",
              "      <td>1.750</td>\n",
              "      <td>1</td>\n",
              "      <td>8</td>\n",
              "      <td>4</td>\n",
              "      <td>0.165</td>\n",
              "      <td>0</td>\n",
              "      <td>0</td>\n",
              "      <td>0</td>\n",
              "      <td>0</td>\n",
              "      <td>2</td>\n",
              "      <td>132</td>\n",
              "      <td>1</td>\n",
              "      <td>0</td>\n",
              "    </tr>\n",
              "  </tbody>\n",
              "</table>\n",
              "</div>"
            ],
            "text/plain": [
              "     A1     A2     A3  A4  A5  A6     A7  ...  A9  A10  A11  A12  A13   A14  loan\n",
              "407   0  33.25  3.000   1   6   4  2.000  ...   0    0    0    2  180     1     0\n",
              "58    1  42.50  4.915   1   9   4  3.165  ...   0    0    1    2   52  1443     1\n",
              "131   0  20.83  0.500   1  10   2  1.000  ...   0    0    0    2  260     1     0\n",
              "505   1  19.33  9.500   2  11   4  1.000  ...   0    0    1    2   60   401     1\n",
              "46    0  24.50  1.750   1   8   4  0.165  ...   0    0    0    2  132     1     0\n",
              "\n",
              "[5 rows x 15 columns]"
            ]
          },
          "metadata": {
            "tags": []
          },
          "execution_count": 7
        }
      ]
    },
    {
      "cell_type": "code",
      "metadata": {
        "colab_type": "code",
        "id": "fGiTRzXLnwDB",
        "colab": {
          "base_uri": "https://localhost:8080/",
          "height": 353
        },
        "outputId": "2039a19f-d046-4b45-9cf3-37ba5f598d32"
      },
      "source": [
        "df.info()"
      ],
      "execution_count": null,
      "outputs": [
        {
          "output_type": "stream",
          "text": [
            "<class 'pandas.core.frame.DataFrame'>\n",
            "Int64Index: 690 entries, 407 to 279\n",
            "Data columns (total 15 columns):\n",
            "A1      690 non-null int64\n",
            "A2      690 non-null float64\n",
            "A3      690 non-null float64\n",
            "A4      690 non-null int64\n",
            "A5      690 non-null int64\n",
            "A6      690 non-null int64\n",
            "A7      690 non-null float64\n",
            "A8      690 non-null int64\n",
            "A9      690 non-null int64\n",
            "A10     690 non-null int64\n",
            "A11     690 non-null int64\n",
            "A12     690 non-null int64\n",
            "A13     690 non-null int64\n",
            "A14     690 non-null int64\n",
            "loan    690 non-null int64\n",
            "dtypes: float64(3), int64(12)\n",
            "memory usage: 86.2 KB\n"
          ],
          "name": "stdout"
        }
      ]
    },
    {
      "cell_type": "code",
      "metadata": {
        "id": "WzT8Ubr6NK2O",
        "colab_type": "code",
        "colab": {
          "base_uri": "https://localhost:8080/",
          "height": 195
        },
        "outputId": "7c9d3bc1-701e-4f98-dd37-1830d069e18e"
      },
      "source": [
        "train_df = df.iloc[:-test_size, :]\n",
        "test_df = df.iloc[-test_size:, :]\n",
        "\n",
        "train_df.head()"
      ],
      "execution_count": null,
      "outputs": [
        {
          "output_type": "execute_result",
          "data": {
            "text/html": [
              "<div>\n",
              "<style scoped>\n",
              "    .dataframe tbody tr th:only-of-type {\n",
              "        vertical-align: middle;\n",
              "    }\n",
              "\n",
              "    .dataframe tbody tr th {\n",
              "        vertical-align: top;\n",
              "    }\n",
              "\n",
              "    .dataframe thead th {\n",
              "        text-align: right;\n",
              "    }\n",
              "</style>\n",
              "<table border=\"1\" class=\"dataframe\">\n",
              "  <thead>\n",
              "    <tr style=\"text-align: right;\">\n",
              "      <th></th>\n",
              "      <th>A1</th>\n",
              "      <th>A2</th>\n",
              "      <th>A3</th>\n",
              "      <th>A4</th>\n",
              "      <th>A5</th>\n",
              "      <th>A6</th>\n",
              "      <th>A7</th>\n",
              "      <th>A8</th>\n",
              "      <th>A9</th>\n",
              "      <th>A10</th>\n",
              "      <th>A11</th>\n",
              "      <th>A12</th>\n",
              "      <th>A13</th>\n",
              "      <th>A14</th>\n",
              "      <th>loan</th>\n",
              "    </tr>\n",
              "  </thead>\n",
              "  <tbody>\n",
              "    <tr>\n",
              "      <th>407</th>\n",
              "      <td>0</td>\n",
              "      <td>33.25</td>\n",
              "      <td>3.000</td>\n",
              "      <td>1</td>\n",
              "      <td>6</td>\n",
              "      <td>4</td>\n",
              "      <td>2.000</td>\n",
              "      <td>0</td>\n",
              "      <td>0</td>\n",
              "      <td>0</td>\n",
              "      <td>0</td>\n",
              "      <td>2</td>\n",
              "      <td>180</td>\n",
              "      <td>1</td>\n",
              "      <td>0</td>\n",
              "    </tr>\n",
              "    <tr>\n",
              "      <th>58</th>\n",
              "      <td>1</td>\n",
              "      <td>42.50</td>\n",
              "      <td>4.915</td>\n",
              "      <td>1</td>\n",
              "      <td>9</td>\n",
              "      <td>4</td>\n",
              "      <td>3.165</td>\n",
              "      <td>1</td>\n",
              "      <td>0</td>\n",
              "      <td>0</td>\n",
              "      <td>1</td>\n",
              "      <td>2</td>\n",
              "      <td>52</td>\n",
              "      <td>1443</td>\n",
              "      <td>1</td>\n",
              "    </tr>\n",
              "    <tr>\n",
              "      <th>131</th>\n",
              "      <td>0</td>\n",
              "      <td>20.83</td>\n",
              "      <td>0.500</td>\n",
              "      <td>1</td>\n",
              "      <td>10</td>\n",
              "      <td>2</td>\n",
              "      <td>1.000</td>\n",
              "      <td>0</td>\n",
              "      <td>0</td>\n",
              "      <td>0</td>\n",
              "      <td>0</td>\n",
              "      <td>2</td>\n",
              "      <td>260</td>\n",
              "      <td>1</td>\n",
              "      <td>0</td>\n",
              "    </tr>\n",
              "    <tr>\n",
              "      <th>505</th>\n",
              "      <td>1</td>\n",
              "      <td>19.33</td>\n",
              "      <td>9.500</td>\n",
              "      <td>2</td>\n",
              "      <td>11</td>\n",
              "      <td>4</td>\n",
              "      <td>1.000</td>\n",
              "      <td>1</td>\n",
              "      <td>0</td>\n",
              "      <td>0</td>\n",
              "      <td>1</td>\n",
              "      <td>2</td>\n",
              "      <td>60</td>\n",
              "      <td>401</td>\n",
              "      <td>1</td>\n",
              "    </tr>\n",
              "    <tr>\n",
              "      <th>46</th>\n",
              "      <td>0</td>\n",
              "      <td>24.50</td>\n",
              "      <td>1.750</td>\n",
              "      <td>1</td>\n",
              "      <td>8</td>\n",
              "      <td>4</td>\n",
              "      <td>0.165</td>\n",
              "      <td>0</td>\n",
              "      <td>0</td>\n",
              "      <td>0</td>\n",
              "      <td>0</td>\n",
              "      <td>2</td>\n",
              "      <td>132</td>\n",
              "      <td>1</td>\n",
              "      <td>0</td>\n",
              "    </tr>\n",
              "  </tbody>\n",
              "</table>\n",
              "</div>"
            ],
            "text/plain": [
              "     A1     A2     A3  A4  A5  A6     A7  ...  A9  A10  A11  A12  A13   A14  loan\n",
              "407   0  33.25  3.000   1   6   4  2.000  ...   0    0    0    2  180     1     0\n",
              "58    1  42.50  4.915   1   9   4  3.165  ...   0    0    1    2   52  1443     1\n",
              "131   0  20.83  0.500   1  10   2  1.000  ...   0    0    0    2  260     1     0\n",
              "505   1  19.33  9.500   2  11   4  1.000  ...   0    0    1    2   60   401     1\n",
              "46    0  24.50  1.750   1   8   4  0.165  ...   0    0    0    2  132     1     0\n",
              "\n",
              "[5 rows x 15 columns]"
            ]
          },
          "metadata": {
            "tags": []
          },
          "execution_count": 10
        }
      ]
    },
    {
      "cell_type": "code",
      "metadata": {
        "id": "LnuTWQ-VkzpE",
        "colab_type": "code",
        "colab": {}
      },
      "source": [
        "features = list(df.columns.drop('loan'))\n",
        "target_var = 'loan'"
      ],
      "execution_count": null,
      "outputs": []
    },
    {
      "cell_type": "code",
      "metadata": {
        "id": "I224K98LiZB6",
        "colab_type": "code",
        "colab": {
          "base_uri": "https://localhost:8080/",
          "height": 269
        },
        "outputId": "6ff6b2d7-6b8e-422b-c92f-9b9e42704304"
      },
      "source": [
        "# выберем лучший scaler для KNeighborsClassifier\n",
        "\n",
        "scalers = MinMaxScaler(), StandardScaler(), RobustScaler(), QuantileTransformer(), PowerTransformer()\n",
        "scalers_name = [\n",
        "      'Минимакс(MinMaxScaler)',\n",
        "      'Z-нормализация(StandardScaler)',\n",
        "      'Устойчивая нормализация(RobustScaler)',\n",
        "      'Квантильное преобразование(QuantileTransformer)',\n",
        "      'Степенное преобразование(PowerTransformer)'\n",
        "      ]\n",
        "n = 0\n",
        "  \n",
        "while n < len(scalers_name):\n",
        "    for scaler in scalers:\n",
        "        scaled_train = scaler.fit_transform(train_df[features])\n",
        "        scaled_test = scaler.transform(test_df[features])\n",
        "\n",
        "        knn_model = KNeighborsClassifier()\n",
        "        knn_model.fit(scaled_train, train_df['loan'])\n",
        "        y_pred = knn_model.predict(scaled_test)\n",
        "        acc_knn = accuracy_score(test_df['loan'], y_pred)\n",
        "\n",
        "        print('Scaler:', scalers_name[n])\n",
        "        print('accuracy_score:', acc_knn)\n",
        "        print()\n",
        "        n += 1"
      ],
      "execution_count": null,
      "outputs": [
        {
          "output_type": "stream",
          "text": [
            "Scaler: Минимакс(MinMaxScaler)\n",
            "accuracy_score: 0.83\n",
            "\n",
            "Scaler: Z-нормализация(StandardScaler)\n",
            "accuracy_score: 0.84\n",
            "\n",
            "Scaler: Устойчивая нормализация(RobustScaler)\n",
            "accuracy_score: 0.81\n",
            "\n",
            "Scaler: Квантильное преобразование(QuantileTransformer)\n",
            "accuracy_score: 0.82\n",
            "\n",
            "Scaler: Степенное преобразование(PowerTransformer)\n",
            "accuracy_score: 0.84\n",
            "\n"
          ],
          "name": "stdout"
        }
      ]
    },
    {
      "cell_type": "code",
      "metadata": {
        "id": "fDu2v0DVsROF",
        "colab_type": "code",
        "colab": {}
      },
      "source": [
        "# разделим числовые и категориальные признаки\n",
        "\n",
        "feat_num = ['A2', 'A3', 'A7', 'A10', 'A13', 'A14']\n",
        "feat_cat = ['A1', 'A4', 'A5', 'A6', 'A8', 'A9', 'A11', 'A12']"
      ],
      "execution_count": null,
      "outputs": []
    },
    {
      "cell_type": "code",
      "metadata": {
        "id": "6QBavhG9xtgu",
        "colab_type": "code",
        "colab": {}
      },
      "source": [
        "# к числовым признакам применим z-нормализацию\n",
        "\n",
        "scaler_std = StandardScaler()\n",
        "scaled_train = scaler_std.fit_transform(train_df[feat_num])\n",
        "scaled_test = scaler_std.transform(test_df[feat_num])\n",
        "\n",
        "scaled_train = pd.DataFrame(scaled_train)\n",
        "scaled_train.columns = feat_num\n",
        "scaled_train = pd.concat([scaled_train, train_df[feat_cat].reset_index(), train_df['loan'].reset_index()], axis=1, sort=False)\n",
        "scaled_train.drop(['index'], axis=1, inplace=True)\n",
        "\n",
        "scaled_test = pd.DataFrame(scaled_test)\n",
        "scaled_test.columns = feat_num\n",
        "scaled_test = pd.concat([scaled_test, test_df[feat_cat].reset_index(), test_df['loan'].reset_index()], axis=1, sort=False)\n",
        "scaled_test.drop(['index'], axis=1, inplace=True)"
      ],
      "execution_count": null,
      "outputs": []
    },
    {
      "cell_type": "code",
      "metadata": {
        "id": "-FGl2fuyMuM_",
        "colab_type": "code",
        "colab": {
          "base_uri": "https://localhost:8080/",
          "height": 286
        },
        "outputId": "41ae7b2e-eb89-4329-f094-292df0db3c7b"
      },
      "source": [
        "# для каждого признака выведем степень корреляции с целевой переменной\n",
        "\n",
        "corr_matrix = scaled_train.corr()\n",
        "corr_matrix = corr_matrix['loan']\n",
        "corr_matrix"
      ],
      "execution_count": null,
      "outputs": [
        {
          "output_type": "execute_result",
          "data": {
            "text/plain": [
              "A2      0.168715\n",
              "A3      0.192402\n",
              "A7      0.338011\n",
              "A10     0.386084\n",
              "A13    -0.089429\n",
              "A14     0.175548\n",
              "A1     -0.014093\n",
              "A4      0.214921\n",
              "A5      0.387014\n",
              "A6      0.269119\n",
              "A8      0.735384\n",
              "A9      0.445031\n",
              "A11     0.050711\n",
              "A12     0.094447\n",
              "loan    1.000000\n",
              "Name: loan, dtype: float64"
            ]
          },
          "metadata": {
            "tags": []
          },
          "execution_count": 22
        }
      ]
    },
    {
      "cell_type": "code",
      "metadata": {
        "id": "qn05jn7aNTrT",
        "colab_type": "code",
        "colab": {
          "base_uri": "https://localhost:8080/",
          "height": 286
        },
        "outputId": "d6aa972d-0b75-4ab2-cf63-4e5faa8e97ae"
      },
      "source": [
        "# отсортируем признаки по убыванию корреляции\n",
        "\n",
        "order = corr_matrix.abs().sort_values(ascending = False)\n",
        "order = corr_matrix[order.index]\n",
        "order"
      ],
      "execution_count": null,
      "outputs": [
        {
          "output_type": "execute_result",
          "data": {
            "text/plain": [
              "loan    1.000000\n",
              "A8      0.735384\n",
              "A9      0.445031\n",
              "A5      0.387014\n",
              "A10     0.386084\n",
              "A7      0.338011\n",
              "A6      0.269119\n",
              "A4      0.214921\n",
              "A3      0.192402\n",
              "A14     0.175548\n",
              "A2      0.168715\n",
              "A12     0.094447\n",
              "A13    -0.089429\n",
              "A11     0.050711\n",
              "A1     -0.014093\n",
              "Name: loan, dtype: float64"
            ]
          },
          "metadata": {
            "tags": []
          },
          "execution_count": 23
        }
      ]
    },
    {
      "cell_type": "code",
      "metadata": {
        "id": "f_nrJxeMNYtF",
        "colab_type": "code",
        "colab": {}
      },
      "source": [
        "# сохраним новый порядок признаков в датасете\n",
        "\n",
        "new_features = order.index.drop('loan')\n",
        "new_features = list(new_features)\n",
        "target_var = 'loan'"
      ],
      "execution_count": null,
      "outputs": []
    },
    {
      "cell_type": "code",
      "metadata": {
        "id": "fqK7PAbvEugy",
        "colab_type": "code",
        "colab": {}
      },
      "source": [
        "X_train = scaled_train[new_features]\n",
        "y_train = scaled_train[[target_var]]\n",
        "X_test = scaled_test[new_features]\n",
        "y_test = scaled_test[[target_var]]"
      ],
      "execution_count": null,
      "outputs": []
    },
    {
      "cell_type": "code",
      "metadata": {
        "id": "L8y5_n6HMT_y",
        "colab_type": "code",
        "colab": {
          "base_uri": "https://localhost:8080/",
          "height": 958
        },
        "outputId": "d58c6588-76f9-4116-d3d7-6c23410ac016"
      },
      "source": [
        "# отберем оптимальные признаки и протестируем модели\n",
        "# KNeighborsClassifier\n",
        "\n",
        "knn_model = KNeighborsClassifier()\n",
        "\n",
        "metrics = ['euclidean', 'manhattan', 'chebyshev', 'minkowski']\n",
        "kvalues = list(range(1, 30))\n",
        "cv = 6\n",
        "leaf_size = list(range(1, 50))\n",
        "\n",
        "i = 1\n",
        "q_feat = np.arange(1, 15) # количество признаков\n",
        "\n",
        "while i <= len(new_features):\n",
        "  for q in q_feat:\n",
        "  \n",
        "    gs_knn = GridSearchCV(\n",
        "        knn_model,\n",
        "        param_grid={'n_neighbors': kvalues, 'metric': metrics, 'leaf_size': leaf_size},\n",
        "        cv=cv,\n",
        "        scoring='accuracy'\n",
        "        )\n",
        "    gs_knn.fit(X_train.iloc[:, :i], y_train.to_numpy().ravel())\n",
        "\n",
        "    knn_model = knn_model.set_params(**gs_knn.best_params_)\n",
        "    knn_model.fit(X_train.iloc[:, :i].to_numpy(), y_train.to_numpy().ravel())\n",
        "\n",
        "    y_pred = knn_model.predict(X_test.iloc[:, :i].to_numpy())\n",
        "    acc_knn = accuracy_score(y_test.to_numpy().ravel(), y_pred)\n",
        "\n",
        "    best_parameters = gs_knn.best_params_\n",
        "\n",
        "    print('Количество признаков:', q)\n",
        "    print('best_parameters:', best_parameters)\n",
        "    print('accuracy:', acc_knn)\n",
        "    print()\n",
        "    i += 1"
      ],
      "execution_count": null,
      "outputs": [
        {
          "output_type": "stream",
          "text": [
            "Количество признаков: 1\n",
            "best_parameters: {'leaf_size': 1, 'metric': 'euclidean', 'n_neighbors': 1}\n",
            "accuracy: 0.835\n",
            "\n",
            "Количество признаков: 2\n",
            "best_parameters: {'leaf_size': 13, 'metric': 'euclidean', 'n_neighbors': 17}\n",
            "accuracy: 0.835\n",
            "\n",
            "Количество признаков: 3\n",
            "best_parameters: {'leaf_size': 26, 'metric': 'euclidean', 'n_neighbors': 10}\n",
            "accuracy: 0.86\n",
            "\n",
            "Количество признаков: 4\n",
            "best_parameters: {'leaf_size': 4, 'metric': 'manhattan', 'n_neighbors': 20}\n",
            "accuracy: 0.84\n",
            "\n",
            "Количество признаков: 5\n",
            "best_parameters: {'leaf_size': 7, 'metric': 'euclidean', 'n_neighbors': 3}\n",
            "accuracy: 0.845\n",
            "\n",
            "Количество признаков: 6\n",
            "best_parameters: {'leaf_size': 1, 'metric': 'manhattan', 'n_neighbors': 16}\n",
            "accuracy: 0.84\n",
            "\n",
            "Количество признаков: 7\n",
            "best_parameters: {'leaf_size': 7, 'metric': 'manhattan', 'n_neighbors': 5}\n",
            "accuracy: 0.83\n",
            "\n",
            "Количество признаков: 8\n",
            "best_parameters: {'leaf_size': 1, 'metric': 'manhattan', 'n_neighbors': 27}\n",
            "accuracy: 0.845\n",
            "\n",
            "Количество признаков: 9\n",
            "best_parameters: {'leaf_size': 1, 'metric': 'manhattan', 'n_neighbors': 27}\n",
            "accuracy: 0.835\n",
            "\n",
            "Количество признаков: 10\n",
            "best_parameters: {'leaf_size': 1, 'metric': 'manhattan', 'n_neighbors': 27}\n",
            "accuracy: 0.835\n",
            "\n",
            "Количество признаков: 11\n",
            "best_parameters: {'leaf_size': 1, 'metric': 'manhattan', 'n_neighbors': 23}\n",
            "accuracy: 0.825\n",
            "\n",
            "Количество признаков: 12\n",
            "best_parameters: {'leaf_size': 1, 'metric': 'manhattan', 'n_neighbors': 5}\n",
            "accuracy: 0.82\n",
            "\n",
            "Количество признаков: 13\n",
            "best_parameters: {'leaf_size': 1, 'metric': 'manhattan', 'n_neighbors': 23}\n",
            "accuracy: 0.825\n",
            "\n",
            "Количество признаков: 14\n",
            "best_parameters: {'leaf_size': 1, 'metric': 'manhattan', 'n_neighbors': 9}\n",
            "accuracy: 0.855\n",
            "\n"
          ],
          "name": "stdout"
        }
      ]
    },
    {
      "cell_type": "code",
      "metadata": {
        "id": "TV8YTaT6ojSh",
        "colab_type": "code",
        "colab": {
          "base_uri": "https://localhost:8080/",
          "height": 34
        },
        "outputId": "56684617-86a0-4e5d-b8ce-8d7d2867f253"
      },
      "source": [
        "# лучший результат модель показала на первых 3-х признаках\n",
        "# проверим accuracy, указав параметры из best_params_\n",
        "\n",
        "knn_model = KNeighborsClassifier(leaf_size=26, metric='euclidean', n_neighbors=10)\n",
        "\n",
        "knn_model.fit(X_train.iloc[:, :3].to_numpy(), y_train.to_numpy().ravel())\n",
        "\n",
        "y_pred = knn_model.predict(X_test.iloc[:, :3].to_numpy())\n",
        "acc_knn = accuracy_score(y_test.to_numpy().ravel(), y_pred)\n",
        "\n",
        "print('accuracy:', acc_knn)"
      ],
      "execution_count": null,
      "outputs": [
        {
          "output_type": "stream",
          "text": [
            "accuracy: 0.86\n"
          ],
          "name": "stdout"
        }
      ]
    },
    {
      "cell_type": "code",
      "metadata": {
        "id": "5xg60OXEqU8J",
        "colab_type": "code",
        "colab": {
          "base_uri": "https://localhost:8080/",
          "height": 84
        },
        "outputId": "79e84841-67dd-42fc-c81c-deaa90ecd545"
      },
      "source": [
        "# все признаки, давшие лучший результат, категориальные\n",
        "# применим one-hot кодирование к признакам, у которых больше 2-х уникальных значений\n",
        "\n",
        "X_train.iloc[:, :3].nunique()"
      ],
      "execution_count": null,
      "outputs": [
        {
          "output_type": "execute_result",
          "data": {
            "text/plain": [
              "A8     2\n",
              "A9     2\n",
              "A5    14\n",
              "dtype: int64"
            ]
          },
          "metadata": {
            "tags": []
          },
          "execution_count": 21
        }
      ]
    },
    {
      "cell_type": "code",
      "metadata": {
        "id": "BgMRd8nQudpu",
        "colab_type": "code",
        "colab": {}
      },
      "source": [
        "new_features_2 = list(X_train.iloc[:, :3].columns)"
      ],
      "execution_count": null,
      "outputs": []
    },
    {
      "cell_type": "code",
      "metadata": {
        "id": "SH4pPhU5uVJW",
        "colab_type": "code",
        "colab": {
          "base_uri": "https://localhost:8080/",
          "height": 195
        },
        "outputId": "93c913a9-c301-4277-8c7b-1d744eceb286"
      },
      "source": [
        "X_train_2 = scaled_train[new_features_2]\n",
        "y_train_2 = scaled_train[[target_var]]\n",
        "X_test_2 = scaled_test[new_features_2]\n",
        "y_test_2 = scaled_test[[target_var]]\n",
        "\n",
        "X_train_2.head()"
      ],
      "execution_count": null,
      "outputs": [
        {
          "output_type": "execute_result",
          "data": {
            "text/html": [
              "<div>\n",
              "<style scoped>\n",
              "    .dataframe tbody tr th:only-of-type {\n",
              "        vertical-align: middle;\n",
              "    }\n",
              "\n",
              "    .dataframe tbody tr th {\n",
              "        vertical-align: top;\n",
              "    }\n",
              "\n",
              "    .dataframe thead th {\n",
              "        text-align: right;\n",
              "    }\n",
              "</style>\n",
              "<table border=\"1\" class=\"dataframe\">\n",
              "  <thead>\n",
              "    <tr style=\"text-align: right;\">\n",
              "      <th></th>\n",
              "      <th>A8</th>\n",
              "      <th>A9</th>\n",
              "      <th>A5</th>\n",
              "    </tr>\n",
              "  </thead>\n",
              "  <tbody>\n",
              "    <tr>\n",
              "      <th>0</th>\n",
              "      <td>0</td>\n",
              "      <td>0</td>\n",
              "      <td>6</td>\n",
              "    </tr>\n",
              "    <tr>\n",
              "      <th>1</th>\n",
              "      <td>1</td>\n",
              "      <td>0</td>\n",
              "      <td>9</td>\n",
              "    </tr>\n",
              "    <tr>\n",
              "      <th>2</th>\n",
              "      <td>0</td>\n",
              "      <td>0</td>\n",
              "      <td>10</td>\n",
              "    </tr>\n",
              "    <tr>\n",
              "      <th>3</th>\n",
              "      <td>1</td>\n",
              "      <td>0</td>\n",
              "      <td>11</td>\n",
              "    </tr>\n",
              "    <tr>\n",
              "      <th>4</th>\n",
              "      <td>0</td>\n",
              "      <td>0</td>\n",
              "      <td>8</td>\n",
              "    </tr>\n",
              "  </tbody>\n",
              "</table>\n",
              "</div>"
            ],
            "text/plain": [
              "   A8  A9  A5\n",
              "0   0   0   6\n",
              "1   1   0   9\n",
              "2   0   0  10\n",
              "3   1   0  11\n",
              "4   0   0   8"
            ]
          },
          "metadata": {
            "tags": []
          },
          "execution_count": 26
        }
      ]
    },
    {
      "cell_type": "code",
      "metadata": {
        "id": "ksFHZ2k1147I",
        "colab_type": "code",
        "colab": {}
      },
      "source": [
        "df_encoded_train = pd.get_dummies(X_train_2, prefix='dummy', columns=['A5'])\n",
        "df_encoded_test = pd.get_dummies(X_test_2, prefix='dummy', columns=['A5'])"
      ],
      "execution_count": null,
      "outputs": []
    },
    {
      "cell_type": "code",
      "metadata": {
        "id": "56YCy9YUu8bU",
        "colab_type": "code",
        "colab": {
          "base_uri": "https://localhost:8080/",
          "height": 34
        },
        "outputId": "91f1b4e9-7b9a-489c-e7c1-e83f19b410b2"
      },
      "source": [
        "# обучим модель на новых признаках\n",
        "\n",
        "knn_model = KNeighborsClassifier(leaf_size=26, metric='euclidean', n_neighbors=10)\n",
        "\n",
        "knn_model.fit(df_encoded_train.to_numpy(), y_train_2.to_numpy().ravel())\n",
        "\n",
        "y_pred = knn_model.predict(df_encoded_test.to_numpy())\n",
        "acc_knn = accuracy_score(y_test_2.to_numpy().ravel(), y_pred)\n",
        "\n",
        "print('accuracy:', acc_knn)"
      ],
      "execution_count": null,
      "outputs": [
        {
          "output_type": "stream",
          "text": [
            "accuracy: 0.84\n"
          ],
          "name": "stdout"
        }
      ]
    },
    {
      "cell_type": "code",
      "metadata": {
        "id": "p_jY3XYf1gyS",
        "colab_type": "code",
        "colab": {}
      },
      "source": [
        "# протестируем среднее кодирование\n",
        "\n",
        "df_encode_train = pd.concat([X_train_2, y_train_2.reset_index()], axis=1, sort=False)\n",
        "df_encode_train.drop(['index'], axis=1, inplace=True)\n",
        "\n",
        "df_encode_test = pd.concat([X_test_2, y_test_2.reset_index()], axis=1, sort=False)\n",
        "df_encode_test.drop(['index'], axis=1, inplace=True)\n",
        "\n",
        "mean_encode_train = df_encode_train.groupby('A5')['loan'].mean()\n",
        "mean_encode_test = df_encode_test.groupby('A5')['loan'].mean()\n",
        "\n",
        "df_encode_train.loc[:, 'A5_mean_enc'] = df_encode_train['A5'].map(mean_encode_train)\n",
        "df_encode_train.drop(['A5'], axis=1, inplace=True)\n",
        "df_encode_test.loc[:, 'A5_mean_enc'] = df_encode_test['A5'].map(mean_encode_test)\n",
        "df_encode_test.drop(['A5'], axis=1, inplace=True)"
      ],
      "execution_count": null,
      "outputs": []
    },
    {
      "cell_type": "code",
      "metadata": {
        "id": "VVTrsHU19Gqe",
        "colab_type": "code",
        "colab": {
          "base_uri": "https://localhost:8080/",
          "height": 34
        },
        "outputId": "0bc71791-fa26-46e5-daa0-b3164d0c8508"
      },
      "source": [
        "# обучим модель на новых признаках\n",
        "\n",
        "knn_model = KNeighborsClassifier(leaf_size=26, metric='euclidean', n_neighbors=10)\n",
        "\n",
        "knn_model.fit(df_encode_train.drop(['loan'], axis=1).to_numpy(), df_encode_train['loan'].to_numpy().ravel())\n",
        "\n",
        "y_pred = knn_model.predict(df_encode_test.drop(['loan'], axis=1).to_numpy())\n",
        "acc_knn = accuracy_score(df_encode_test['loan'].to_numpy().ravel(), y_pred)\n",
        "\n",
        "print('accuracy:', acc_knn)"
      ],
      "execution_count": null,
      "outputs": [
        {
          "output_type": "stream",
          "text": [
            "accuracy: 0.865\n"
          ],
          "name": "stdout"
        }
      ]
    },
    {
      "cell_type": "code",
      "metadata": {
        "id": "GWAt88iuUN0z",
        "colab_type": "code",
        "colab": {
          "base_uri": "https://localhost:8080/",
          "height": 958
        },
        "outputId": "d34bdd8a-3645-429b-a033-c253b9d63867"
      },
      "source": [
        "# LogisticRegression\n",
        "\n",
        "log_model = LogisticRegression()\n",
        "\n",
        "C = np.arange(0.1, 10, 0.1)\n",
        "solver = ['newton-cg', 'lbfgs', 'liblinear', 'sag', 'saga']\n",
        "penalty = ['l1', 'l2', 'elasticnet', 'none']\n",
        "cv = 10\n",
        "\n",
        "i = 1\n",
        "q_feat = np.arange(1, 15)\n",
        "\n",
        "while i <= len(new_features):\n",
        "  for q in q_feat:\n",
        "  \n",
        "    gs_log = GridSearchCV(\n",
        "        log_model,\n",
        "        param_grid={'C': C, 'penalty': penalty, 'solver': solver},\n",
        "        cv=cv,\n",
        "        scoring='accuracy',\n",
        "        )\n",
        "    \n",
        "    gs_log.fit(X_train.iloc[:, :i], y_train.to_numpy().ravel())\n",
        "\n",
        "    log_model = log_model.set_params(**gs_log.best_params_)\n",
        "    log_model.fit(X_train.iloc[:, :i].to_numpy(), y_train.to_numpy().ravel())\n",
        "\n",
        "    y_pred_log = log_model.predict(X_test.iloc[:, :i].to_numpy())\n",
        "    acc_log = accuracy_score(y_test.to_numpy().ravel(), y_pred_log)\n",
        "\n",
        "    best_parameters = gs_log.best_params_\n",
        "\n",
        "    print('Количество признаков:', q)\n",
        "    print('best_parameters:', best_parameters)\n",
        "    print('accuracy:', acc_log)\n",
        "    print()\n",
        "    i += 1"
      ],
      "execution_count": null,
      "outputs": [
        {
          "output_type": "stream",
          "text": [
            "Количество признаков: 1\n",
            "best_parameters: {'C': 0.1, 'penalty': 'l1', 'solver': 'liblinear'}\n",
            "accuracy: 0.835\n",
            "\n",
            "Количество признаков: 2\n",
            "best_parameters: {'C': 0.1, 'penalty': 'l1', 'solver': 'liblinear'}\n",
            "accuracy: 0.835\n",
            "\n",
            "Количество признаков: 3\n",
            "best_parameters: {'C': 0.1, 'penalty': 'l1', 'solver': 'saga'}\n",
            "accuracy: 0.835\n",
            "\n",
            "Количество признаков: 4\n",
            "best_parameters: {'C': 0.8, 'penalty': 'l2', 'solver': 'liblinear'}\n",
            "accuracy: 0.835\n",
            "\n",
            "Количество признаков: 5\n",
            "best_parameters: {'C': 0.1, 'penalty': 'none', 'solver': 'newton-cg'}\n",
            "accuracy: 0.83\n",
            "\n",
            "Количество признаков: 6\n",
            "best_parameters: {'C': 0.1, 'penalty': 'l1', 'solver': 'saga'}\n",
            "accuracy: 0.825\n",
            "\n",
            "Количество признаков: 7\n",
            "best_parameters: {'C': 0.30000000000000004, 'penalty': 'l2', 'solver': 'newton-cg'}\n",
            "accuracy: 0.85\n",
            "\n",
            "Количество признаков: 8\n",
            "best_parameters: {'C': 0.4, 'penalty': 'l2', 'solver': 'newton-cg'}\n",
            "accuracy: 0.845\n",
            "\n",
            "Количество признаков: 9\n",
            "best_parameters: {'C': 0.1, 'penalty': 'none', 'solver': 'newton-cg'}\n",
            "accuracy: 0.84\n",
            "\n",
            "Количество признаков: 10\n",
            "best_parameters: {'C': 0.7000000000000001, 'penalty': 'l2', 'solver': 'newton-cg'}\n",
            "accuracy: 0.84\n",
            "\n",
            "Количество признаков: 11\n",
            "best_parameters: {'C': 0.8, 'penalty': 'l1', 'solver': 'liblinear'}\n",
            "accuracy: 0.835\n",
            "\n",
            "Количество признаков: 12\n",
            "best_parameters: {'C': 1.7000000000000002, 'penalty': 'l1', 'solver': 'liblinear'}\n",
            "accuracy: 0.84\n",
            "\n",
            "Количество признаков: 13\n",
            "best_parameters: {'C': 1.7000000000000002, 'penalty': 'l1', 'solver': 'liblinear'}\n",
            "accuracy: 0.84\n",
            "\n",
            "Количество признаков: 14\n",
            "best_parameters: {'C': 1.7000000000000002, 'penalty': 'l1', 'solver': 'liblinear'}\n",
            "accuracy: 0.84\n",
            "\n"
          ],
          "name": "stdout"
        }
      ]
    },
    {
      "cell_type": "code",
      "metadata": {
        "id": "fB42RmeJ3jCV",
        "colab_type": "code",
        "colab": {
          "base_uri": "https://localhost:8080/",
          "height": 34
        },
        "outputId": "7167737e-0c49-4015-fac2-7bf74a1d7e73"
      },
      "source": [
        "# лучший результат модель показала на первых 7-и признаках\n",
        "# проверим accuracy, указав параметры из best_params_\n",
        "\n",
        "log_model = LogisticRegression(C=0.30000000000000004, penalty='l2', solver='newton-cg')\n",
        "\n",
        "log_model.fit(X_train.iloc[:, :7].to_numpy(), y_train.to_numpy().ravel())\n",
        "\n",
        "y_pred = log_model.predict(X_test.iloc[:, :7].to_numpy())\n",
        "acc_log = accuracy_score(y_test.to_numpy().ravel(), y_pred)\n",
        "\n",
        "print('accuracy:', acc_log)"
      ],
      "execution_count": null,
      "outputs": [
        {
          "output_type": "stream",
          "text": [
            "accuracy: 0.85\n"
          ],
          "name": "stdout"
        }
      ]
    },
    {
      "cell_type": "code",
      "metadata": {
        "id": "O-QGFae34Aqz",
        "colab_type": "code",
        "colab": {
          "base_uri": "https://localhost:8080/",
          "height": 151
        },
        "outputId": "62fa5293-394c-4716-e3ab-ce6f20a0f8f3"
      },
      "source": [
        "# применим среднее кодирование к категориальным признакам, у которых больше 2-х уникальных значений\n",
        "\n",
        "X_train.iloc[:, :7].nunique()"
      ],
      "execution_count": null,
      "outputs": [
        {
          "output_type": "execute_result",
          "data": {
            "text/plain": [
              "A8       2\n",
              "A9       2\n",
              "A5      14\n",
              "A10     22\n",
              "A7     114\n",
              "A6       8\n",
              "A4       3\n",
              "dtype: int64"
            ]
          },
          "metadata": {
            "tags": []
          },
          "execution_count": 32
        }
      ]
    },
    {
      "cell_type": "code",
      "metadata": {
        "id": "wILJgG_E4A5f",
        "colab_type": "code",
        "colab": {}
      },
      "source": [
        "new_features_3 = ['A8', 'A9', 'A5', 'A10', 'A7', 'A6', 'A4']"
      ],
      "execution_count": null,
      "outputs": []
    },
    {
      "cell_type": "code",
      "metadata": {
        "id": "LDLEki3p4A8W",
        "colab_type": "code",
        "colab": {}
      },
      "source": [
        "X_train_3 = scaled_train[new_features_3]\n",
        "y_train_3 = scaled_train[[target_var]]\n",
        "X_test_3 = scaled_test[new_features_3]\n",
        "y_test_3 = scaled_test[[target_var]]"
      ],
      "execution_count": null,
      "outputs": []
    },
    {
      "cell_type": "code",
      "metadata": {
        "id": "4E4VACMD4A_h",
        "colab_type": "code",
        "colab": {
          "base_uri": "https://localhost:8080/",
          "height": 195
        },
        "outputId": "24e0a530-1633-4ac3-9675-a19e1ee231cc"
      },
      "source": [
        "df_encode_train = pd.concat([X_train_3, y_train_3.reset_index()], axis=1, sort=False)\n",
        "df_encode_train.drop(['index'], axis=1, inplace=True)\n",
        "\n",
        "df_encode_test = pd.concat([X_test_3, y_test_3.reset_index()], axis=1, sort=False)\n",
        "df_encode_test.drop(['index'], axis=1, inplace=True)\n",
        "\n",
        "mean_encode_train_a5 = df_encode_train.groupby('A5')['loan'].mean()\n",
        "mean_encode_train_a6 = df_encode_train.groupby('A6')['loan'].mean()\n",
        "mean_encode_test_a5 = df_encode_test.groupby('A5')['loan'].mean()\n",
        "mean_encode_test_a6 = df_encode_test.groupby('A6')['loan'].mean()\n",
        "\n",
        "df_encode_train.loc[:, 'A5_mean_enc'] = df_encode_train['A5'].map(mean_encode_train_a5)\n",
        "df_encode_train.drop(['A5'], axis=1, inplace=True)\n",
        "df_encode_train.loc[:, 'A6_mean_enc'] = df_encode_train['A6'].map(mean_encode_train_a6)\n",
        "df_encode_train.drop(['A6'], axis=1, inplace=True)\n",
        "\n",
        "df_encode_test.loc[:, 'A5_mean_enc'] = df_encode_test['A5'].map(mean_encode_test_a5)\n",
        "df_encode_test.drop(['A5'], axis=1, inplace=True)\n",
        "df_encode_test.loc[:, 'A6_mean_enc'] = df_encode_test['A6'].map(mean_encode_test_a6)\n",
        "df_encode_test.drop(['A6'], axis=1, inplace=True)\n",
        "\n",
        "df_encode_train.head()"
      ],
      "execution_count": null,
      "outputs": [
        {
          "output_type": "execute_result",
          "data": {
            "text/html": [
              "<div>\n",
              "<style scoped>\n",
              "    .dataframe tbody tr th:only-of-type {\n",
              "        vertical-align: middle;\n",
              "    }\n",
              "\n",
              "    .dataframe tbody tr th {\n",
              "        vertical-align: top;\n",
              "    }\n",
              "\n",
              "    .dataframe thead th {\n",
              "        text-align: right;\n",
              "    }\n",
              "</style>\n",
              "<table border=\"1\" class=\"dataframe\">\n",
              "  <thead>\n",
              "    <tr style=\"text-align: right;\">\n",
              "      <th></th>\n",
              "      <th>A8</th>\n",
              "      <th>A9</th>\n",
              "      <th>A10</th>\n",
              "      <th>A7</th>\n",
              "      <th>A4</th>\n",
              "      <th>loan</th>\n",
              "      <th>A5_mean_enc</th>\n",
              "      <th>A6_mean_enc</th>\n",
              "    </tr>\n",
              "  </thead>\n",
              "  <tbody>\n",
              "    <tr>\n",
              "      <th>0</th>\n",
              "      <td>0</td>\n",
              "      <td>0</td>\n",
              "      <td>-0.483907</td>\n",
              "      <td>-0.070698</td>\n",
              "      <td>1</td>\n",
              "      <td>0</td>\n",
              "      <td>0.394737</td>\n",
              "      <td>0.45993</td>\n",
              "    </tr>\n",
              "    <tr>\n",
              "      <th>1</th>\n",
              "      <td>1</td>\n",
              "      <td>0</td>\n",
              "      <td>-0.483907</td>\n",
              "      <td>0.273858</td>\n",
              "      <td>1</td>\n",
              "      <td>1</td>\n",
              "      <td>0.619048</td>\n",
              "      <td>0.45993</td>\n",
              "    </tr>\n",
              "    <tr>\n",
              "      <th>2</th>\n",
              "      <td>0</td>\n",
              "      <td>0</td>\n",
              "      <td>-0.483907</td>\n",
              "      <td>-0.366453</td>\n",
              "      <td>1</td>\n",
              "      <td>0</td>\n",
              "      <td>0.600000</td>\n",
              "      <td>0.40000</td>\n",
              "    </tr>\n",
              "    <tr>\n",
              "      <th>3</th>\n",
              "      <td>1</td>\n",
              "      <td>0</td>\n",
              "      <td>-0.483907</td>\n",
              "      <td>-0.366453</td>\n",
              "      <td>2</td>\n",
              "      <td>1</td>\n",
              "      <td>0.660377</td>\n",
              "      <td>0.45993</td>\n",
              "    </tr>\n",
              "    <tr>\n",
              "      <th>4</th>\n",
              "      <td>0</td>\n",
              "      <td>0</td>\n",
              "      <td>-0.483907</td>\n",
              "      <td>-0.613409</td>\n",
              "      <td>1</td>\n",
              "      <td>0</td>\n",
              "      <td>0.467290</td>\n",
              "      <td>0.45993</td>\n",
              "    </tr>\n",
              "  </tbody>\n",
              "</table>\n",
              "</div>"
            ],
            "text/plain": [
              "   A8  A9       A10        A7  A4  loan  A5_mean_enc  A6_mean_enc\n",
              "0   0   0 -0.483907 -0.070698   1     0     0.394737      0.45993\n",
              "1   1   0 -0.483907  0.273858   1     1     0.619048      0.45993\n",
              "2   0   0 -0.483907 -0.366453   1     0     0.600000      0.40000\n",
              "3   1   0 -0.483907 -0.366453   2     1     0.660377      0.45993\n",
              "4   0   0 -0.483907 -0.613409   1     0     0.467290      0.45993"
            ]
          },
          "metadata": {
            "tags": []
          },
          "execution_count": 36
        }
      ]
    },
    {
      "cell_type": "code",
      "metadata": {
        "id": "3B3-wFrf4BLC",
        "colab_type": "code",
        "colab": {
          "base_uri": "https://localhost:8080/",
          "height": 34
        },
        "outputId": "bac661a3-f9f9-4199-c7a3-41432fcdcdec"
      },
      "source": [
        "# обучим модель на новых признаках\n",
        "\n",
        "log_model = LogisticRegression(C=0.30000000000000004, penalty='l2', solver='newton-cg')\n",
        "\n",
        "log_model.fit(df_encode_train.drop(['loan'], axis=1).to_numpy(), df_encode_train['loan'].to_numpy().ravel())\n",
        "\n",
        "y_pred = log_model.predict(df_encode_test.drop(['loan'], axis=1).to_numpy())\n",
        "acc_log = accuracy_score(df_encode_test['loan'].to_numpy().ravel(), y_pred)\n",
        "\n",
        "print('accuracy:', acc_log)"
      ],
      "execution_count": null,
      "outputs": [
        {
          "output_type": "stream",
          "text": [
            "accuracy: 0.84\n"
          ],
          "name": "stdout"
        }
      ]
    },
    {
      "cell_type": "code",
      "metadata": {
        "id": "64W0Of9aAxgg",
        "colab_type": "code",
        "colab": {
          "base_uri": "https://localhost:8080/",
          "height": 269
        },
        "outputId": "7daccd1d-6683-48f1-d2f1-18e6062af857"
      },
      "source": [
        "# выберем лучший scaler для Random Forest\n",
        "\n",
        "scalers = MinMaxScaler(), StandardScaler(), RobustScaler(), QuantileTransformer(), PowerTransformer()\n",
        "scalers_name = [\n",
        "      'Минимакс(MinMaxScaler)',\n",
        "      'Z-нормализация(StandardScaler)',\n",
        "      'Устойчивая нормализация(RobustScaler)',\n",
        "      'Квантильное преобразование(QuantileTransformer)',\n",
        "      'Степенное преобразование(PowerTransformer)'\n",
        "      ]\n",
        "n = 0\n",
        "  \n",
        "while n < len(scalers_name):\n",
        "    for scaler in scalers:\n",
        "        scaled_train = scaler.fit_transform(train_df[features])\n",
        "        scaled_test = scaler.transform(test_df[features])\n",
        "\n",
        "        rf_model = RandomForestClassifier(random_state=7)\n",
        "        rf_model.fit(scaled_train, train_df['loan'])\n",
        "        y_pred = rf_model.predict(scaled_test)\n",
        "        acc_rf = accuracy_score(test_df['loan'], y_pred)\n",
        "\n",
        "        print('Scaler:', scalers_name[n])\n",
        "        print('accuracy_score:', acc_rf)\n",
        "        print()\n",
        "        n += 1"
      ],
      "execution_count": null,
      "outputs": [
        {
          "output_type": "stream",
          "text": [
            "Scaler: Минимакс(MinMaxScaler)\n",
            "accuracy_score: 0.85\n",
            "\n",
            "Scaler: Z-нормализация(StandardScaler)\n",
            "accuracy_score: 0.855\n",
            "\n",
            "Scaler: Устойчивая нормализация(RobustScaler)\n",
            "accuracy_score: 0.855\n",
            "\n",
            "Scaler: Квантильное преобразование(QuantileTransformer)\n",
            "accuracy_score: 0.855\n",
            "\n",
            "Scaler: Степенное преобразование(PowerTransformer)\n",
            "accuracy_score: 0.85\n",
            "\n"
          ],
          "name": "stdout"
        }
      ]
    },
    {
      "cell_type": "code",
      "metadata": {
        "id": "Lu7SH5C0BMqZ",
        "colab_type": "code",
        "colab": {}
      },
      "source": [
        "# к числовым признакам применим квантильное преобразование\n",
        "\n",
        "scaler_mm = QuantileTransformer()\n",
        "scaled_train = scaler_mm.fit_transform(train_df[feat_num])\n",
        "scaled_test = scaler_mm.transform(test_df[feat_num])\n",
        "\n",
        "scaled_train = pd.DataFrame(scaled_train)\n",
        "scaled_train.columns = feat_num\n",
        "scaled_train = pd.concat([scaled_train, train_df[feat_cat].reset_index(), train_df['loan'].reset_index()], axis=1, sort=False)\n",
        "scaled_train.drop(['index'], axis=1, inplace=True)\n",
        "\n",
        "scaled_test = pd.DataFrame(scaled_test)\n",
        "scaled_test.columns = feat_num\n",
        "scaled_test = pd.concat([scaled_test, test_df[feat_cat].reset_index(), test_df['loan'].reset_index()], axis=1, sort=False)\n",
        "scaled_test.drop(['index'], axis=1, inplace=True)"
      ],
      "execution_count": null,
      "outputs": []
    },
    {
      "cell_type": "code",
      "metadata": {
        "id": "CC8bLE85B5LK",
        "colab_type": "code",
        "colab": {}
      },
      "source": [
        "X_train_4 = scaled_train[new_features]\n",
        "y_train_4 = scaled_train[[target_var]]\n",
        "X_test_4 = scaled_test[new_features]\n",
        "y_test_4 = scaled_test[[target_var]]"
      ],
      "execution_count": null,
      "outputs": []
    },
    {
      "cell_type": "code",
      "metadata": {
        "id": "oX4e4pt4BSa3",
        "colab_type": "code",
        "colab": {
          "base_uri": "https://localhost:8080/",
          "height": 958
        },
        "outputId": "160db6e2-11d9-4d19-a9cc-2b37ad9a383b"
      },
      "source": [
        "# Random Forest\n",
        "\n",
        "rf_model = RandomForestClassifier()\n",
        "\n",
        "n_estimators = np.arange(1, 30)\n",
        "max_depth = np.arange(1, 30)\n",
        "cv = 10\n",
        "\n",
        "i = 1\n",
        "q_feat = np.arange(1, 15)\n",
        "\n",
        "while i <= len(new_features):\n",
        "  for q in q_feat:\n",
        "  \n",
        "    gs_rf = GridSearchCV(\n",
        "        rf_model,\n",
        "        param_grid = {'n_estimators': n_estimators,\n",
        "                      'max_depth': max_depth,\n",
        "                      'random_state': [7]\n",
        "                      },\n",
        "                      cv=cv,\n",
        "                      scoring='accuracy',\n",
        "                      n_jobs=-1,\n",
        "                      )\n",
        "    \n",
        "    gs_rf.fit(X_train_4.iloc[:, :i], y_train_4.to_numpy().ravel())\n",
        "    \n",
        "    rf_model = rf_model.set_params(**gs_rf.best_params_)\n",
        "    rf_model.fit(X_train_4.iloc[:, :i].to_numpy(), y_train_4.to_numpy().ravel())\n",
        "    \n",
        "    y_pred_rf = rf_model.predict(X_test_4.iloc[:, :i].to_numpy())\n",
        "    acc_rf = accuracy_score(y_test_4.to_numpy().ravel(), y_pred_rf)\n",
        "\n",
        "    best_parameters = gs_rf.best_params_\n",
        "\n",
        "    print('Количество признаков:', q)\n",
        "    print('best_parameters:', best_parameters)\n",
        "    print('accuracy:', acc_rf)\n",
        "    print()\n",
        "    i += 1"
      ],
      "execution_count": null,
      "outputs": [
        {
          "output_type": "stream",
          "text": [
            "Количество признаков: 1\n",
            "best_parameters: {'max_depth': 1, 'n_estimators': 1, 'random_state': 7}\n",
            "accuracy: 0.835\n",
            "\n",
            "Количество признаков: 2\n",
            "best_parameters: {'max_depth': 1, 'n_estimators': 1, 'random_state': 7}\n",
            "accuracy: 0.835\n",
            "\n",
            "Количество признаков: 3\n",
            "best_parameters: {'max_depth': 2, 'n_estimators': 5, 'random_state': 7}\n",
            "accuracy: 0.835\n",
            "\n",
            "Количество признаков: 4\n",
            "best_parameters: {'max_depth': 3, 'n_estimators': 8, 'random_state': 7}\n",
            "accuracy: 0.835\n",
            "\n",
            "Количество признаков: 5\n",
            "best_parameters: {'max_depth': 8, 'n_estimators': 24, 'random_state': 7}\n",
            "accuracy: 0.81\n",
            "\n",
            "Количество признаков: 6\n",
            "best_parameters: {'max_depth': 3, 'n_estimators': 24, 'random_state': 7}\n",
            "accuracy: 0.835\n",
            "\n",
            "Количество признаков: 7\n",
            "best_parameters: {'max_depth': 8, 'n_estimators': 29, 'random_state': 7}\n",
            "accuracy: 0.83\n",
            "\n",
            "Количество признаков: 8\n",
            "best_parameters: {'max_depth': 8, 'n_estimators': 14, 'random_state': 7}\n",
            "accuracy: 0.85\n",
            "\n",
            "Количество признаков: 9\n",
            "best_parameters: {'max_depth': 7, 'n_estimators': 29, 'random_state': 7}\n",
            "accuracy: 0.845\n",
            "\n",
            "Количество признаков: 10\n",
            "best_parameters: {'max_depth': 16, 'n_estimators': 15, 'random_state': 7}\n",
            "accuracy: 0.835\n",
            "\n",
            "Количество признаков: 11\n",
            "best_parameters: {'max_depth': 9, 'n_estimators': 18, 'random_state': 7}\n",
            "accuracy: 0.86\n",
            "\n",
            "Количество признаков: 12\n",
            "best_parameters: {'max_depth': 5, 'n_estimators': 11, 'random_state': 7}\n",
            "accuracy: 0.845\n",
            "\n",
            "Количество признаков: 13\n",
            "best_parameters: {'max_depth': 8, 'n_estimators': 19, 'random_state': 7}\n",
            "accuracy: 0.855\n",
            "\n",
            "Количество признаков: 14\n",
            "best_parameters: {'max_depth': 11, 'n_estimators': 9, 'random_state': 7}\n",
            "accuracy: 0.86\n",
            "\n"
          ],
          "name": "stdout"
        }
      ]
    },
    {
      "cell_type": "code",
      "metadata": {
        "id": "-uit4nbROHIF",
        "colab_type": "code",
        "colab": {
          "base_uri": "https://localhost:8080/",
          "height": 34
        },
        "outputId": "4a4fabdc-f13a-43cc-e8f9-acae82a7f7c7"
      },
      "source": [
        "# лучший результат модель показала на первых 11-и признаках\n",
        "# проверим accuracy, указав параметры из best_params_\n",
        "\n",
        "rf_model = RandomForestClassifier(max_depth=9, n_estimators=18, random_state=7)\n",
        "\n",
        "rf_model.fit(X_train_4.iloc[:, :11].to_numpy(), y_train_4.to_numpy().ravel())\n",
        "\n",
        "y_pred = rf_model.predict(X_test_4.iloc[:, :11].to_numpy())\n",
        "acc_rf = accuracy_score(y_test_4.to_numpy().ravel(), y_pred)\n",
        "\n",
        "print('accuracy:', acc_rf)"
      ],
      "execution_count": null,
      "outputs": [
        {
          "output_type": "stream",
          "text": [
            "accuracy: 0.86\n"
          ],
          "name": "stdout"
        }
      ]
    },
    {
      "cell_type": "code",
      "metadata": {
        "id": "cfB0Mo86PSI5",
        "colab_type": "code",
        "colab": {
          "base_uri": "https://localhost:8080/",
          "height": 168
        },
        "outputId": "366adbba-f2c0-4b59-b8db-f06895e9df9d"
      },
      "source": [
        "# применим частотное кодирование к категориальным признакам, у которых больше 2-х уникальных значений\n",
        "\n",
        "X_train_4[feat_cat].iloc[:, :11].nunique() > 2"
      ],
      "execution_count": null,
      "outputs": [
        {
          "output_type": "execute_result",
          "data": {
            "text/plain": [
              "A1     False\n",
              "A4      True\n",
              "A5      True\n",
              "A6      True\n",
              "A8     False\n",
              "A9     False\n",
              "A11    False\n",
              "A12     True\n",
              "dtype: bool"
            ]
          },
          "metadata": {
            "tags": []
          },
          "execution_count": 116
        }
      ]
    },
    {
      "cell_type": "code",
      "metadata": {
        "id": "9RlflM_WPUtk",
        "colab_type": "code",
        "colab": {}
      },
      "source": [
        "new_features_4 = X_train_4.iloc[:, :11].columns"
      ],
      "execution_count": null,
      "outputs": []
    },
    {
      "cell_type": "code",
      "metadata": {
        "id": "58B8n-NoPXOd",
        "colab_type": "code",
        "colab": {}
      },
      "source": [
        "X_train_5 = scaled_train[new_features_4]\n",
        "y_train_5 = scaled_train[[target_var]]\n",
        "X_test_5 = scaled_test[new_features_4]\n",
        "y_test_5 = scaled_test[[target_var]]"
      ],
      "execution_count": null,
      "outputs": []
    },
    {
      "cell_type": "code",
      "metadata": {
        "id": "WNN_FDygy9MX",
        "colab_type": "code",
        "colab": {
          "base_uri": "https://localhost:8080/",
          "height": 195
        },
        "outputId": "d86d5c2f-7837-4db9-8dcc-fbc748245329"
      },
      "source": [
        "for col in X_train_5[['A4', 'A5', 'A6', 'A12']]:\n",
        "  freq_encoded = X_train_5.groupby(col).size() / len(X_train_5)\n",
        "  X_train_5.loc[:, col] = X_train_5[col].map(freq_encoded)\n",
        "\n",
        "for col in X_test_5[['A4', 'A5', 'A6', 'A12']]:\n",
        "  freq_encoded = X_test_5.groupby(col).size() / len(X_test_5)\n",
        "  X_test_5.loc[:, col] = X_test_5[col].map(freq_encoded)\n",
        "\n",
        "X_train_5.head()"
      ],
      "execution_count": null,
      "outputs": [
        {
          "output_type": "execute_result",
          "data": {
            "text/html": [
              "<div>\n",
              "<style scoped>\n",
              "    .dataframe tbody tr th:only-of-type {\n",
              "        vertical-align: middle;\n",
              "    }\n",
              "\n",
              "    .dataframe tbody tr th {\n",
              "        vertical-align: top;\n",
              "    }\n",
              "\n",
              "    .dataframe thead th {\n",
              "        text-align: right;\n",
              "    }\n",
              "</style>\n",
              "<table border=\"1\" class=\"dataframe\">\n",
              "  <thead>\n",
              "    <tr style=\"text-align: right;\">\n",
              "      <th></th>\n",
              "      <th>A8</th>\n",
              "      <th>A9</th>\n",
              "      <th>A5</th>\n",
              "      <th>A10</th>\n",
              "      <th>A7</th>\n",
              "      <th>A6</th>\n",
              "      <th>A4</th>\n",
              "      <th>A3</th>\n",
              "      <th>A14</th>\n",
              "      <th>A2</th>\n",
              "      <th>A12</th>\n",
              "    </tr>\n",
              "  </thead>\n",
              "  <tbody>\n",
              "    <tr>\n",
              "      <th>0</th>\n",
              "      <td>0</td>\n",
              "      <td>0</td>\n",
              "      <td>0.077551</td>\n",
              "      <td>0.0</td>\n",
              "      <td>0.660532</td>\n",
              "      <td>0.585714</td>\n",
              "      <td>0.246939</td>\n",
              "      <td>0.507157</td>\n",
              "      <td>0.000000</td>\n",
              "      <td>0.630879</td>\n",
              "      <td>0.910204</td>\n",
              "    </tr>\n",
              "    <tr>\n",
              "      <th>1</th>\n",
              "      <td>1</td>\n",
              "      <td>0</td>\n",
              "      <td>0.085714</td>\n",
              "      <td>0.0</td>\n",
              "      <td>0.780164</td>\n",
              "      <td>0.585714</td>\n",
              "      <td>0.246939</td>\n",
              "      <td>0.617587</td>\n",
              "      <td>0.875256</td>\n",
              "      <td>0.842536</td>\n",
              "      <td>0.910204</td>\n",
              "    </tr>\n",
              "    <tr>\n",
              "      <th>2</th>\n",
              "      <td>0</td>\n",
              "      <td>0</td>\n",
              "      <td>0.040816</td>\n",
              "      <td>0.0</td>\n",
              "      <td>0.490798</td>\n",
              "      <td>0.020408</td>\n",
              "      <td>0.246939</td>\n",
              "      <td>0.118609</td>\n",
              "      <td>0.000000</td>\n",
              "      <td>0.179959</td>\n",
              "      <td>0.910204</td>\n",
              "    </tr>\n",
              "    <tr>\n",
              "      <th>3</th>\n",
              "      <td>1</td>\n",
              "      <td>0</td>\n",
              "      <td>0.108163</td>\n",
              "      <td>0.0</td>\n",
              "      <td>0.490798</td>\n",
              "      <td>0.585714</td>\n",
              "      <td>0.751020</td>\n",
              "      <td>0.791411</td>\n",
              "      <td>0.737219</td>\n",
              "      <td>0.099182</td>\n",
              "      <td>0.910204</td>\n",
              "    </tr>\n",
              "    <tr>\n",
              "      <th>4</th>\n",
              "      <td>0</td>\n",
              "      <td>0</td>\n",
              "      <td>0.218367</td>\n",
              "      <td>0.0</td>\n",
              "      <td>0.255624</td>\n",
              "      <td>0.585714</td>\n",
              "      <td>0.246939</td>\n",
              "      <td>0.368098</td>\n",
              "      <td>0.000000</td>\n",
              "      <td>0.347648</td>\n",
              "      <td>0.910204</td>\n",
              "    </tr>\n",
              "  </tbody>\n",
              "</table>\n",
              "</div>"
            ],
            "text/plain": [
              "   A8  A9        A5  A10  ...        A3       A14        A2       A12\n",
              "0   0   0  0.077551  0.0  ...  0.507157  0.000000  0.630879  0.910204\n",
              "1   1   0  0.085714  0.0  ...  0.617587  0.875256  0.842536  0.910204\n",
              "2   0   0  0.040816  0.0  ...  0.118609  0.000000  0.179959  0.910204\n",
              "3   1   0  0.108163  0.0  ...  0.791411  0.737219  0.099182  0.910204\n",
              "4   0   0  0.218367  0.0  ...  0.368098  0.000000  0.347648  0.910204\n",
              "\n",
              "[5 rows x 11 columns]"
            ]
          },
          "metadata": {
            "tags": []
          },
          "execution_count": 121
        }
      ]
    },
    {
      "cell_type": "code",
      "metadata": {
        "id": "_RIHWbTSPeUL",
        "colab_type": "code",
        "colab": {
          "base_uri": "https://localhost:8080/",
          "height": 34
        },
        "outputId": "29697226-ce4f-4928-f768-e40878d00d0e"
      },
      "source": [
        "# обучим модель на новых признаках\n",
        "\n",
        "rf_model = RandomForestClassifier(max_depth=9, n_estimators=18, random_state=7)\n",
        "\n",
        "rf_model.fit(X_train_5.to_numpy(), y_train_5.to_numpy().ravel())\n",
        "\n",
        "y_pred = rf_model.predict(X_test_5.to_numpy())\n",
        "acc_rf = accuracy_score(y_test_5.to_numpy().ravel(), y_pred)\n",
        "\n",
        "print('accuracy:', acc_rf)"
      ],
      "execution_count": null,
      "outputs": [
        {
          "output_type": "stream",
          "text": [
            "accuracy: 0.83\n"
          ],
          "name": "stdout"
        }
      ]
    },
    {
      "cell_type": "markdown",
      "metadata": {
        "id": "wmkHMiJ515Ql",
        "colab_type": "text"
      },
      "source": [
        "###Лучший accuracy (0.865) показала модель KNeighborsClassifier на первых трех признаках с наибольшими значениями корреляции с целевой переменной и применении среднего кодирования к категориальным признакам."
      ]
    }
  ]
}