{
  "nbformat": 4,
  "nbformat_minor": 0,
  "metadata": {
    "kernelspec": {
      "display_name": "Python 3",
      "language": "python",
      "name": "python3"
    },
    "language_info": {
      "codemirror_mode": {
        "name": "ipython",
        "version": 3
      },
      "file_extension": ".py",
      "mimetype": "text/x-python",
      "name": "python",
      "nbconvert_exporter": "python",
      "pygments_lexer": "ipython3",
      "version": "3.6.9"
    },
    "colab": {
      "name": "Чупрова_hw5.ipynb",
      "provenance": [],
      "collapsed_sections": []
    }
  },
  "cells": [
    {
      "cell_type": "code",
      "metadata": {
        "id": "JjoncmQD14sB",
        "colab_type": "code",
        "colab": {
          "base_uri": "https://localhost:8080/",
          "height": 73
        },
        "outputId": "ad14803c-2f92-4496-85df-7426e6ec1011"
      },
      "source": [
        "%matplotlib inline\n",
        "\n",
        "\n",
        "import warnings\n",
        "\n",
        "import matplotlib.pyplot as plt\n",
        "import numpy as np\n",
        "import pandas as pd\n",
        "import seaborn as sns\n",
        "from sklearn.linear_model import LogisticRegression\n",
        "from sklearn.neighbors import KNeighborsClassifier\n",
        "from sklearn.preprocessing import StandardScaler, MinMaxScaler, \\\n",
        "    RobustScaler, QuantileTransformer, PowerTransformer, OneHotEncoder\n",
        "from sklearn.metrics import accuracy_score, f1_score\n",
        "from sklearn.model_selection import GridSearchCV, train_test_split, \\\n",
        "    RandomizedSearchCV, cross_val_score\n",
        "from sklearn.naive_bayes import CategoricalNB, MultinomialNB, \\\n",
        "    GaussianNB, BernoulliNB\n",
        "from sklearn.svm import SVC, LinearSVC\n",
        "from sklearn.pipeline import Pipeline\n",
        "from sklearn.pipeline import make_pipeline\n",
        "from sklearn.preprocessing import FunctionTransformer, LabelEncoder, \\\n",
        "    KBinsDiscretizer, OrdinalEncoder \n",
        "from sklearn.impute import SimpleImputer\n",
        "from warnings import filterwarnings\n",
        "filterwarnings('ignore')"
      ],
      "execution_count": 1,
      "outputs": [
        {
          "output_type": "stream",
          "name": "stderr"
        }
      ]
    },
    {
      "cell_type": "markdown",
      "metadata": {
        "id": "UQDjbDDh14sk",
        "colab_type": "text"
      },
      "source": [
        "## Работа с признаками\n",
        "\n",
        "- Попробуйте разные способы работы с недостающими признаками: удаление, присвоение наиболее правдоподобного значения, введение новой категории для недостающих признаков.\n",
        "\n",
        "- Попробуйте разные методы подготовки признаков.\n",
        "\n",
        "- Примените SVM к датасету [Adult](https://archive.ics.uci.edu/ml/datasets/Adult), попробуйте все доступные ядра, подберите для них параметры.\n",
        "\n",
        "- Подберите лучшую модель для датасета Adult."
      ]
    },
    {
      "cell_type": "code",
      "metadata": {
        "id": "nrUvHCyH14sl",
        "colab_type": "code",
        "colab": {}
      },
      "source": [
        "train_url_adult = 'https://raw.githubusercontent.com/Katalinach/ML-Datasets/master/adult_train.csv?token=ANTWLAABFUFCLHVFP7YCZ4C7GWCQM'\n",
        "train_df_adult = pd.read_csv(train_url_adult)"
      ],
      "execution_count": 4,
      "outputs": []
    },
    {
      "cell_type": "code",
      "metadata": {
        "id": "RTa9roKh14so",
        "colab_type": "code",
        "colab": {}
      },
      "source": [
        "test_url_adult = 'https://raw.githubusercontent.com/Katalinach/ML-Datasets/master/adult_test.csv?token=ANTWLAFGIT6LH3Y7URRNC627GWCSS'\n",
        "test_df_adult = pd.read_csv(test_url_adult)"
      ],
      "execution_count": 5,
      "outputs": []
    },
    {
      "cell_type": "code",
      "metadata": {
        "id": "PO6S4XgB14sr",
        "colab_type": "code",
        "colab": {}
      },
      "source": [
        "# возьмем датасет целиком\n",
        "\n",
        "size_adult = train_df_adult.shape[0]\n",
        "df_adult = pd.concat([train_df_adult, test_df_adult], axis=0)"
      ],
      "execution_count": 6,
      "outputs": []
    },
    {
      "cell_type": "code",
      "metadata": {
        "id": "CWvX8QNytBj2",
        "colab_type": "code",
        "colab": {
          "base_uri": "https://localhost:8080/",
          "height": 293
        },
        "outputId": "8cf34fa2-b25c-4a2a-fe05-32f631dda3d6"
      },
      "source": [
        "df_adult.head()"
      ],
      "execution_count": 7,
      "outputs": [
        {
          "output_type": "execute_result",
          "data": {
            "text/html": [
              "<div>\n",
              "<style scoped>\n",
              "    .dataframe tbody tr th:only-of-type {\n",
              "        vertical-align: middle;\n",
              "    }\n",
              "\n",
              "    .dataframe tbody tr th {\n",
              "        vertical-align: top;\n",
              "    }\n",
              "\n",
              "    .dataframe thead th {\n",
              "        text-align: right;\n",
              "    }\n",
              "</style>\n",
              "<table border=\"1\" class=\"dataframe\">\n",
              "  <thead>\n",
              "    <tr style=\"text-align: right;\">\n",
              "      <th></th>\n",
              "      <th>age</th>\n",
              "      <th>workclass</th>\n",
              "      <th>fnlwgt</th>\n",
              "      <th>education</th>\n",
              "      <th>education_num</th>\n",
              "      <th>marital_status</th>\n",
              "      <th>occupation</th>\n",
              "      <th>relationship</th>\n",
              "      <th>race</th>\n",
              "      <th>sex</th>\n",
              "      <th>capital-gain</th>\n",
              "      <th>capital-loss</th>\n",
              "      <th>hours-per-week</th>\n",
              "      <th>native-country</th>\n",
              "      <th>class</th>\n",
              "    </tr>\n",
              "  </thead>\n",
              "  <tbody>\n",
              "    <tr>\n",
              "      <th>0</th>\n",
              "      <td>39</td>\n",
              "      <td>State-gov</td>\n",
              "      <td>77516</td>\n",
              "      <td>Bachelors</td>\n",
              "      <td>13</td>\n",
              "      <td>Never-married</td>\n",
              "      <td>Adm-clerical</td>\n",
              "      <td>Not-in-family</td>\n",
              "      <td>White</td>\n",
              "      <td>Male</td>\n",
              "      <td>2174</td>\n",
              "      <td>0</td>\n",
              "      <td>40</td>\n",
              "      <td>United-States</td>\n",
              "      <td>&lt;=50K</td>\n",
              "    </tr>\n",
              "    <tr>\n",
              "      <th>1</th>\n",
              "      <td>50</td>\n",
              "      <td>Self-emp-not-inc</td>\n",
              "      <td>83311</td>\n",
              "      <td>Bachelors</td>\n",
              "      <td>13</td>\n",
              "      <td>Married-civ-spouse</td>\n",
              "      <td>Exec-managerial</td>\n",
              "      <td>Husband</td>\n",
              "      <td>White</td>\n",
              "      <td>Male</td>\n",
              "      <td>0</td>\n",
              "      <td>0</td>\n",
              "      <td>13</td>\n",
              "      <td>United-States</td>\n",
              "      <td>&lt;=50K</td>\n",
              "    </tr>\n",
              "    <tr>\n",
              "      <th>2</th>\n",
              "      <td>38</td>\n",
              "      <td>Private</td>\n",
              "      <td>215646</td>\n",
              "      <td>HS-grad</td>\n",
              "      <td>9</td>\n",
              "      <td>Divorced</td>\n",
              "      <td>Handlers-cleaners</td>\n",
              "      <td>Not-in-family</td>\n",
              "      <td>White</td>\n",
              "      <td>Male</td>\n",
              "      <td>0</td>\n",
              "      <td>0</td>\n",
              "      <td>40</td>\n",
              "      <td>United-States</td>\n",
              "      <td>&lt;=50K</td>\n",
              "    </tr>\n",
              "    <tr>\n",
              "      <th>3</th>\n",
              "      <td>53</td>\n",
              "      <td>Private</td>\n",
              "      <td>234721</td>\n",
              "      <td>11th</td>\n",
              "      <td>7</td>\n",
              "      <td>Married-civ-spouse</td>\n",
              "      <td>Handlers-cleaners</td>\n",
              "      <td>Husband</td>\n",
              "      <td>Black</td>\n",
              "      <td>Male</td>\n",
              "      <td>0</td>\n",
              "      <td>0</td>\n",
              "      <td>40</td>\n",
              "      <td>United-States</td>\n",
              "      <td>&lt;=50K</td>\n",
              "    </tr>\n",
              "    <tr>\n",
              "      <th>4</th>\n",
              "      <td>28</td>\n",
              "      <td>Private</td>\n",
              "      <td>338409</td>\n",
              "      <td>Bachelors</td>\n",
              "      <td>13</td>\n",
              "      <td>Married-civ-spouse</td>\n",
              "      <td>Prof-specialty</td>\n",
              "      <td>Wife</td>\n",
              "      <td>Black</td>\n",
              "      <td>Female</td>\n",
              "      <td>0</td>\n",
              "      <td>0</td>\n",
              "      <td>40</td>\n",
              "      <td>Cuba</td>\n",
              "      <td>&lt;=50K</td>\n",
              "    </tr>\n",
              "  </tbody>\n",
              "</table>\n",
              "</div>"
            ],
            "text/plain": [
              "   age         workclass  fnlwgt  ... hours-per-week  native-country  class\n",
              "0   39         State-gov   77516  ...             40   United-States  <=50K\n",
              "1   50  Self-emp-not-inc   83311  ...             13   United-States  <=50K\n",
              "2   38           Private  215646  ...             40   United-States  <=50K\n",
              "3   53           Private  234721  ...             40   United-States  <=50K\n",
              "4   28           Private  338409  ...             40            Cuba  <=50K\n",
              "\n",
              "[5 rows x 15 columns]"
            ]
          },
          "metadata": {
            "tags": []
          },
          "execution_count": 7
        }
      ]
    },
    {
      "cell_type": "code",
      "metadata": {
        "id": "rhtRWhXntKUw",
        "colab_type": "code",
        "colab": {
          "base_uri": "https://localhost:8080/",
          "height": 300
        },
        "outputId": "2dd22620-623b-4da1-a441-6e7257ff2e88"
      },
      "source": [
        "df_adult.describe()"
      ],
      "execution_count": 8,
      "outputs": [
        {
          "output_type": "execute_result",
          "data": {
            "text/html": [
              "<div>\n",
              "<style scoped>\n",
              "    .dataframe tbody tr th:only-of-type {\n",
              "        vertical-align: middle;\n",
              "    }\n",
              "\n",
              "    .dataframe tbody tr th {\n",
              "        vertical-align: top;\n",
              "    }\n",
              "\n",
              "    .dataframe thead th {\n",
              "        text-align: right;\n",
              "    }\n",
              "</style>\n",
              "<table border=\"1\" class=\"dataframe\">\n",
              "  <thead>\n",
              "    <tr style=\"text-align: right;\">\n",
              "      <th></th>\n",
              "      <th>age</th>\n",
              "      <th>fnlwgt</th>\n",
              "      <th>education_num</th>\n",
              "      <th>capital-gain</th>\n",
              "      <th>capital-loss</th>\n",
              "      <th>hours-per-week</th>\n",
              "    </tr>\n",
              "  </thead>\n",
              "  <tbody>\n",
              "    <tr>\n",
              "      <th>count</th>\n",
              "      <td>48842.000000</td>\n",
              "      <td>4.884200e+04</td>\n",
              "      <td>48842.000000</td>\n",
              "      <td>48842.000000</td>\n",
              "      <td>48842.000000</td>\n",
              "      <td>48842.000000</td>\n",
              "    </tr>\n",
              "    <tr>\n",
              "      <th>mean</th>\n",
              "      <td>38.643585</td>\n",
              "      <td>1.896641e+05</td>\n",
              "      <td>10.078089</td>\n",
              "      <td>1079.067626</td>\n",
              "      <td>87.502314</td>\n",
              "      <td>40.422382</td>\n",
              "    </tr>\n",
              "    <tr>\n",
              "      <th>std</th>\n",
              "      <td>13.710510</td>\n",
              "      <td>1.056040e+05</td>\n",
              "      <td>2.570973</td>\n",
              "      <td>7452.019058</td>\n",
              "      <td>403.004552</td>\n",
              "      <td>12.391444</td>\n",
              "    </tr>\n",
              "    <tr>\n",
              "      <th>min</th>\n",
              "      <td>17.000000</td>\n",
              "      <td>1.228500e+04</td>\n",
              "      <td>1.000000</td>\n",
              "      <td>0.000000</td>\n",
              "      <td>0.000000</td>\n",
              "      <td>1.000000</td>\n",
              "    </tr>\n",
              "    <tr>\n",
              "      <th>25%</th>\n",
              "      <td>28.000000</td>\n",
              "      <td>1.175505e+05</td>\n",
              "      <td>9.000000</td>\n",
              "      <td>0.000000</td>\n",
              "      <td>0.000000</td>\n",
              "      <td>40.000000</td>\n",
              "    </tr>\n",
              "    <tr>\n",
              "      <th>50%</th>\n",
              "      <td>37.000000</td>\n",
              "      <td>1.781445e+05</td>\n",
              "      <td>10.000000</td>\n",
              "      <td>0.000000</td>\n",
              "      <td>0.000000</td>\n",
              "      <td>40.000000</td>\n",
              "    </tr>\n",
              "    <tr>\n",
              "      <th>75%</th>\n",
              "      <td>48.000000</td>\n",
              "      <td>2.376420e+05</td>\n",
              "      <td>12.000000</td>\n",
              "      <td>0.000000</td>\n",
              "      <td>0.000000</td>\n",
              "      <td>45.000000</td>\n",
              "    </tr>\n",
              "    <tr>\n",
              "      <th>max</th>\n",
              "      <td>90.000000</td>\n",
              "      <td>1.490400e+06</td>\n",
              "      <td>16.000000</td>\n",
              "      <td>99999.000000</td>\n",
              "      <td>4356.000000</td>\n",
              "      <td>99.000000</td>\n",
              "    </tr>\n",
              "  </tbody>\n",
              "</table>\n",
              "</div>"
            ],
            "text/plain": [
              "                age        fnlwgt  ...  capital-loss  hours-per-week\n",
              "count  48842.000000  4.884200e+04  ...  48842.000000    48842.000000\n",
              "mean      38.643585  1.896641e+05  ...     87.502314       40.422382\n",
              "std       13.710510  1.056040e+05  ...    403.004552       12.391444\n",
              "min       17.000000  1.228500e+04  ...      0.000000        1.000000\n",
              "25%       28.000000  1.175505e+05  ...      0.000000       40.000000\n",
              "50%       37.000000  1.781445e+05  ...      0.000000       40.000000\n",
              "75%       48.000000  2.376420e+05  ...      0.000000       45.000000\n",
              "max       90.000000  1.490400e+06  ...   4356.000000       99.000000\n",
              "\n",
              "[8 rows x 6 columns]"
            ]
          },
          "metadata": {
            "tags": []
          },
          "execution_count": 8
        }
      ]
    },
    {
      "cell_type": "code",
      "metadata": {
        "id": "2UnchYOl1uSG",
        "colab_type": "code",
        "colab": {
          "base_uri": "https://localhost:8080/",
          "height": 417
        },
        "outputId": "709edd92-023e-4603-d772-15c29b5c1b9b"
      },
      "source": [
        "df_adult.info() # общая информация о датасете"
      ],
      "execution_count": 9,
      "outputs": [
        {
          "output_type": "stream",
          "text": [
            "<class 'pandas.core.frame.DataFrame'>\n",
            "Int64Index: 48842 entries, 0 to 16280\n",
            "Data columns (total 15 columns):\n",
            " #   Column          Non-Null Count  Dtype \n",
            "---  ------          --------------  ----- \n",
            " 0   age             48842 non-null  int64 \n",
            " 1   workclass       48842 non-null  object\n",
            " 2   fnlwgt          48842 non-null  int64 \n",
            " 3   education       48842 non-null  object\n",
            " 4   education_num   48842 non-null  int64 \n",
            " 5   marital_status  48842 non-null  object\n",
            " 6   occupation      48842 non-null  object\n",
            " 7   relationship    48842 non-null  object\n",
            " 8   race            48842 non-null  object\n",
            " 9   sex             48842 non-null  object\n",
            " 10  capital-gain    48842 non-null  int64 \n",
            " 11  capital-loss    48842 non-null  int64 \n",
            " 12  hours-per-week  48842 non-null  int64 \n",
            " 13  native-country  48842 non-null  object\n",
            " 14  class           48842 non-null  object\n",
            "dtypes: int64(6), object(9)\n",
            "memory usage: 6.0+ MB\n"
          ],
          "name": "stdout"
        }
      ]
    },
    {
      "cell_type": "code",
      "metadata": {
        "id": "99oKt1cM0pd-",
        "colab_type": "code",
        "colab": {
          "base_uri": "https://localhost:8080/",
          "height": 308
        },
        "outputId": "5dd1aaf5-9962-4184-9991-2e1943a9a23e"
      },
      "source": [
        "df_adult.nunique() # количество уникальных значений признака"
      ],
      "execution_count": 10,
      "outputs": [
        {
          "output_type": "execute_result",
          "data": {
            "text/plain": [
              "age                  74\n",
              "workclass             9\n",
              "fnlwgt            28523\n",
              "education            16\n",
              "education_num        16\n",
              "marital_status        7\n",
              "occupation           15\n",
              "relationship          6\n",
              "race                  5\n",
              "sex                   2\n",
              "capital-gain        123\n",
              "capital-loss         99\n",
              "hours-per-week       96\n",
              "native-country       42\n",
              "class                 2\n",
              "dtype: int64"
            ]
          },
          "metadata": {
            "tags": []
          },
          "execution_count": 10
        }
      ]
    },
    {
      "cell_type": "code",
      "metadata": {
        "id": "dJ-kLLWyybFC",
        "colab_type": "code",
        "colab": {
          "base_uri": "https://localhost:8080/",
          "height": 326
        },
        "outputId": "dab6289d-6e6e-4cd8-e2e3-3755dfcb32f3"
      },
      "source": [
        "# количество недостающих значений для каждого признака\n",
        "\n",
        "print('Недостающие признаки по классам:')\n",
        "print('-' * 32)\n",
        "\n",
        "for column in list(df_adult.columns):\n",
        "  print(column + ':', df_adult[df_adult[column]=='?'][column].count())"
      ],
      "execution_count": 11,
      "outputs": [
        {
          "output_type": "stream",
          "text": [
            "Недостающие признаки по классам:\n",
            "--------------------------------\n",
            "age: 0\n",
            "workclass: 2799\n",
            "fnlwgt: 0\n",
            "education: 0\n",
            "education_num: 0\n",
            "marital_status: 0\n",
            "occupation: 2809\n",
            "relationship: 0\n",
            "race: 0\n",
            "sex: 0\n",
            "capital-gain: 0\n",
            "capital-loss: 0\n",
            "hours-per-week: 0\n",
            "native-country: 857\n",
            "class: 0\n"
          ],
          "name": "stdout"
        }
      ]
    },
    {
      "cell_type": "markdown",
      "metadata": {
        "id": "i6rzGG8e12_f",
        "colab_type": "text"
      },
      "source": [
        "###О датасете:\n",
        "- 48842 объектов\n",
        "- присутствуют как числовые, так и категориальные признаки\n",
        "- признаки 'workclass', 'occupation' и 'native-country' имеют пропущенные значения"
      ]
    },
    {
      "cell_type": "code",
      "metadata": {
        "id": "-32lxeKpfiKl",
        "colab_type": "code",
        "colab": {}
      },
      "source": [
        "col_var = ['age', 'fnlwgt', 'education_num', 'hours-per-week', 'capital-gain', 'capital-loss']"
      ],
      "execution_count": null,
      "outputs": []
    },
    {
      "cell_type": "code",
      "metadata": {
        "id": "sc3dPt6PfaAR",
        "colab_type": "code",
        "colab": {
          "base_uri": "https://localhost:8080/",
          "height": 718
        },
        "outputId": "31860aba-e156-425d-fdae-d298d78418b4"
      },
      "source": [
        "# посмотрим на распределение числовых признаков\n",
        "\n",
        "plt.figure(figsize=(20,12))\n",
        "plt.subplot(221)\n",
        "\n",
        "i=0\n",
        "for x in col_var:\n",
        "    plt.subplot(2, 3, i+1)\n",
        "    i += 1\n",
        "    ax1 = sns.kdeplot(df_adult[df_adult['class'] == '<=50K'][x], shade=True, label=\"class <=50K\")\n",
        "    sns.kdeplot(df_adult[df_adult['class'] == '>50K'][x], shade=True, label=\"class   >50K\", ax=ax1)\n",
        "    plt.title(x, fontsize=15)\n",
        "\n",
        "plt.show()"
      ],
      "execution_count": null,
      "outputs": [
        {
          "output_type": "display_data",
          "data": {
            "image/png": "[encoded data removed]",
            "text/plain": [
              "<Figure size 1440x864 with 6 Axes>"
            ]
          },
          "metadata": {
            "tags": []
          }
        }
      ]
    },
    {
      "cell_type": "code",
      "metadata": {
        "id": "_fKXXdL6CyOC",
        "colab_type": "code",
        "colab": {
          "base_uri": "https://localhost:8080/",
          "height": 369
        },
        "outputId": "8f2579d7-7cff-4a74-e293-fdfacad73071"
      },
      "source": [
        "# посмотрим отдельно на capital-gain и capital-loss\n",
        "\n",
        "plt.figure(figsize=(12,5))\n",
        "plt.subplot(1, 2, 1), sns.distplot(df_adult['capital-gain']), plt.title('capital-gain', fontsize=14, fontweight='bold')\n",
        "plt.subplot(1, 2, 2), sns.distplot(df_adult['capital-loss']), plt.title('capital-loss', fontsize=14, fontweight='bold')\n",
        "plt.tight_layout()"
      ],
      "execution_count": null,
      "outputs": [
        {
          "output_type": "display_data",
          "data": {
            "image/png": "[encoded data removed]",
            "text/plain": [
              "<Figure size 864x360 with 2 Axes>"
            ]
          },
          "metadata": {
            "tags": []
          }
        }
      ]
    },
    {
      "cell_type": "code",
      "metadata": {
        "id": "S7utJLmKI6aa",
        "colab_type": "code",
        "colab": {
          "base_uri": "https://localhost:8080/",
          "height": 50
        },
        "outputId": "231823bd-39c5-410c-d54b-88c59fd52b35"
      },
      "source": [
        "print('Доля capital-gain = 0' + ':', round(df_adult[df_adult['capital-gain']==0]['capital-gain'].count() / df_adult.shape[0] * 100))\n",
        "print('Доля capital-loss = 0' + ':', round(df_adult[df_adult['capital-loss']==0]['capital-loss'].count() / df_adult.shape[0] * 100))"
      ],
      "execution_count": null,
      "outputs": [
        {
          "output_type": "stream",
          "text": [
            "Доля capital-gain = 0: 92.0\n",
            "Доля capital-loss = 0: 95.0\n"
          ],
          "name": "stdout"
        }
      ]
    },
    {
      "cell_type": "code",
      "metadata": {
        "id": "W7VCLNMijl-o",
        "colab_type": "code",
        "colab": {}
      },
      "source": [
        "col_cat = ['workclass', 'race', 'sex', 'occupation', 'education', 'relationship', 'marital_status']"
      ],
      "execution_count": null,
      "outputs": []
    },
    {
      "cell_type": "code",
      "metadata": {
        "id": "83__xyK0jWU9",
        "colab_type": "code",
        "colab": {
          "base_uri": "https://localhost:8080/",
          "height": 1000
        },
        "outputId": "85f3be13-da4f-439e-e032-612e7fd4ebc3"
      },
      "source": [
        "# посмотрим на распределение категориальных признаков\n",
        "\n",
        "plt.figure(figsize=(18,16))\n",
        "\n",
        "for i in range(7):\n",
        "    plt.subplot(3,3,i+1)\n",
        "    sns.countplot(x=col_cat[i], data=df_adult, hue='class')\n",
        "    plt.xlabel(col_cat[i], fontsize=15)\n",
        "    plt.ylabel('Count', fontsize=15)\n",
        "    plt.yticks(fontsize=15)\n",
        "    plt.xticks(rotation=90, fontsize=12)\n",
        "    plt.tight_layout()\n",
        "\n",
        "plt.show()"
      ],
      "execution_count": null,
      "outputs": [
        {
          "output_type": "display_data",
          "data": {
            "image/png": "[encoded data removed]",
            "text/plain": [
              "<Figure size 1296x1152 with 7 Axes>"
            ]
          },
          "metadata": {
            "tags": []
          }
        }
      ]
    },
    {
      "cell_type": "code",
      "metadata": {
        "id": "3FgslVz7NPwD",
        "colab_type": "code",
        "colab": {}
      },
      "source": [
        "# некоторые признаки являются нерепрезентативными, например, fnlwgt\n",
        "# признаки capital-gain и capital-loss в большинстве случаев принимают одно и то же значение\n",
        "# удалим эти признаки\n",
        "\n",
        "df_adult.drop(['fnlwgt', 'capital-gain', 'capital-loss'], axis=1, inplace=True)"
      ],
      "execution_count": null,
      "outputs": []
    },
    {
      "cell_type": "markdown",
      "metadata": {
        "id": "VR7cVXCL9AfB",
        "colab_type": "text"
      },
      "source": [
        "Удаление строк, в которых есть отсутствующие значения"
      ]
    },
    {
      "cell_type": "code",
      "metadata": {
        "id": "-WbdWEi2DQiu",
        "colab_type": "code",
        "colab": {}
      },
      "source": [
        "# заменим значения '?' на Nan\n",
        "# удалим строки, в которых есть недостающие значения\n",
        "\n",
        "df_adult.replace('?', np.nan, inplace=True)\n",
        "df_adult_del = df_adult.dropna()"
      ],
      "execution_count": null,
      "outputs": []
    },
    {
      "cell_type": "code",
      "metadata": {
        "id": "gmCIm8weEc86",
        "colab_type": "code",
        "colab": {
          "base_uri": "https://localhost:8080/",
          "height": 252
        },
        "outputId": "de7700c7-68f5-4853-a365-194e11d91b84"
      },
      "source": [
        "# проверим результат\n",
        "\n",
        "print('Недостающие признаки по классам:')\n",
        "print('-' * 32)\n",
        "\n",
        "for column in list(df_adult_del.columns):\n",
        "  print(column + ':', df_adult_del[df_adult_del[column]=='?'][column].count())"
      ],
      "execution_count": null,
      "outputs": [
        {
          "output_type": "stream",
          "text": [
            "Недостающие признаки по классам:\n",
            "--------------------------------\n",
            "age: 0\n",
            "workclass: 0\n",
            "education: 0\n",
            "education_num: 0\n",
            "marital_status: 0\n",
            "occupation: 0\n",
            "relationship: 0\n",
            "race: 0\n",
            "sex: 0\n",
            "hours-per-week: 0\n",
            "native-country: 0\n",
            "class: 0\n"
          ],
          "name": "stdout"
        }
      ]
    },
    {
      "cell_type": "code",
      "metadata": {
        "id": "AVDGdt9gTHJB",
        "colab_type": "code",
        "colab": {
          "base_uri": "https://localhost:8080/",
          "height": 34
        },
        "outputId": "e06b243e-d91b-4be3-e9d5-ad5b33d94b15"
      },
      "source": [
        "# посмотрим какую часть данных мы удалили\n",
        "\n",
        "print((df_adult.shape[0] - df_adult_del.shape[0]) / df_adult.shape[0] * 100)"
      ],
      "execution_count": null,
      "outputs": [
        {
          "output_type": "stream",
          "text": [
            "7.411653904426519\n"
          ],
          "name": "stdout"
        }
      ]
    },
    {
      "cell_type": "code",
      "metadata": {
        "id": "eIShNyENPqqC",
        "colab_type": "code",
        "colab": {
          "base_uri": "https://localhost:8080/",
          "height": 195
        },
        "outputId": "7fecb47a-e183-45c2-e2ae-7db16cf5681d"
      },
      "source": [
        "df_adult_del.head()"
      ],
      "execution_count": null,
      "outputs": [
        {
          "output_type": "execute_result",
          "data": {
            "text/html": [
              "<div>\n",
              "<style scoped>\n",
              "    .dataframe tbody tr th:only-of-type {\n",
              "        vertical-align: middle;\n",
              "    }\n",
              "\n",
              "    .dataframe tbody tr th {\n",
              "        vertical-align: top;\n",
              "    }\n",
              "\n",
              "    .dataframe thead th {\n",
              "        text-align: right;\n",
              "    }\n",
              "</style>\n",
              "<table border=\"1\" class=\"dataframe\">\n",
              "  <thead>\n",
              "    <tr style=\"text-align: right;\">\n",
              "      <th></th>\n",
              "      <th>age</th>\n",
              "      <th>workclass</th>\n",
              "      <th>education</th>\n",
              "      <th>education_num</th>\n",
              "      <th>marital_status</th>\n",
              "      <th>occupation</th>\n",
              "      <th>relationship</th>\n",
              "      <th>race</th>\n",
              "      <th>sex</th>\n",
              "      <th>hours-per-week</th>\n",
              "      <th>native-country</th>\n",
              "      <th>class</th>\n",
              "    </tr>\n",
              "  </thead>\n",
              "  <tbody>\n",
              "    <tr>\n",
              "      <th>0</th>\n",
              "      <td>39</td>\n",
              "      <td>State-gov</td>\n",
              "      <td>Bachelors</td>\n",
              "      <td>13</td>\n",
              "      <td>Never-married</td>\n",
              "      <td>Adm-clerical</td>\n",
              "      <td>Not-in-family</td>\n",
              "      <td>White</td>\n",
              "      <td>Male</td>\n",
              "      <td>40</td>\n",
              "      <td>United-States</td>\n",
              "      <td>&lt;=50K</td>\n",
              "    </tr>\n",
              "    <tr>\n",
              "      <th>1</th>\n",
              "      <td>50</td>\n",
              "      <td>Self-emp-not-inc</td>\n",
              "      <td>Bachelors</td>\n",
              "      <td>13</td>\n",
              "      <td>Married-civ-spouse</td>\n",
              "      <td>Exec-managerial</td>\n",
              "      <td>Husband</td>\n",
              "      <td>White</td>\n",
              "      <td>Male</td>\n",
              "      <td>13</td>\n",
              "      <td>United-States</td>\n",
              "      <td>&lt;=50K</td>\n",
              "    </tr>\n",
              "    <tr>\n",
              "      <th>2</th>\n",
              "      <td>38</td>\n",
              "      <td>Private</td>\n",
              "      <td>HS-grad</td>\n",
              "      <td>9</td>\n",
              "      <td>Divorced</td>\n",
              "      <td>Handlers-cleaners</td>\n",
              "      <td>Not-in-family</td>\n",
              "      <td>White</td>\n",
              "      <td>Male</td>\n",
              "      <td>40</td>\n",
              "      <td>United-States</td>\n",
              "      <td>&lt;=50K</td>\n",
              "    </tr>\n",
              "    <tr>\n",
              "      <th>3</th>\n",
              "      <td>53</td>\n",
              "      <td>Private</td>\n",
              "      <td>11th</td>\n",
              "      <td>7</td>\n",
              "      <td>Married-civ-spouse</td>\n",
              "      <td>Handlers-cleaners</td>\n",
              "      <td>Husband</td>\n",
              "      <td>Black</td>\n",
              "      <td>Male</td>\n",
              "      <td>40</td>\n",
              "      <td>United-States</td>\n",
              "      <td>&lt;=50K</td>\n",
              "    </tr>\n",
              "    <tr>\n",
              "      <th>4</th>\n",
              "      <td>28</td>\n",
              "      <td>Private</td>\n",
              "      <td>Bachelors</td>\n",
              "      <td>13</td>\n",
              "      <td>Married-civ-spouse</td>\n",
              "      <td>Prof-specialty</td>\n",
              "      <td>Wife</td>\n",
              "      <td>Black</td>\n",
              "      <td>Female</td>\n",
              "      <td>40</td>\n",
              "      <td>Cuba</td>\n",
              "      <td>&lt;=50K</td>\n",
              "    </tr>\n",
              "  </tbody>\n",
              "</table>\n",
              "</div>"
            ],
            "text/plain": [
              "   age         workclass  education  ...  hours-per-week native-country  class\n",
              "0   39         State-gov  Bachelors  ...              40  United-States  <=50K\n",
              "1   50  Self-emp-not-inc  Bachelors  ...              13  United-States  <=50K\n",
              "2   38           Private    HS-grad  ...              40  United-States  <=50K\n",
              "3   53           Private       11th  ...              40  United-States  <=50K\n",
              "4   28           Private  Bachelors  ...              40           Cuba  <=50K\n",
              "\n",
              "[5 rows x 12 columns]"
            ]
          },
          "metadata": {
            "tags": []
          },
          "execution_count": 214
        }
      ]
    },
    {
      "cell_type": "code",
      "metadata": {
        "id": "yNP2l04G-NRo",
        "colab_type": "code",
        "colab": {}
      },
      "source": [
        "# разделим признаки по типу\n",
        "\n",
        "missing_feat = ['workclass', 'occupation', 'native-country']\n",
        "categorical_feat = ['workclass', 'education', 'marital_status', 'occupation', 'relationship', 'race', 'sex', 'native-country']\n",
        "numerical_feat = ['age', 'education_num', 'hours-per-week']\n",
        "target = 'class'"
      ],
      "execution_count": null,
      "outputs": []
    },
    {
      "cell_type": "code",
      "metadata": {
        "id": "8OKrJHWrRVAt",
        "colab_type": "code",
        "colab": {
          "base_uri": "https://localhost:8080/",
          "height": 195
        },
        "outputId": "73f24985-f2ad-4968-9030-1b230cd236e7"
      },
      "source": [
        "# категориальные признаки закодируем с помощью LabelEncoder\n",
        "\n",
        "lab_enc = LabelEncoder()\n",
        "\n",
        "df_adult_del[categorical_feat] = df_adult_del[categorical_feat].apply(lambda col: lab_enc.fit_transform(col))\n",
        "df_adult_del['class'] = lab_enc.fit_transform(df_adult_del['class'])\n",
        "\n",
        "df_adult_del.head()"
      ],
      "execution_count": null,
      "outputs": [
        {
          "output_type": "execute_result",
          "data": {
            "text/html": [
              "<div>\n",
              "<style scoped>\n",
              "    .dataframe tbody tr th:only-of-type {\n",
              "        vertical-align: middle;\n",
              "    }\n",
              "\n",
              "    .dataframe tbody tr th {\n",
              "        vertical-align: top;\n",
              "    }\n",
              "\n",
              "    .dataframe thead th {\n",
              "        text-align: right;\n",
              "    }\n",
              "</style>\n",
              "<table border=\"1\" class=\"dataframe\">\n",
              "  <thead>\n",
              "    <tr style=\"text-align: right;\">\n",
              "      <th></th>\n",
              "      <th>age</th>\n",
              "      <th>workclass</th>\n",
              "      <th>education</th>\n",
              "      <th>education_num</th>\n",
              "      <th>marital_status</th>\n",
              "      <th>occupation</th>\n",
              "      <th>relationship</th>\n",
              "      <th>race</th>\n",
              "      <th>sex</th>\n",
              "      <th>hours-per-week</th>\n",
              "      <th>native-country</th>\n",
              "      <th>class</th>\n",
              "    </tr>\n",
              "  </thead>\n",
              "  <tbody>\n",
              "    <tr>\n",
              "      <th>0</th>\n",
              "      <td>39</td>\n",
              "      <td>5</td>\n",
              "      <td>9</td>\n",
              "      <td>13</td>\n",
              "      <td>4</td>\n",
              "      <td>0</td>\n",
              "      <td>1</td>\n",
              "      <td>4</td>\n",
              "      <td>1</td>\n",
              "      <td>40</td>\n",
              "      <td>38</td>\n",
              "      <td>0</td>\n",
              "    </tr>\n",
              "    <tr>\n",
              "      <th>1</th>\n",
              "      <td>50</td>\n",
              "      <td>4</td>\n",
              "      <td>9</td>\n",
              "      <td>13</td>\n",
              "      <td>2</td>\n",
              "      <td>3</td>\n",
              "      <td>0</td>\n",
              "      <td>4</td>\n",
              "      <td>1</td>\n",
              "      <td>13</td>\n",
              "      <td>38</td>\n",
              "      <td>0</td>\n",
              "    </tr>\n",
              "    <tr>\n",
              "      <th>2</th>\n",
              "      <td>38</td>\n",
              "      <td>2</td>\n",
              "      <td>11</td>\n",
              "      <td>9</td>\n",
              "      <td>0</td>\n",
              "      <td>5</td>\n",
              "      <td>1</td>\n",
              "      <td>4</td>\n",
              "      <td>1</td>\n",
              "      <td>40</td>\n",
              "      <td>38</td>\n",
              "      <td>0</td>\n",
              "    </tr>\n",
              "    <tr>\n",
              "      <th>3</th>\n",
              "      <td>53</td>\n",
              "      <td>2</td>\n",
              "      <td>1</td>\n",
              "      <td>7</td>\n",
              "      <td>2</td>\n",
              "      <td>5</td>\n",
              "      <td>0</td>\n",
              "      <td>2</td>\n",
              "      <td>1</td>\n",
              "      <td>40</td>\n",
              "      <td>38</td>\n",
              "      <td>0</td>\n",
              "    </tr>\n",
              "    <tr>\n",
              "      <th>4</th>\n",
              "      <td>28</td>\n",
              "      <td>2</td>\n",
              "      <td>9</td>\n",
              "      <td>13</td>\n",
              "      <td>2</td>\n",
              "      <td>9</td>\n",
              "      <td>5</td>\n",
              "      <td>2</td>\n",
              "      <td>0</td>\n",
              "      <td>40</td>\n",
              "      <td>4</td>\n",
              "      <td>0</td>\n",
              "    </tr>\n",
              "  </tbody>\n",
              "</table>\n",
              "</div>"
            ],
            "text/plain": [
              "   age  workclass  education  ...  hours-per-week  native-country  class\n",
              "0   39          5          9  ...              40              38      0\n",
              "1   50          4          9  ...              13              38      0\n",
              "2   38          2         11  ...              40              38      0\n",
              "3   53          2          1  ...              40              38      0\n",
              "4   28          2          9  ...              40               4      0\n",
              "\n",
              "[5 rows x 12 columns]"
            ]
          },
          "metadata": {
            "tags": []
          },
          "execution_count": 216
        }
      ]
    },
    {
      "cell_type": "code",
      "metadata": {
        "id": "eKhOODfuNNxu",
        "colab_type": "code",
        "colab": {
          "base_uri": "https://localhost:8080/",
          "height": 185
        },
        "outputId": "cc733eb4-2276-436d-98dc-8952ce92a2cc"
      },
      "source": [
        "# посмотрим на количество классов для каждого признака\n",
        "\n",
        "print('class             ', df_adult_del['class'].nunique())\n",
        "print(df_adult_del[categorical_feat].nunique())"
      ],
      "execution_count": null,
      "outputs": [
        {
          "output_type": "stream",
          "text": [
            "class              2\n",
            "workclass          7\n",
            "education         16\n",
            "marital_status     7\n",
            "occupation        14\n",
            "relationship       6\n",
            "race               5\n",
            "sex                2\n",
            "native-country    41\n",
            "dtype: int64\n"
          ],
          "name": "stdout"
        }
      ]
    },
    {
      "cell_type": "code",
      "metadata": {
        "id": "rdmPsK_KoL-T",
        "colab_type": "code",
        "colab": {}
      },
      "source": [
        "# разделим датасет на тренировочную и тестовую выборки\n",
        "\n",
        "X_train_del = df_adult_del.iloc[:size_adult, :-1]\n",
        "y_train_del = df_adult_del['class'].iloc[:size_adult]\n",
        "X_test_del = df_adult_del.iloc[:-size_adult, :-1]\n",
        "y_test_del = df_adult_del['class'].iloc[:-size_adult]"
      ],
      "execution_count": null,
      "outputs": []
    },
    {
      "cell_type": "code",
      "metadata": {
        "id": "e5prZiFes2b2",
        "colab_type": "code",
        "colab": {
          "base_uri": "https://localhost:8080/",
          "height": 269
        },
        "outputId": "569673dd-20a3-4af5-a5cc-feea73d9a4cd"
      },
      "source": [
        "# выберем scaler на примере LogisticRegression\n",
        "\n",
        "scalers = MinMaxScaler(), StandardScaler(), RobustScaler(), QuantileTransformer(), PowerTransformer()\n",
        "scalers_name = [\n",
        "      'Минимакс(MinMaxScaler)',\n",
        "      'Z-нормализация(StandardScaler)',\n",
        "      'Устойчивая нормализация(RobustScaler)',\n",
        "      'Квантильное преобразование(QuantileTransformer)',\n",
        "      'Степенное преобразование(PowerTransformer)'\n",
        "      ]\n",
        "n = 0\n",
        "  \n",
        "while n < len(scalers_name):\n",
        "    for scaler in scalers:\n",
        "        scaled_train = pd.DataFrame(scaler.fit_transform(X_train_del[numerical_feat]), columns=numerical_feat)\n",
        "        scaled_test = pd.DataFrame(scaler.transform(X_test_del[numerical_feat]), columns=numerical_feat)\n",
        "\n",
        "        scaled_train = pd.concat([scaled_train, X_train_del[categorical_feat].reset_index()], axis=1)\n",
        "        scaled_test = pd.concat([scaled_test, X_test_del[categorical_feat].reset_index()], axis=1)\n",
        "\n",
        "        log_model = LogisticRegression()\n",
        "        log_model.fit(scaled_train, y_train_del)\n",
        "        y_pred = log_model.predict(scaled_test)\n",
        "        acc_log = accuracy_score(y_test_del, y_pred)\n",
        "\n",
        "        print('Scaler:', scalers_name[n])\n",
        "        print('accuracy_score:', acc_log)\n",
        "        print()\n",
        "        n += 1"
      ],
      "execution_count": null,
      "outputs": [
        {
          "output_type": "stream",
          "text": [
            "Scaler: Минимакс(MinMaxScaler)\n",
            "accuracy_score: 0.7500987283784851\n",
            "\n",
            "Scaler: Z-нормализация(StandardScaler)\n",
            "accuracy_score: 0.7951978516704842\n",
            "\n",
            "Scaler: Устойчивая нормализация(RobustScaler)\n",
            "accuracy_score: 0.7795592765184425\n",
            "\n",
            "Scaler: Квантильное преобразование(QuantileTransformer)\n",
            "accuracy_score: 0.7493878840533923\n",
            "\n",
            "Scaler: Степенное преобразование(PowerTransformer)\n",
            "accuracy_score: 0.7948029381565437\n",
            "\n"
          ],
          "name": "stdout"
        }
      ]
    },
    {
      "cell_type": "code",
      "metadata": {
        "colab_type": "code",
        "id": "lhTJULhmoOm9",
        "colab": {
          "base_uri": "https://localhost:8080/",
          "height": 195
        },
        "outputId": "a6569d17-ea67-4b2e-8be1-cf376f4a2062"
      },
      "source": [
        "# применим StandardScaler() к числовым признакам\n",
        "\n",
        "scaler = StandardScaler()\n",
        "\n",
        "X_train_del[numerical_feat] = scaler.fit_transform(X_train_del[numerical_feat])\n",
        "X_test_del[numerical_feat] = scaler.transform(X_test_del[numerical_feat])\n",
        "\n",
        "X_train_del.head()"
      ],
      "execution_count": null,
      "outputs": [
        {
          "output_type": "execute_result",
          "data": {
            "text/html": [
              "<div>\n",
              "<style scoped>\n",
              "    .dataframe tbody tr th:only-of-type {\n",
              "        vertical-align: middle;\n",
              "    }\n",
              "\n",
              "    .dataframe tbody tr th {\n",
              "        vertical-align: top;\n",
              "    }\n",
              "\n",
              "    .dataframe thead th {\n",
              "        text-align: right;\n",
              "    }\n",
              "</style>\n",
              "<table border=\"1\" class=\"dataframe\">\n",
              "  <thead>\n",
              "    <tr style=\"text-align: right;\">\n",
              "      <th></th>\n",
              "      <th>age</th>\n",
              "      <th>workclass</th>\n",
              "      <th>education</th>\n",
              "      <th>education_num</th>\n",
              "      <th>marital_status</th>\n",
              "      <th>occupation</th>\n",
              "      <th>relationship</th>\n",
              "      <th>race</th>\n",
              "      <th>sex</th>\n",
              "      <th>hours-per-week</th>\n",
              "      <th>native-country</th>\n",
              "    </tr>\n",
              "  </thead>\n",
              "  <tbody>\n",
              "    <tr>\n",
              "      <th>0</th>\n",
              "      <td>0.042308</td>\n",
              "      <td>5</td>\n",
              "      <td>9</td>\n",
              "      <td>1.125246</td>\n",
              "      <td>4</td>\n",
              "      <td>0</td>\n",
              "      <td>1</td>\n",
              "      <td>4</td>\n",
              "      <td>1</td>\n",
              "      <td>-0.078864</td>\n",
              "      <td>38</td>\n",
              "    </tr>\n",
              "    <tr>\n",
              "      <th>1</th>\n",
              "      <td>0.879482</td>\n",
              "      <td>4</td>\n",
              "      <td>9</td>\n",
              "      <td>1.125246</td>\n",
              "      <td>2</td>\n",
              "      <td>3</td>\n",
              "      <td>0</td>\n",
              "      <td>4</td>\n",
              "      <td>1</td>\n",
              "      <td>-2.335732</td>\n",
              "      <td>38</td>\n",
              "    </tr>\n",
              "    <tr>\n",
              "      <th>2</th>\n",
              "      <td>-0.033798</td>\n",
              "      <td>2</td>\n",
              "      <td>11</td>\n",
              "      <td>-0.438992</td>\n",
              "      <td>0</td>\n",
              "      <td>5</td>\n",
              "      <td>1</td>\n",
              "      <td>4</td>\n",
              "      <td>1</td>\n",
              "      <td>-0.078864</td>\n",
              "      <td>38</td>\n",
              "    </tr>\n",
              "    <tr>\n",
              "      <th>3</th>\n",
              "      <td>1.107802</td>\n",
              "      <td>2</td>\n",
              "      <td>1</td>\n",
              "      <td>-1.221111</td>\n",
              "      <td>2</td>\n",
              "      <td>5</td>\n",
              "      <td>0</td>\n",
              "      <td>2</td>\n",
              "      <td>1</td>\n",
              "      <td>-0.078864</td>\n",
              "      <td>38</td>\n",
              "    </tr>\n",
              "    <tr>\n",
              "      <th>4</th>\n",
              "      <td>-0.794865</td>\n",
              "      <td>2</td>\n",
              "      <td>9</td>\n",
              "      <td>1.125246</td>\n",
              "      <td>2</td>\n",
              "      <td>9</td>\n",
              "      <td>5</td>\n",
              "      <td>2</td>\n",
              "      <td>0</td>\n",
              "      <td>-0.078864</td>\n",
              "      <td>4</td>\n",
              "    </tr>\n",
              "  </tbody>\n",
              "</table>\n",
              "</div>"
            ],
            "text/plain": [
              "        age  workclass  education  ...  sex  hours-per-week  native-country\n",
              "0  0.042308          5          9  ...    1       -0.078864              38\n",
              "1  0.879482          4          9  ...    1       -2.335732              38\n",
              "2 -0.033798          2         11  ...    1       -0.078864              38\n",
              "3  1.107802          2          1  ...    1       -0.078864              38\n",
              "4 -0.794865          2          9  ...    0       -0.078864               4\n",
              "\n",
              "[5 rows x 11 columns]"
            ]
          },
          "metadata": {
            "tags": []
          },
          "execution_count": 14
        }
      ]
    },
    {
      "cell_type": "code",
      "metadata": {
        "id": "KL6oxVjdMpxu",
        "colab_type": "code",
        "colab": {
          "base_uri": "https://localhost:8080/",
          "height": 50
        },
        "outputId": "cc5d6dc9-72fb-44fc-9c42-2d0a7d09b68e"
      },
      "source": [
        "# протестируем модели с GridSearchCV\n",
        "# KNeighborsClassifier\n",
        "\n",
        "knn_model = KNeighborsClassifier()\n",
        "\n",
        "gs_knn = GridSearchCV(\n",
        "        knn_model,\n",
        "        param_grid={'n_neighbors': list(range(1, 10)),\n",
        "                    'metric': ['euclidean', 'manhattan', 'chebyshev', 'minkowski']},\n",
        "        cv=3,\n",
        "        scoring='accuracy'\n",
        "        )\n",
        "gs_knn.fit(X_train_del, y_train_del)\n",
        "\n",
        "knn_model = knn_model.set_params(**gs_knn.best_params_)\n",
        "knn_model.fit(X_train_del, y_train_del)\n",
        "\n",
        "acc_knn = knn_model.score(X_test_del, y_test_del)\n",
        "\n",
        "print('best_parameters:', gs_knn.best_params_)\n",
        "print('accuracy:', acc_knn)"
      ],
      "execution_count": null,
      "outputs": [
        {
          "output_type": "stream",
          "text": [
            "best_parameters: {'metric': 'manhattan', 'n_neighbors': 8}\n",
            "accuracy: 0.8552247057894321\n"
          ],
          "name": "stdout"
        }
      ]
    },
    {
      "cell_type": "code",
      "metadata": {
        "id": "Gg5Y-xmUPytW",
        "colab_type": "code",
        "colab": {
          "base_uri": "https://localhost:8080/",
          "height": 50
        },
        "outputId": "3914812b-f2a2-4e11-f122-3aaa5844898a"
      },
      "source": [
        "# LogisticRegression\n",
        "\n",
        "log_model = LogisticRegression()\n",
        "\n",
        "gs_log = GridSearchCV(\n",
        "        log_model,\n",
        "        param_grid={'C': np.arange(0.1, 10),\n",
        "                    'penalty': ['l1', 'l2'],\n",
        "                    'solver': ['newton-cg', 'lbfgs', 'liblinear', 'sag', 'saga']},\n",
        "        cv=3,\n",
        "        scoring='accuracy',\n",
        "        )\n",
        "    \n",
        "gs_log.fit(X_train_del, y_train_del)\n",
        "\n",
        "log_model = log_model.set_params(**gs_log.best_params_)\n",
        "log_model.fit(X_train_del, y_train_del)\n",
        "\n",
        "acc_log = log_model.score(X_test_del, y_test_del)\n",
        "\n",
        "print('best_parameters:', gs_log.best_params_)\n",
        "print('accuracy:', acc_log)"
      ],
      "execution_count": null,
      "outputs": [
        {
          "output_type": "stream",
          "text": [
            "best_parameters: {'C': 0.1, 'penalty': 'l2', 'solver': 'lbfgs'}\n",
            "accuracy: 0.800410710054498\n"
          ],
          "name": "stdout"
        }
      ]
    },
    {
      "cell_type": "code",
      "metadata": {
        "id": "H_0SH60kTfis",
        "colab_type": "code",
        "colab": {
          "base_uri": "https://localhost:8080/",
          "height": 50
        },
        "outputId": "bec787df-90a7-4379-b756-973c6d982268"
      },
      "source": [
        "# SVM\n",
        "# подберем ядро и параметр C\n",
        "\n",
        "clf_svm = SVC()\n",
        "\n",
        "gs_svm = GridSearchCV(\n",
        "    clf_svm,\n",
        "    param_grid={\n",
        "        'kernel': ['linear', 'poly', 'rbf', 'sigmoid'],\n",
        "        'C': [0.1, 1, 5]\n",
        "    }\n",
        ")\n",
        "gs_svm.fit(X_train_del, y_train_del)\n",
        "\n",
        "clf_svm = SVC(**gs_svm.best_params_)\n",
        "clf_svm.fit(X_train_del, y_train_del)\n",
        "\n",
        "acc_svm = clf_svm.score(X_test_del, y_test_del)\n",
        "\n",
        "print('best_parameters:', gs_svm.best_params_)\n",
        "print('accuracy:', acc_svm)"
      ],
      "execution_count": null,
      "outputs": [
        {
          "output_type": "stream",
          "text": [
            "best_parameters: {'C': 5, 'kernel': 'poly'}\n",
            "accuracy: 0.811784219255983\n"
          ],
          "name": "stdout"
        }
      ]
    },
    {
      "cell_type": "markdown",
      "metadata": {
        "id": "fqj7B14N9YHP",
        "colab_type": "text"
      },
      "source": [
        "Замена отсутствующих значений наиболее часто встречающимися в признаке"
      ]
    },
    {
      "cell_type": "code",
      "metadata": {
        "id": "ixZhq9qDBbqi",
        "colab_type": "code",
        "colab": {
          "base_uri": "https://localhost:8080/",
          "height": 34
        },
        "outputId": "6ed7b17e-6c96-4f15-f164-b5208b29e70c"
      },
      "source": [
        "df_adult_freq = df_adult.copy()\n",
        "\n",
        "imputer = SimpleImputer(missing_values=np.nan, strategy='most_frequent')\n",
        "df_adult_freq[missing_feat] = imputer.fit_transform(df_adult_freq[missing_feat])\n",
        "\n",
        "df_adult_freq.shape"
      ],
      "execution_count": null,
      "outputs": [
        {
          "output_type": "execute_result",
          "data": {
            "text/plain": [
              "(48842, 12)"
            ]
          },
          "metadata": {
            "tags": []
          },
          "execution_count": 83
        }
      ]
    },
    {
      "cell_type": "code",
      "metadata": {
        "id": "_gAL8S-M3cMr",
        "colab_type": "code",
        "colab": {
          "base_uri": "https://localhost:8080/",
          "height": 195
        },
        "outputId": "27678073-d321-4dcc-d63f-9e1999b28ba0"
      },
      "source": [
        "# категориальные признаки закодируем с помощью LabelEncoder\n",
        "\n",
        "lab_enc = LabelEncoder()\n",
        "\n",
        "df_adult_freq[categorical_feat] = df_adult_freq[categorical_feat].apply(lambda col: lab_enc.fit_transform(col))\n",
        "df_adult_freq['class'] = lab_enc.fit_transform(df_adult_freq['class'])\n",
        "\n",
        "df_adult_freq.head()"
      ],
      "execution_count": null,
      "outputs": [
        {
          "output_type": "execute_result",
          "data": {
            "text/html": [
              "<div>\n",
              "<style scoped>\n",
              "    .dataframe tbody tr th:only-of-type {\n",
              "        vertical-align: middle;\n",
              "    }\n",
              "\n",
              "    .dataframe tbody tr th {\n",
              "        vertical-align: top;\n",
              "    }\n",
              "\n",
              "    .dataframe thead th {\n",
              "        text-align: right;\n",
              "    }\n",
              "</style>\n",
              "<table border=\"1\" class=\"dataframe\">\n",
              "  <thead>\n",
              "    <tr style=\"text-align: right;\">\n",
              "      <th></th>\n",
              "      <th>age</th>\n",
              "      <th>workclass</th>\n",
              "      <th>education</th>\n",
              "      <th>education_num</th>\n",
              "      <th>marital_status</th>\n",
              "      <th>occupation</th>\n",
              "      <th>relationship</th>\n",
              "      <th>race</th>\n",
              "      <th>sex</th>\n",
              "      <th>hours-per-week</th>\n",
              "      <th>native-country</th>\n",
              "      <th>class</th>\n",
              "    </tr>\n",
              "  </thead>\n",
              "  <tbody>\n",
              "    <tr>\n",
              "      <th>0</th>\n",
              "      <td>39</td>\n",
              "      <td>6</td>\n",
              "      <td>9</td>\n",
              "      <td>13</td>\n",
              "      <td>4</td>\n",
              "      <td>0</td>\n",
              "      <td>1</td>\n",
              "      <td>4</td>\n",
              "      <td>1</td>\n",
              "      <td>40</td>\n",
              "      <td>38</td>\n",
              "      <td>0</td>\n",
              "    </tr>\n",
              "    <tr>\n",
              "      <th>1</th>\n",
              "      <td>50</td>\n",
              "      <td>5</td>\n",
              "      <td>9</td>\n",
              "      <td>13</td>\n",
              "      <td>2</td>\n",
              "      <td>3</td>\n",
              "      <td>0</td>\n",
              "      <td>4</td>\n",
              "      <td>1</td>\n",
              "      <td>13</td>\n",
              "      <td>38</td>\n",
              "      <td>0</td>\n",
              "    </tr>\n",
              "    <tr>\n",
              "      <th>2</th>\n",
              "      <td>38</td>\n",
              "      <td>3</td>\n",
              "      <td>11</td>\n",
              "      <td>9</td>\n",
              "      <td>0</td>\n",
              "      <td>5</td>\n",
              "      <td>1</td>\n",
              "      <td>4</td>\n",
              "      <td>1</td>\n",
              "      <td>40</td>\n",
              "      <td>38</td>\n",
              "      <td>0</td>\n",
              "    </tr>\n",
              "    <tr>\n",
              "      <th>3</th>\n",
              "      <td>53</td>\n",
              "      <td>3</td>\n",
              "      <td>1</td>\n",
              "      <td>7</td>\n",
              "      <td>2</td>\n",
              "      <td>5</td>\n",
              "      <td>0</td>\n",
              "      <td>2</td>\n",
              "      <td>1</td>\n",
              "      <td>40</td>\n",
              "      <td>38</td>\n",
              "      <td>0</td>\n",
              "    </tr>\n",
              "    <tr>\n",
              "      <th>4</th>\n",
              "      <td>28</td>\n",
              "      <td>3</td>\n",
              "      <td>9</td>\n",
              "      <td>13</td>\n",
              "      <td>2</td>\n",
              "      <td>9</td>\n",
              "      <td>5</td>\n",
              "      <td>2</td>\n",
              "      <td>0</td>\n",
              "      <td>40</td>\n",
              "      <td>4</td>\n",
              "      <td>0</td>\n",
              "    </tr>\n",
              "  </tbody>\n",
              "</table>\n",
              "</div>"
            ],
            "text/plain": [
              "   age  workclass  education  ...  hours-per-week  native-country  class\n",
              "0   39          6          9  ...              40              38      0\n",
              "1   50          5          9  ...              13              38      0\n",
              "2   38          3         11  ...              40              38      0\n",
              "3   53          3          1  ...              40              38      0\n",
              "4   28          3          9  ...              40               4      0\n",
              "\n",
              "[5 rows x 12 columns]"
            ]
          },
          "metadata": {
            "tags": []
          },
          "execution_count": 85
        }
      ]
    },
    {
      "cell_type": "code",
      "metadata": {
        "id": "Sz5KxKKt4KCD",
        "colab_type": "code",
        "colab": {
          "base_uri": "https://localhost:8080/",
          "height": 195
        },
        "outputId": "1c36392c-9fc6-4f65-d7bd-91ab9d5c6798"
      },
      "source": [
        "# дискретные признаки также приведем к категориальным значениям\n",
        "\n",
        "est_adult = KBinsDiscretizer(n_bins=4, encode='ordinal', strategy='uniform')\n",
        "X_est_adult = est_adult.fit_transform(df_adult_freq[numerical_feat])\n",
        "X_est_adult = pd.DataFrame(X_est_adult, columns=numerical_feat)\n",
        "\n",
        "X_est_adult.head()"
      ],
      "execution_count": null,
      "outputs": [
        {
          "output_type": "execute_result",
          "data": {
            "text/html": [
              "<div>\n",
              "<style scoped>\n",
              "    .dataframe tbody tr th:only-of-type {\n",
              "        vertical-align: middle;\n",
              "    }\n",
              "\n",
              "    .dataframe tbody tr th {\n",
              "        vertical-align: top;\n",
              "    }\n",
              "\n",
              "    .dataframe thead th {\n",
              "        text-align: right;\n",
              "    }\n",
              "</style>\n",
              "<table border=\"1\" class=\"dataframe\">\n",
              "  <thead>\n",
              "    <tr style=\"text-align: right;\">\n",
              "      <th></th>\n",
              "      <th>age</th>\n",
              "      <th>education_num</th>\n",
              "      <th>hours-per-week</th>\n",
              "    </tr>\n",
              "  </thead>\n",
              "  <tbody>\n",
              "    <tr>\n",
              "      <th>0</th>\n",
              "      <td>1.0</td>\n",
              "      <td>3.0</td>\n",
              "      <td>1.0</td>\n",
              "    </tr>\n",
              "    <tr>\n",
              "      <th>1</th>\n",
              "      <td>1.0</td>\n",
              "      <td>3.0</td>\n",
              "      <td>0.0</td>\n",
              "    </tr>\n",
              "    <tr>\n",
              "      <th>2</th>\n",
              "      <td>1.0</td>\n",
              "      <td>2.0</td>\n",
              "      <td>1.0</td>\n",
              "    </tr>\n",
              "    <tr>\n",
              "      <th>3</th>\n",
              "      <td>1.0</td>\n",
              "      <td>1.0</td>\n",
              "      <td>1.0</td>\n",
              "    </tr>\n",
              "    <tr>\n",
              "      <th>4</th>\n",
              "      <td>0.0</td>\n",
              "      <td>3.0</td>\n",
              "      <td>1.0</td>\n",
              "    </tr>\n",
              "  </tbody>\n",
              "</table>\n",
              "</div>"
            ],
            "text/plain": [
              "   age  education_num  hours-per-week\n",
              "0  1.0            3.0             1.0\n",
              "1  1.0            3.0             0.0\n",
              "2  1.0            2.0             1.0\n",
              "3  1.0            1.0             1.0\n",
              "4  0.0            3.0             1.0"
            ]
          },
          "metadata": {
            "tags": []
          },
          "execution_count": 86
        }
      ]
    },
    {
      "cell_type": "code",
      "metadata": {
        "id": "ksexf7eA5IWR",
        "colab_type": "code",
        "colab": {
          "base_uri": "https://localhost:8080/",
          "height": 195
        },
        "outputId": "1deaf88c-1110-4eaf-c516-bfbf6bd95f2c"
      },
      "source": [
        "# объединим их с остальными признаками\n",
        "\n",
        "df_est_adult = pd.concat([X_est_adult, df_adult_freq[categorical_feat].reset_index()], axis=1)\n",
        "df_est_adult = df_est_adult.drop(['index'], axis=1)\n",
        "\n",
        "df_est_adult.head()"
      ],
      "execution_count": null,
      "outputs": [
        {
          "output_type": "execute_result",
          "data": {
            "text/html": [
              "<div>\n",
              "<style scoped>\n",
              "    .dataframe tbody tr th:only-of-type {\n",
              "        vertical-align: middle;\n",
              "    }\n",
              "\n",
              "    .dataframe tbody tr th {\n",
              "        vertical-align: top;\n",
              "    }\n",
              "\n",
              "    .dataframe thead th {\n",
              "        text-align: right;\n",
              "    }\n",
              "</style>\n",
              "<table border=\"1\" class=\"dataframe\">\n",
              "  <thead>\n",
              "    <tr style=\"text-align: right;\">\n",
              "      <th></th>\n",
              "      <th>age</th>\n",
              "      <th>education_num</th>\n",
              "      <th>hours-per-week</th>\n",
              "      <th>workclass</th>\n",
              "      <th>education</th>\n",
              "      <th>marital_status</th>\n",
              "      <th>occupation</th>\n",
              "      <th>relationship</th>\n",
              "      <th>race</th>\n",
              "      <th>sex</th>\n",
              "      <th>native-country</th>\n",
              "    </tr>\n",
              "  </thead>\n",
              "  <tbody>\n",
              "    <tr>\n",
              "      <th>0</th>\n",
              "      <td>1.0</td>\n",
              "      <td>3.0</td>\n",
              "      <td>1.0</td>\n",
              "      <td>6</td>\n",
              "      <td>9</td>\n",
              "      <td>4</td>\n",
              "      <td>0</td>\n",
              "      <td>1</td>\n",
              "      <td>4</td>\n",
              "      <td>1</td>\n",
              "      <td>38</td>\n",
              "    </tr>\n",
              "    <tr>\n",
              "      <th>1</th>\n",
              "      <td>1.0</td>\n",
              "      <td>3.0</td>\n",
              "      <td>0.0</td>\n",
              "      <td>5</td>\n",
              "      <td>9</td>\n",
              "      <td>2</td>\n",
              "      <td>3</td>\n",
              "      <td>0</td>\n",
              "      <td>4</td>\n",
              "      <td>1</td>\n",
              "      <td>38</td>\n",
              "    </tr>\n",
              "    <tr>\n",
              "      <th>2</th>\n",
              "      <td>1.0</td>\n",
              "      <td>2.0</td>\n",
              "      <td>1.0</td>\n",
              "      <td>3</td>\n",
              "      <td>11</td>\n",
              "      <td>0</td>\n",
              "      <td>5</td>\n",
              "      <td>1</td>\n",
              "      <td>4</td>\n",
              "      <td>1</td>\n",
              "      <td>38</td>\n",
              "    </tr>\n",
              "    <tr>\n",
              "      <th>3</th>\n",
              "      <td>1.0</td>\n",
              "      <td>1.0</td>\n",
              "      <td>1.0</td>\n",
              "      <td>3</td>\n",
              "      <td>1</td>\n",
              "      <td>2</td>\n",
              "      <td>5</td>\n",
              "      <td>0</td>\n",
              "      <td>2</td>\n",
              "      <td>1</td>\n",
              "      <td>38</td>\n",
              "    </tr>\n",
              "    <tr>\n",
              "      <th>4</th>\n",
              "      <td>0.0</td>\n",
              "      <td>3.0</td>\n",
              "      <td>1.0</td>\n",
              "      <td>3</td>\n",
              "      <td>9</td>\n",
              "      <td>2</td>\n",
              "      <td>9</td>\n",
              "      <td>5</td>\n",
              "      <td>2</td>\n",
              "      <td>0</td>\n",
              "      <td>4</td>\n",
              "    </tr>\n",
              "  </tbody>\n",
              "</table>\n",
              "</div>"
            ],
            "text/plain": [
              "   age  education_num  hours-per-week  ...  race  sex  native-country\n",
              "0  1.0            3.0             1.0  ...     4    1              38\n",
              "1  1.0            3.0             0.0  ...     4    1              38\n",
              "2  1.0            2.0             1.0  ...     4    1              38\n",
              "3  1.0            1.0             1.0  ...     2    1              38\n",
              "4  0.0            3.0             1.0  ...     2    0               4\n",
              "\n",
              "[5 rows x 11 columns]"
            ]
          },
          "metadata": {
            "tags": []
          },
          "execution_count": 87
        }
      ]
    },
    {
      "cell_type": "code",
      "metadata": {
        "id": "Xm4sp1KafMAT",
        "colab_type": "code",
        "colab": {}
      },
      "source": [
        "# разделим датасет на тренировочную и тестовую выборки\n",
        "\n",
        "X_train_freq = df_est_adult.iloc[:size_adult, :]\n",
        "y_train_freq = df_adult['class'].iloc[:size_adult]\n",
        "X_test_freq = df_est_adult.iloc[:-size_adult, :]\n",
        "y_test_freq = df_adult['class'].iloc[:-size_adult]"
      ],
      "execution_count": null,
      "outputs": []
    },
    {
      "cell_type": "code",
      "metadata": {
        "id": "9BsVBkVm6TgJ",
        "colab_type": "code",
        "colab": {
          "base_uri": "https://localhost:8080/",
          "height": 34
        },
        "outputId": "7a78cc14-533f-49dc-df1b-e5a03a423849"
      },
      "source": [
        "# применим CategoricalNB\n",
        "\n",
        "clf = CategoricalNB()\n",
        "clf.fit(X_train_freq, y_train_freq)\n",
        "print(clf.score(X_test_freq, y_test_freq))"
      ],
      "execution_count": null,
      "outputs": [
        {
          "output_type": "stream",
          "text": [
            "0.8108838523432221\n"
          ],
          "name": "stdout"
        }
      ]
    },
    {
      "cell_type": "code",
      "metadata": {
        "id": "nZpT5kaZ7K7M",
        "colab_type": "code",
        "colab": {
          "base_uri": "https://localhost:8080/",
          "height": 50
        },
        "outputId": "d3e8e757-6e5f-4826-ca99-7a083daa242f"
      },
      "source": [
        "# SVM\n",
        "# подберем ядро и параметр C\n",
        "\n",
        "clf_svm = SVC()\n",
        "\n",
        "gs_svm = GridSearchCV(\n",
        "    clf_svm,\n",
        "    param_grid={\n",
        "        'kernel': ['linear', 'poly', 'rbf', 'sigmoid'],\n",
        "        'C': [0.1, 1, 5]\n",
        "    }\n",
        ")\n",
        "gs_svm.fit(X_train_freq, y_train_freq)\n",
        "\n",
        "clf_svm = SVC(**gs_svm.best_params_)\n",
        "clf_svm.fit(X_train_freq, y_train_freq)\n",
        "\n",
        "acc_svm = clf_svm.score(X_test_freq, y_test_freq)\n",
        "\n",
        "print('best_parameters:', gs_svm.best_params_)\n",
        "print('accuracy:', acc_svm)"
      ],
      "execution_count": null,
      "outputs": [
        {
          "output_type": "stream",
          "text": [
            "best_parameters: {'C': 5, 'kernel': 'rbf'}\n",
            "accuracy: 0.8081813156440022\n"
          ],
          "name": "stdout"
        }
      ]
    },
    {
      "cell_type": "markdown",
      "metadata": {
        "id": "o9E8yUJO9xn4",
        "colab_type": "text"
      },
      "source": [
        "Введение новой категории для недостающих значений"
      ]
    },
    {
      "cell_type": "code",
      "metadata": {
        "id": "OZ_1W7RydKnH",
        "colab_type": "code",
        "colab": {
          "base_uri": "https://localhost:8080/",
          "height": 195
        },
        "outputId": "120f0b5c-5efe-4b19-fd1e-a79d58cfef12"
      },
      "source": [
        "df_adult_cat = df_adult.copy()\n",
        "\n",
        "df_adult_cat.replace(np.nan, 'new_class', inplace=True)\n",
        "\n",
        "lab_enc = LabelEncoder()\n",
        "\n",
        "df_adult_cat[categorical_feat] = df_adult_cat[categorical_feat].apply(lambda col: lab_enc.fit_transform(col))\n",
        "df_adult_cat['class'] = lab_enc.fit_transform(df_adult_cat['class'])\n",
        "\n",
        "df_adult_cat.head()"
      ],
      "execution_count": null,
      "outputs": [
        {
          "output_type": "execute_result",
          "data": {
            "text/html": [
              "<div>\n",
              "<style scoped>\n",
              "    .dataframe tbody tr th:only-of-type {\n",
              "        vertical-align: middle;\n",
              "    }\n",
              "\n",
              "    .dataframe tbody tr th {\n",
              "        vertical-align: top;\n",
              "    }\n",
              "\n",
              "    .dataframe thead th {\n",
              "        text-align: right;\n",
              "    }\n",
              "</style>\n",
              "<table border=\"1\" class=\"dataframe\">\n",
              "  <thead>\n",
              "    <tr style=\"text-align: right;\">\n",
              "      <th></th>\n",
              "      <th>age</th>\n",
              "      <th>workclass</th>\n",
              "      <th>education</th>\n",
              "      <th>education_num</th>\n",
              "      <th>marital_status</th>\n",
              "      <th>occupation</th>\n",
              "      <th>relationship</th>\n",
              "      <th>race</th>\n",
              "      <th>sex</th>\n",
              "      <th>hours-per-week</th>\n",
              "      <th>native-country</th>\n",
              "      <th>class</th>\n",
              "    </tr>\n",
              "  </thead>\n",
              "  <tbody>\n",
              "    <tr>\n",
              "      <th>0</th>\n",
              "      <td>39</td>\n",
              "      <td>6</td>\n",
              "      <td>9</td>\n",
              "      <td>13</td>\n",
              "      <td>4</td>\n",
              "      <td>0</td>\n",
              "      <td>1</td>\n",
              "      <td>4</td>\n",
              "      <td>1</td>\n",
              "      <td>40</td>\n",
              "      <td>38</td>\n",
              "      <td>0</td>\n",
              "    </tr>\n",
              "    <tr>\n",
              "      <th>1</th>\n",
              "      <td>50</td>\n",
              "      <td>5</td>\n",
              "      <td>9</td>\n",
              "      <td>13</td>\n",
              "      <td>2</td>\n",
              "      <td>3</td>\n",
              "      <td>0</td>\n",
              "      <td>4</td>\n",
              "      <td>1</td>\n",
              "      <td>13</td>\n",
              "      <td>38</td>\n",
              "      <td>0</td>\n",
              "    </tr>\n",
              "    <tr>\n",
              "      <th>2</th>\n",
              "      <td>38</td>\n",
              "      <td>3</td>\n",
              "      <td>11</td>\n",
              "      <td>9</td>\n",
              "      <td>0</td>\n",
              "      <td>5</td>\n",
              "      <td>1</td>\n",
              "      <td>4</td>\n",
              "      <td>1</td>\n",
              "      <td>40</td>\n",
              "      <td>38</td>\n",
              "      <td>0</td>\n",
              "    </tr>\n",
              "    <tr>\n",
              "      <th>3</th>\n",
              "      <td>53</td>\n",
              "      <td>3</td>\n",
              "      <td>1</td>\n",
              "      <td>7</td>\n",
              "      <td>2</td>\n",
              "      <td>5</td>\n",
              "      <td>0</td>\n",
              "      <td>2</td>\n",
              "      <td>1</td>\n",
              "      <td>40</td>\n",
              "      <td>38</td>\n",
              "      <td>0</td>\n",
              "    </tr>\n",
              "    <tr>\n",
              "      <th>4</th>\n",
              "      <td>28</td>\n",
              "      <td>3</td>\n",
              "      <td>9</td>\n",
              "      <td>13</td>\n",
              "      <td>2</td>\n",
              "      <td>9</td>\n",
              "      <td>5</td>\n",
              "      <td>2</td>\n",
              "      <td>0</td>\n",
              "      <td>40</td>\n",
              "      <td>4</td>\n",
              "      <td>0</td>\n",
              "    </tr>\n",
              "  </tbody>\n",
              "</table>\n",
              "</div>"
            ],
            "text/plain": [
              "   age  workclass  education  ...  hours-per-week  native-country  class\n",
              "0   39          6          9  ...              40              38      0\n",
              "1   50          5          9  ...              13              38      0\n",
              "2   38          3         11  ...              40              38      0\n",
              "3   53          3          1  ...              40              38      0\n",
              "4   28          3          9  ...              40               4      0\n",
              "\n",
              "[5 rows x 12 columns]"
            ]
          },
          "metadata": {
            "tags": []
          },
          "execution_count": 219
        }
      ]
    },
    {
      "cell_type": "code",
      "metadata": {
        "id": "fxdh100xtlvI",
        "colab_type": "code",
        "colab": {
          "base_uri": "https://localhost:8080/",
          "height": 278
        },
        "outputId": "2d56f985-b7a0-4cd6-9ab3-d3f75eccaf85"
      },
      "source": [
        "# к категориальным признакам - dummy-кодирование\n",
        "\n",
        "df_adult_cat = pd.get_dummies(df_adult_cat, prefix='dummy', columns=categorical_feat)\n",
        "df_adult_cat.head()"
      ],
      "execution_count": null,
      "outputs": [
        {
          "output_type": "execute_result",
          "data": {
            "text/html": [
              "<div>\n",
              "<style scoped>\n",
              "    .dataframe tbody tr th:only-of-type {\n",
              "        vertical-align: middle;\n",
              "    }\n",
              "\n",
              "    .dataframe tbody tr th {\n",
              "        vertical-align: top;\n",
              "    }\n",
              "\n",
              "    .dataframe thead th {\n",
              "        text-align: right;\n",
              "    }\n",
              "</style>\n",
              "<table border=\"1\" class=\"dataframe\">\n",
              "  <thead>\n",
              "    <tr style=\"text-align: right;\">\n",
              "      <th></th>\n",
              "      <th>age</th>\n",
              "      <th>education_num</th>\n",
              "      <th>hours-per-week</th>\n",
              "      <th>class</th>\n",
              "      <th>dummy_0</th>\n",
              "      <th>dummy_1</th>\n",
              "      <th>dummy_2</th>\n",
              "      <th>dummy_3</th>\n",
              "      <th>dummy_4</th>\n",
              "      <th>dummy_5</th>\n",
              "      <th>dummy_6</th>\n",
              "      <th>dummy_7</th>\n",
              "      <th>dummy_8</th>\n",
              "      <th>dummy_0</th>\n",
              "      <th>dummy_1</th>\n",
              "      <th>dummy_2</th>\n",
              "      <th>dummy_3</th>\n",
              "      <th>dummy_4</th>\n",
              "      <th>dummy_5</th>\n",
              "      <th>dummy_6</th>\n",
              "      <th>dummy_7</th>\n",
              "      <th>dummy_8</th>\n",
              "      <th>dummy_9</th>\n",
              "      <th>dummy_10</th>\n",
              "      <th>dummy_11</th>\n",
              "      <th>dummy_12</th>\n",
              "      <th>dummy_13</th>\n",
              "      <th>dummy_14</th>\n",
              "      <th>dummy_15</th>\n",
              "      <th>dummy_0</th>\n",
              "      <th>dummy_1</th>\n",
              "      <th>dummy_2</th>\n",
              "      <th>dummy_3</th>\n",
              "      <th>dummy_4</th>\n",
              "      <th>dummy_5</th>\n",
              "      <th>dummy_6</th>\n",
              "      <th>dummy_0</th>\n",
              "      <th>dummy_1</th>\n",
              "      <th>dummy_2</th>\n",
              "      <th>dummy_3</th>\n",
              "      <th>...</th>\n",
              "      <th>dummy_2</th>\n",
              "      <th>dummy_3</th>\n",
              "      <th>dummy_4</th>\n",
              "      <th>dummy_5</th>\n",
              "      <th>dummy_6</th>\n",
              "      <th>dummy_7</th>\n",
              "      <th>dummy_8</th>\n",
              "      <th>dummy_9</th>\n",
              "      <th>dummy_10</th>\n",
              "      <th>dummy_11</th>\n",
              "      <th>dummy_12</th>\n",
              "      <th>dummy_13</th>\n",
              "      <th>dummy_14</th>\n",
              "      <th>dummy_15</th>\n",
              "      <th>dummy_16</th>\n",
              "      <th>dummy_17</th>\n",
              "      <th>dummy_18</th>\n",
              "      <th>dummy_19</th>\n",
              "      <th>dummy_20</th>\n",
              "      <th>dummy_21</th>\n",
              "      <th>dummy_22</th>\n",
              "      <th>dummy_23</th>\n",
              "      <th>dummy_24</th>\n",
              "      <th>dummy_25</th>\n",
              "      <th>dummy_26</th>\n",
              "      <th>dummy_27</th>\n",
              "      <th>dummy_28</th>\n",
              "      <th>dummy_29</th>\n",
              "      <th>dummy_30</th>\n",
              "      <th>dummy_31</th>\n",
              "      <th>dummy_32</th>\n",
              "      <th>dummy_33</th>\n",
              "      <th>dummy_34</th>\n",
              "      <th>dummy_35</th>\n",
              "      <th>dummy_36</th>\n",
              "      <th>dummy_37</th>\n",
              "      <th>dummy_38</th>\n",
              "      <th>dummy_39</th>\n",
              "      <th>dummy_40</th>\n",
              "      <th>dummy_41</th>\n",
              "    </tr>\n",
              "  </thead>\n",
              "  <tbody>\n",
              "    <tr>\n",
              "      <th>0</th>\n",
              "      <td>39</td>\n",
              "      <td>13</td>\n",
              "      <td>40</td>\n",
              "      <td>0</td>\n",
              "      <td>0</td>\n",
              "      <td>0</td>\n",
              "      <td>0</td>\n",
              "      <td>0</td>\n",
              "      <td>0</td>\n",
              "      <td>0</td>\n",
              "      <td>1</td>\n",
              "      <td>0</td>\n",
              "      <td>0</td>\n",
              "      <td>0</td>\n",
              "      <td>0</td>\n",
              "      <td>0</td>\n",
              "      <td>0</td>\n",
              "      <td>0</td>\n",
              "      <td>0</td>\n",
              "      <td>0</td>\n",
              "      <td>0</td>\n",
              "      <td>0</td>\n",
              "      <td>1</td>\n",
              "      <td>0</td>\n",
              "      <td>0</td>\n",
              "      <td>0</td>\n",
              "      <td>0</td>\n",
              "      <td>0</td>\n",
              "      <td>0</td>\n",
              "      <td>0</td>\n",
              "      <td>0</td>\n",
              "      <td>0</td>\n",
              "      <td>0</td>\n",
              "      <td>1</td>\n",
              "      <td>0</td>\n",
              "      <td>0</td>\n",
              "      <td>1</td>\n",
              "      <td>0</td>\n",
              "      <td>0</td>\n",
              "      <td>0</td>\n",
              "      <td>...</td>\n",
              "      <td>0</td>\n",
              "      <td>0</td>\n",
              "      <td>0</td>\n",
              "      <td>0</td>\n",
              "      <td>0</td>\n",
              "      <td>0</td>\n",
              "      <td>0</td>\n",
              "      <td>0</td>\n",
              "      <td>0</td>\n",
              "      <td>0</td>\n",
              "      <td>0</td>\n",
              "      <td>0</td>\n",
              "      <td>0</td>\n",
              "      <td>0</td>\n",
              "      <td>0</td>\n",
              "      <td>0</td>\n",
              "      <td>0</td>\n",
              "      <td>0</td>\n",
              "      <td>0</td>\n",
              "      <td>0</td>\n",
              "      <td>0</td>\n",
              "      <td>0</td>\n",
              "      <td>0</td>\n",
              "      <td>0</td>\n",
              "      <td>0</td>\n",
              "      <td>0</td>\n",
              "      <td>0</td>\n",
              "      <td>0</td>\n",
              "      <td>0</td>\n",
              "      <td>0</td>\n",
              "      <td>0</td>\n",
              "      <td>0</td>\n",
              "      <td>0</td>\n",
              "      <td>0</td>\n",
              "      <td>0</td>\n",
              "      <td>0</td>\n",
              "      <td>1</td>\n",
              "      <td>0</td>\n",
              "      <td>0</td>\n",
              "      <td>0</td>\n",
              "    </tr>\n",
              "    <tr>\n",
              "      <th>1</th>\n",
              "      <td>50</td>\n",
              "      <td>13</td>\n",
              "      <td>13</td>\n",
              "      <td>0</td>\n",
              "      <td>0</td>\n",
              "      <td>0</td>\n",
              "      <td>0</td>\n",
              "      <td>0</td>\n",
              "      <td>0</td>\n",
              "      <td>1</td>\n",
              "      <td>0</td>\n",
              "      <td>0</td>\n",
              "      <td>0</td>\n",
              "      <td>0</td>\n",
              "      <td>0</td>\n",
              "      <td>0</td>\n",
              "      <td>0</td>\n",
              "      <td>0</td>\n",
              "      <td>0</td>\n",
              "      <td>0</td>\n",
              "      <td>0</td>\n",
              "      <td>0</td>\n",
              "      <td>1</td>\n",
              "      <td>0</td>\n",
              "      <td>0</td>\n",
              "      <td>0</td>\n",
              "      <td>0</td>\n",
              "      <td>0</td>\n",
              "      <td>0</td>\n",
              "      <td>0</td>\n",
              "      <td>0</td>\n",
              "      <td>1</td>\n",
              "      <td>0</td>\n",
              "      <td>0</td>\n",
              "      <td>0</td>\n",
              "      <td>0</td>\n",
              "      <td>0</td>\n",
              "      <td>0</td>\n",
              "      <td>0</td>\n",
              "      <td>1</td>\n",
              "      <td>...</td>\n",
              "      <td>0</td>\n",
              "      <td>0</td>\n",
              "      <td>0</td>\n",
              "      <td>0</td>\n",
              "      <td>0</td>\n",
              "      <td>0</td>\n",
              "      <td>0</td>\n",
              "      <td>0</td>\n",
              "      <td>0</td>\n",
              "      <td>0</td>\n",
              "      <td>0</td>\n",
              "      <td>0</td>\n",
              "      <td>0</td>\n",
              "      <td>0</td>\n",
              "      <td>0</td>\n",
              "      <td>0</td>\n",
              "      <td>0</td>\n",
              "      <td>0</td>\n",
              "      <td>0</td>\n",
              "      <td>0</td>\n",
              "      <td>0</td>\n",
              "      <td>0</td>\n",
              "      <td>0</td>\n",
              "      <td>0</td>\n",
              "      <td>0</td>\n",
              "      <td>0</td>\n",
              "      <td>0</td>\n",
              "      <td>0</td>\n",
              "      <td>0</td>\n",
              "      <td>0</td>\n",
              "      <td>0</td>\n",
              "      <td>0</td>\n",
              "      <td>0</td>\n",
              "      <td>0</td>\n",
              "      <td>0</td>\n",
              "      <td>0</td>\n",
              "      <td>1</td>\n",
              "      <td>0</td>\n",
              "      <td>0</td>\n",
              "      <td>0</td>\n",
              "    </tr>\n",
              "    <tr>\n",
              "      <th>2</th>\n",
              "      <td>38</td>\n",
              "      <td>9</td>\n",
              "      <td>40</td>\n",
              "      <td>0</td>\n",
              "      <td>0</td>\n",
              "      <td>0</td>\n",
              "      <td>0</td>\n",
              "      <td>1</td>\n",
              "      <td>0</td>\n",
              "      <td>0</td>\n",
              "      <td>0</td>\n",
              "      <td>0</td>\n",
              "      <td>0</td>\n",
              "      <td>0</td>\n",
              "      <td>0</td>\n",
              "      <td>0</td>\n",
              "      <td>0</td>\n",
              "      <td>0</td>\n",
              "      <td>0</td>\n",
              "      <td>0</td>\n",
              "      <td>0</td>\n",
              "      <td>0</td>\n",
              "      <td>0</td>\n",
              "      <td>0</td>\n",
              "      <td>1</td>\n",
              "      <td>0</td>\n",
              "      <td>0</td>\n",
              "      <td>0</td>\n",
              "      <td>0</td>\n",
              "      <td>1</td>\n",
              "      <td>0</td>\n",
              "      <td>0</td>\n",
              "      <td>0</td>\n",
              "      <td>0</td>\n",
              "      <td>0</td>\n",
              "      <td>0</td>\n",
              "      <td>0</td>\n",
              "      <td>0</td>\n",
              "      <td>0</td>\n",
              "      <td>0</td>\n",
              "      <td>...</td>\n",
              "      <td>0</td>\n",
              "      <td>0</td>\n",
              "      <td>0</td>\n",
              "      <td>0</td>\n",
              "      <td>0</td>\n",
              "      <td>0</td>\n",
              "      <td>0</td>\n",
              "      <td>0</td>\n",
              "      <td>0</td>\n",
              "      <td>0</td>\n",
              "      <td>0</td>\n",
              "      <td>0</td>\n",
              "      <td>0</td>\n",
              "      <td>0</td>\n",
              "      <td>0</td>\n",
              "      <td>0</td>\n",
              "      <td>0</td>\n",
              "      <td>0</td>\n",
              "      <td>0</td>\n",
              "      <td>0</td>\n",
              "      <td>0</td>\n",
              "      <td>0</td>\n",
              "      <td>0</td>\n",
              "      <td>0</td>\n",
              "      <td>0</td>\n",
              "      <td>0</td>\n",
              "      <td>0</td>\n",
              "      <td>0</td>\n",
              "      <td>0</td>\n",
              "      <td>0</td>\n",
              "      <td>0</td>\n",
              "      <td>0</td>\n",
              "      <td>0</td>\n",
              "      <td>0</td>\n",
              "      <td>0</td>\n",
              "      <td>0</td>\n",
              "      <td>1</td>\n",
              "      <td>0</td>\n",
              "      <td>0</td>\n",
              "      <td>0</td>\n",
              "    </tr>\n",
              "    <tr>\n",
              "      <th>3</th>\n",
              "      <td>53</td>\n",
              "      <td>7</td>\n",
              "      <td>40</td>\n",
              "      <td>0</td>\n",
              "      <td>0</td>\n",
              "      <td>0</td>\n",
              "      <td>0</td>\n",
              "      <td>1</td>\n",
              "      <td>0</td>\n",
              "      <td>0</td>\n",
              "      <td>0</td>\n",
              "      <td>0</td>\n",
              "      <td>0</td>\n",
              "      <td>0</td>\n",
              "      <td>1</td>\n",
              "      <td>0</td>\n",
              "      <td>0</td>\n",
              "      <td>0</td>\n",
              "      <td>0</td>\n",
              "      <td>0</td>\n",
              "      <td>0</td>\n",
              "      <td>0</td>\n",
              "      <td>0</td>\n",
              "      <td>0</td>\n",
              "      <td>0</td>\n",
              "      <td>0</td>\n",
              "      <td>0</td>\n",
              "      <td>0</td>\n",
              "      <td>0</td>\n",
              "      <td>0</td>\n",
              "      <td>0</td>\n",
              "      <td>1</td>\n",
              "      <td>0</td>\n",
              "      <td>0</td>\n",
              "      <td>0</td>\n",
              "      <td>0</td>\n",
              "      <td>0</td>\n",
              "      <td>0</td>\n",
              "      <td>0</td>\n",
              "      <td>0</td>\n",
              "      <td>...</td>\n",
              "      <td>0</td>\n",
              "      <td>0</td>\n",
              "      <td>0</td>\n",
              "      <td>0</td>\n",
              "      <td>0</td>\n",
              "      <td>0</td>\n",
              "      <td>0</td>\n",
              "      <td>0</td>\n",
              "      <td>0</td>\n",
              "      <td>0</td>\n",
              "      <td>0</td>\n",
              "      <td>0</td>\n",
              "      <td>0</td>\n",
              "      <td>0</td>\n",
              "      <td>0</td>\n",
              "      <td>0</td>\n",
              "      <td>0</td>\n",
              "      <td>0</td>\n",
              "      <td>0</td>\n",
              "      <td>0</td>\n",
              "      <td>0</td>\n",
              "      <td>0</td>\n",
              "      <td>0</td>\n",
              "      <td>0</td>\n",
              "      <td>0</td>\n",
              "      <td>0</td>\n",
              "      <td>0</td>\n",
              "      <td>0</td>\n",
              "      <td>0</td>\n",
              "      <td>0</td>\n",
              "      <td>0</td>\n",
              "      <td>0</td>\n",
              "      <td>0</td>\n",
              "      <td>0</td>\n",
              "      <td>0</td>\n",
              "      <td>0</td>\n",
              "      <td>1</td>\n",
              "      <td>0</td>\n",
              "      <td>0</td>\n",
              "      <td>0</td>\n",
              "    </tr>\n",
              "    <tr>\n",
              "      <th>4</th>\n",
              "      <td>28</td>\n",
              "      <td>13</td>\n",
              "      <td>40</td>\n",
              "      <td>0</td>\n",
              "      <td>0</td>\n",
              "      <td>0</td>\n",
              "      <td>0</td>\n",
              "      <td>1</td>\n",
              "      <td>0</td>\n",
              "      <td>0</td>\n",
              "      <td>0</td>\n",
              "      <td>0</td>\n",
              "      <td>0</td>\n",
              "      <td>0</td>\n",
              "      <td>0</td>\n",
              "      <td>0</td>\n",
              "      <td>0</td>\n",
              "      <td>0</td>\n",
              "      <td>0</td>\n",
              "      <td>0</td>\n",
              "      <td>0</td>\n",
              "      <td>0</td>\n",
              "      <td>1</td>\n",
              "      <td>0</td>\n",
              "      <td>0</td>\n",
              "      <td>0</td>\n",
              "      <td>0</td>\n",
              "      <td>0</td>\n",
              "      <td>0</td>\n",
              "      <td>0</td>\n",
              "      <td>0</td>\n",
              "      <td>1</td>\n",
              "      <td>0</td>\n",
              "      <td>0</td>\n",
              "      <td>0</td>\n",
              "      <td>0</td>\n",
              "      <td>0</td>\n",
              "      <td>0</td>\n",
              "      <td>0</td>\n",
              "      <td>0</td>\n",
              "      <td>...</td>\n",
              "      <td>0</td>\n",
              "      <td>0</td>\n",
              "      <td>1</td>\n",
              "      <td>0</td>\n",
              "      <td>0</td>\n",
              "      <td>0</td>\n",
              "      <td>0</td>\n",
              "      <td>0</td>\n",
              "      <td>0</td>\n",
              "      <td>0</td>\n",
              "      <td>0</td>\n",
              "      <td>0</td>\n",
              "      <td>0</td>\n",
              "      <td>0</td>\n",
              "      <td>0</td>\n",
              "      <td>0</td>\n",
              "      <td>0</td>\n",
              "      <td>0</td>\n",
              "      <td>0</td>\n",
              "      <td>0</td>\n",
              "      <td>0</td>\n",
              "      <td>0</td>\n",
              "      <td>0</td>\n",
              "      <td>0</td>\n",
              "      <td>0</td>\n",
              "      <td>0</td>\n",
              "      <td>0</td>\n",
              "      <td>0</td>\n",
              "      <td>0</td>\n",
              "      <td>0</td>\n",
              "      <td>0</td>\n",
              "      <td>0</td>\n",
              "      <td>0</td>\n",
              "      <td>0</td>\n",
              "      <td>0</td>\n",
              "      <td>0</td>\n",
              "      <td>0</td>\n",
              "      <td>0</td>\n",
              "      <td>0</td>\n",
              "      <td>0</td>\n",
              "    </tr>\n",
              "  </tbody>\n",
              "</table>\n",
              "<p>5 rows × 106 columns</p>\n",
              "</div>"
            ],
            "text/plain": [
              "   age  education_num  hours-per-week  ...  dummy_39  dummy_40  dummy_41\n",
              "0   39             13              40  ...         0         0         0\n",
              "1   50             13              13  ...         0         0         0\n",
              "2   38              9              40  ...         0         0         0\n",
              "3   53              7              40  ...         0         0         0\n",
              "4   28             13              40  ...         0         0         0\n",
              "\n",
              "[5 rows x 106 columns]"
            ]
          },
          "metadata": {
            "tags": []
          },
          "execution_count": 220
        }
      ]
    },
    {
      "cell_type": "code",
      "metadata": {
        "id": "nuqhEmOin4YR",
        "colab_type": "code",
        "colab": {}
      },
      "source": [
        "# разделим датасет на тренировочную и тестовую выборки\n",
        "\n",
        "X_train_cat = df_adult_cat.iloc[:size_adult, :].drop(['class'], axis=1)\n",
        "y_train_cat = df_adult_cat['class'].iloc[:size_adult]\n",
        "X_test_cat = df_adult_cat.iloc[:-size_adult, :].drop(['class'], axis=1)\n",
        "y_test_cat = df_adult_cat['class'].iloc[:-size_adult]"
      ],
      "execution_count": null,
      "outputs": []
    },
    {
      "cell_type": "code",
      "metadata": {
        "id": "O9Iz_rE2tl3U",
        "colab_type": "code",
        "colab": {
          "base_uri": "https://localhost:8080/",
          "height": 195
        },
        "outputId": "e68a1180-7ff5-4393-c716-1dcddbbf4516"
      },
      "source": [
        "# к числовым признакам применим нормализацию\n",
        "\n",
        "scaler = StandardScaler()\n",
        "\n",
        "X_train_cat[numerical_feat] = scaler.fit_transform(X_train_cat[numerical_feat])\n",
        "X_test_cat[numerical_feat] = scaler.transform(X_test_cat[numerical_feat])\n",
        "\n",
        "X_train_cat[numerical_feat].head()"
      ],
      "execution_count": null,
      "outputs": [
        {
          "output_type": "execute_result",
          "data": {
            "text/html": [
              "<div>\n",
              "<style scoped>\n",
              "    .dataframe tbody tr th:only-of-type {\n",
              "        vertical-align: middle;\n",
              "    }\n",
              "\n",
              "    .dataframe tbody tr th {\n",
              "        vertical-align: top;\n",
              "    }\n",
              "\n",
              "    .dataframe thead th {\n",
              "        text-align: right;\n",
              "    }\n",
              "</style>\n",
              "<table border=\"1\" class=\"dataframe\">\n",
              "  <thead>\n",
              "    <tr style=\"text-align: right;\">\n",
              "      <th></th>\n",
              "      <th>age</th>\n",
              "      <th>education_num</th>\n",
              "      <th>hours-per-week</th>\n",
              "    </tr>\n",
              "  </thead>\n",
              "  <tbody>\n",
              "    <tr>\n",
              "      <th>0</th>\n",
              "      <td>0.030671</td>\n",
              "      <td>1.134739</td>\n",
              "      <td>-0.035429</td>\n",
              "    </tr>\n",
              "    <tr>\n",
              "      <th>1</th>\n",
              "      <td>0.837109</td>\n",
              "      <td>1.134739</td>\n",
              "      <td>-2.222153</td>\n",
              "    </tr>\n",
              "    <tr>\n",
              "      <th>2</th>\n",
              "      <td>-0.042642</td>\n",
              "      <td>-0.420060</td>\n",
              "      <td>-0.035429</td>\n",
              "    </tr>\n",
              "    <tr>\n",
              "      <th>3</th>\n",
              "      <td>1.057047</td>\n",
              "      <td>-1.197459</td>\n",
              "      <td>-0.035429</td>\n",
              "    </tr>\n",
              "    <tr>\n",
              "      <th>4</th>\n",
              "      <td>-0.775768</td>\n",
              "      <td>1.134739</td>\n",
              "      <td>-0.035429</td>\n",
              "    </tr>\n",
              "  </tbody>\n",
              "</table>\n",
              "</div>"
            ],
            "text/plain": [
              "        age  education_num  hours-per-week\n",
              "0  0.030671       1.134739       -0.035429\n",
              "1  0.837109       1.134739       -2.222153\n",
              "2 -0.042642      -0.420060       -0.035429\n",
              "3  1.057047      -1.197459       -0.035429\n",
              "4 -0.775768       1.134739       -0.035429"
            ]
          },
          "metadata": {
            "tags": []
          },
          "execution_count": 110
        }
      ]
    },
    {
      "cell_type": "code",
      "metadata": {
        "id": "2FHg5JMEo0UB",
        "colab_type": "code",
        "colab": {
          "base_uri": "https://localhost:8080/",
          "height": 50
        },
        "outputId": "089d3a63-cb54-4042-8903-5f8f4c2f7662"
      },
      "source": [
        "# протестируем модели с GridSearchCV\n",
        "# KNeighborsClassifier\n",
        "\n",
        "knn_model = KNeighborsClassifier()\n",
        "\n",
        "gs_knn = GridSearchCV(\n",
        "        knn_model,\n",
        "        param_grid={'n_neighbors': list(range(1, 10)),\n",
        "                    'metric': ['euclidean', 'manhattan', 'chebyshev', 'minkowski']},\n",
        "        cv=3,\n",
        "        scoring='accuracy'\n",
        "        )\n",
        "gs_knn.fit(X_train_cat, y_train_cat)\n",
        "\n",
        "knn_model = knn_model.set_params(**gs_knn.best_params_)\n",
        "knn_model.fit(X_train_cat, y_train_cat)\n",
        "\n",
        "acc_knn = knn_model.score(X_test_cat, y_test_cat)\n",
        "\n",
        "print('best_parameters:', gs_knn.best_params_)\n",
        "print('accuracy:', acc_knn)"
      ],
      "execution_count": null,
      "outputs": [
        {
          "output_type": "stream",
          "text": [
            "best_parameters: {'metric': 'manhattan', 'n_neighbors': 9}\n",
            "accuracy: 0.8565198697868681\n"
          ],
          "name": "stdout"
        }
      ]
    },
    {
      "cell_type": "code",
      "metadata": {
        "id": "E-2HVvectl0y",
        "colab_type": "code",
        "colab": {
          "base_uri": "https://localhost:8080/",
          "height": 50
        },
        "outputId": "e3af0315-afca-4ae3-e8cc-4238c8b4d0dc"
      },
      "source": [
        "# SVM\n",
        "# подберем ядро\n",
        "\n",
        "clf_svm = SVC()\n",
        "\n",
        "gs_svm = GridSearchCV(\n",
        "    clf_svm,\n",
        "    param_grid={\n",
        "        'kernel': ['linear', 'poly', 'rbf', 'sigmoid']\n",
        "    }\n",
        ")\n",
        "gs_svm.fit(X_train_cat, y_train_cat)\n",
        "\n",
        "clf_svm = SVC(**gs_svm.best_params_)\n",
        "clf_svm.fit(X_train_cat, y_train_cat)\n",
        "\n",
        "acc_svm = clf_svm.score(X_test_cat, y_test_cat)\n",
        "\n",
        "print('best_parameters:', gs_svm.best_params_)\n",
        "print('accuracy:', acc_svm)"
      ],
      "execution_count": null,
      "outputs": [
        {
          "output_type": "stream",
          "text": [
            "best_parameters: {'kernel': 'linear'}\n",
            "accuracy: 0.8340396781524476\n"
          ],
          "name": "stdout"
        }
      ]
    },
    {
      "cell_type": "markdown",
      "metadata": {
        "id": "ML99yo5-k9dE",
        "colab_type": "text"
      },
      "source": [
        "###При использовании разных способов для работы с отсутствующими значениями и обработки признаков лучшие результаты показал KNeighborsClassifier."
      ]
    }
  ]
}
