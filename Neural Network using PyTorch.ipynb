{
  "nbformat": 4,
  "nbformat_minor": 0,
  "metadata": {
    "kernelspec": {
      "name": "python3",
      "display_name": "Python 3"
    },
    "language_info": {
      "codemirror_mode": {
        "name": "ipython",
        "version": 3
      },
      "file_extension": ".py",
      "mimetype": "text/x-python",
      "name": "python",
      "nbconvert_exporter": "python",
      "pygments_lexer": "ipython3",
      "version": "3.7.6"
    },
    "colab": {
      "name": "Чупрова_hw6.ipynb",
      "provenance": []
    }
  },
  "cells": [
    {
      "cell_type": "code",
      "metadata": {
        "id": "QvS5eZLVoftr",
        "colab_type": "code",
        "colab": {}
      },
      "source": [
        "%matplotlib inline\n",
        "\n",
        "\n",
        "import copy\n",
        "import random\n",
        "\n",
        "import matplotlib.pyplot as plt\n",
        "import numpy as np\n",
        "import pandas as pd\n",
        "import seaborn as sns\n",
        "\n",
        "warnings.simplefilter(action='ignore', category=FutureWarning)\n",
        "import warnings\n",
        "warnings.filterwarnings(\"ignore\")"
      ],
      "execution_count": null,
      "outputs": []
    },
    {
      "cell_type": "markdown",
      "metadata": {
        "id": "KMFiusbWofyQ",
        "colab_type": "text"
      },
      "source": [
        "# Multilayer perceptron\n",
        "\n",
        "1. Напишите многослойный перцептрон для решения задачи из ([соревнования](https://www.kaggle.com/c/pkdd-15-predict-taxi-service-trajectory-i/overview))\n",
        "\n",
        "2. Подберите метод градиентного спуска из списка SGD, Adam, Momentum (на отложенной выборке) и шаг для этого метода.\n",
        "\n",
        "3. Подберите значение дропаута и коэффициент L2 регуляризации.\n",
        "\n",
        "4. Постройте кривые обучения."
      ]
    },
    {
      "cell_type": "markdown",
      "metadata": {
        "id": "cclcpHeMkVDx",
        "colab_type": "text"
      },
      "source": [
        "### Обработка данных"
      ]
    },
    {
      "cell_type": "code",
      "metadata": {
        "id": "FrZIf4O6SqBo",
        "colab_type": "code",
        "colab": {}
      },
      "source": [
        "import datetime\n",
        "from datetime import datetime\n",
        "from datetime import date\n",
        "import torch"
      ],
      "execution_count": null,
      "outputs": []
    },
    {
      "cell_type": "code",
      "metadata": {
        "id": "oiE2RuSIofyQ",
        "colab_type": "code",
        "colab": {}
      },
      "source": [
        "train = pd.read_csv('/content/train.csv', nrows=100000)\n",
        "test = pd.read_csv('/content/test.csv')"
      ],
      "execution_count": null,
      "outputs": []
    },
    {
      "cell_type": "code",
      "metadata": {
        "id": "8ho4Go5MkdYj",
        "colab_type": "code",
        "colab": {
          "base_uri": "https://localhost:8080/",
          "height": 195
        },
        "outputId": "572e3274-d2af-40cd-fb2e-ada39152c3b4"
      },
      "source": [
        "train.head()"
      ],
      "execution_count": null,
      "outputs": [
        {
          "output_type": "execute_result",
          "data": {
            "text/html": [
              "<div>\n",
              "<style scoped>\n",
              "    .dataframe tbody tr th:only-of-type {\n",
              "        vertical-align: middle;\n",
              "    }\n",
              "\n",
              "    .dataframe tbody tr th {\n",
              "        vertical-align: top;\n",
              "    }\n",
              "\n",
              "    .dataframe thead th {\n",
              "        text-align: right;\n",
              "    }\n",
              "</style>\n",
              "<table border=\"1\" class=\"dataframe\">\n",
              "  <thead>\n",
              "    <tr style=\"text-align: right;\">\n",
              "      <th></th>\n",
              "      <th>TRIP_ID</th>\n",
              "      <th>CALL_TYPE</th>\n",
              "      <th>ORIGIN_CALL</th>\n",
              "      <th>ORIGIN_STAND</th>\n",
              "      <th>TAXI_ID</th>\n",
              "      <th>TIMESTAMP</th>\n",
              "      <th>DAY_TYPE</th>\n",
              "      <th>MISSING_DATA</th>\n",
              "      <th>POLYLINE</th>\n",
              "    </tr>\n",
              "  </thead>\n",
              "  <tbody>\n",
              "    <tr>\n",
              "      <th>0</th>\n",
              "      <td>1372636858620000589</td>\n",
              "      <td>C</td>\n",
              "      <td>NaN</td>\n",
              "      <td>NaN</td>\n",
              "      <td>20000589</td>\n",
              "      <td>1372636858</td>\n",
              "      <td>A</td>\n",
              "      <td>False</td>\n",
              "      <td>[[-8.618643,41.141412],[-8.618499,41.141376],[...</td>\n",
              "    </tr>\n",
              "    <tr>\n",
              "      <th>1</th>\n",
              "      <td>1372637303620000596</td>\n",
              "      <td>B</td>\n",
              "      <td>NaN</td>\n",
              "      <td>7.0</td>\n",
              "      <td>20000596</td>\n",
              "      <td>1372637303</td>\n",
              "      <td>A</td>\n",
              "      <td>False</td>\n",
              "      <td>[[-8.639847,41.159826],[-8.640351,41.159871],[...</td>\n",
              "    </tr>\n",
              "    <tr>\n",
              "      <th>2</th>\n",
              "      <td>1372636951620000320</td>\n",
              "      <td>C</td>\n",
              "      <td>NaN</td>\n",
              "      <td>NaN</td>\n",
              "      <td>20000320</td>\n",
              "      <td>1372636951</td>\n",
              "      <td>A</td>\n",
              "      <td>False</td>\n",
              "      <td>[[-8.612964,41.140359],[-8.613378,41.14035],[-...</td>\n",
              "    </tr>\n",
              "    <tr>\n",
              "      <th>3</th>\n",
              "      <td>1372636854620000520</td>\n",
              "      <td>C</td>\n",
              "      <td>NaN</td>\n",
              "      <td>NaN</td>\n",
              "      <td>20000520</td>\n",
              "      <td>1372636854</td>\n",
              "      <td>A</td>\n",
              "      <td>False</td>\n",
              "      <td>[[-8.574678,41.151951],[-8.574705,41.151942],[...</td>\n",
              "    </tr>\n",
              "    <tr>\n",
              "      <th>4</th>\n",
              "      <td>1372637091620000337</td>\n",
              "      <td>C</td>\n",
              "      <td>NaN</td>\n",
              "      <td>NaN</td>\n",
              "      <td>20000337</td>\n",
              "      <td>1372637091</td>\n",
              "      <td>A</td>\n",
              "      <td>False</td>\n",
              "      <td>[[-8.645994,41.18049],[-8.645949,41.180517],[-...</td>\n",
              "    </tr>\n",
              "  </tbody>\n",
              "</table>\n",
              "</div>"
            ],
            "text/plain": [
              "               TRIP_ID  ...                                           POLYLINE\n",
              "0  1372636858620000589  ...  [[-8.618643,41.141412],[-8.618499,41.141376],[...\n",
              "1  1372637303620000596  ...  [[-8.639847,41.159826],[-8.640351,41.159871],[...\n",
              "2  1372636951620000320  ...  [[-8.612964,41.140359],[-8.613378,41.14035],[-...\n",
              "3  1372636854620000520  ...  [[-8.574678,41.151951],[-8.574705,41.151942],[...\n",
              "4  1372637091620000337  ...  [[-8.645994,41.18049],[-8.645949,41.180517],[-...\n",
              "\n",
              "[5 rows x 9 columns]"
            ]
          },
          "metadata": {
            "tags": []
          },
          "execution_count": 419
        }
      ]
    },
    {
      "cell_type": "code",
      "metadata": {
        "id": "UTp0ZkaitSBa",
        "colab_type": "code",
        "colab": {
          "base_uri": "https://localhost:8080/",
          "height": 34
        },
        "outputId": "09559ee4-f88a-4ce6-ba50-d9ecbff1809d"
      },
      "source": [
        "train.shape"
      ],
      "execution_count": null,
      "outputs": [
        {
          "output_type": "execute_result",
          "data": {
            "text/plain": [
              "(100000, 9)"
            ]
          },
          "metadata": {
            "tags": []
          },
          "execution_count": 420
        }
      ]
    },
    {
      "cell_type": "code",
      "metadata": {
        "id": "RSEylAJuuoJ7",
        "colab_type": "code",
        "colab": {
          "base_uri": "https://localhost:8080/",
          "height": 185
        },
        "outputId": "54f6d78e-ff9d-4d61-bd23-0a535815570d"
      },
      "source": [
        "train.isnull().sum()"
      ],
      "execution_count": null,
      "outputs": [
        {
          "output_type": "execute_result",
          "data": {
            "text/plain": [
              "TRIP_ID             0\n",
              "CALL_TYPE           0\n",
              "ORIGIN_CALL     79038\n",
              "ORIGIN_STAND    50689\n",
              "TAXI_ID             0\n",
              "TIMESTAMP           0\n",
              "DAY_TYPE            0\n",
              "MISSING_DATA        0\n",
              "POLYLINE            0\n",
              "dtype: int64"
            ]
          },
          "metadata": {
            "tags": []
          },
          "execution_count": 421
        }
      ]
    },
    {
      "cell_type": "code",
      "metadata": {
        "id": "LlrHIdKStVsu",
        "colab_type": "code",
        "colab": {
          "base_uri": "https://localhost:8080/",
          "height": 185
        },
        "outputId": "dcb89741-4687-4e4c-fe10-9439f8cc9b91"
      },
      "source": [
        "train.dtypes"
      ],
      "execution_count": null,
      "outputs": [
        {
          "output_type": "execute_result",
          "data": {
            "text/plain": [
              "TRIP_ID           int64\n",
              "CALL_TYPE        object\n",
              "ORIGIN_CALL     float64\n",
              "ORIGIN_STAND    float64\n",
              "TAXI_ID           int64\n",
              "TIMESTAMP         int64\n",
              "DAY_TYPE         object\n",
              "MISSING_DATA       bool\n",
              "POLYLINE         object\n",
              "dtype: object"
            ]
          },
          "metadata": {
            "tags": []
          },
          "execution_count": 422
        }
      ]
    },
    {
      "cell_type": "code",
      "metadata": {
        "id": "yOX_wccsu2zb",
        "colab_type": "code",
        "colab": {
          "base_uri": "https://localhost:8080/",
          "height": 185
        },
        "outputId": "ced251a8-d073-462d-c890-113e9dbcab0e"
      },
      "source": [
        "train.nunique()"
      ],
      "execution_count": null,
      "outputs": [
        {
          "output_type": "execute_result",
          "data": {
            "text/plain": [
              "TRIP_ID         99992\n",
              "CALL_TYPE           3\n",
              "ORIGIN_CALL      8160\n",
              "ORIGIN_STAND       62\n",
              "TAXI_ID           430\n",
              "TIMESTAMP       96801\n",
              "DAY_TYPE            1\n",
              "MISSING_DATA        1\n",
              "POLYLINE        99577\n",
              "dtype: int64"
            ]
          },
          "metadata": {
            "tags": []
          },
          "execution_count": 423
        }
      ]
    },
    {
      "cell_type": "code",
      "metadata": {
        "id": "r8bBZEIlc9Wl",
        "colab_type": "code",
        "colab": {
          "base_uri": "https://localhost:8080/",
          "height": 34
        },
        "outputId": "af0d206a-36e4-4b5c-9070-5c0f7e220669"
      },
      "source": [
        "type(train['TIMESTAMP'][0])"
      ],
      "execution_count": null,
      "outputs": [
        {
          "output_type": "execute_result",
          "data": {
            "text/plain": [
              "numpy.int64"
            ]
          },
          "metadata": {
            "tags": []
          },
          "execution_count": 424
        }
      ]
    },
    {
      "cell_type": "code",
      "metadata": {
        "id": "gPgv_XvRNn_Y",
        "colab_type": "code",
        "colab": {}
      },
      "source": [
        "# преобразуем столбец TIMESTAMP в 2 признака: день недели и час\n",
        "\n",
        "train['TIMESTAMP'] = pd.to_datetime(train['TIMESTAMP'], unit='s')\n",
        "train['WEEKDAY'] = train['TIMESTAMP'].dt.weekday + 1\n",
        "train['HOUR'] = train['TIMESTAMP'].dt.hour + 1\n",
        "\n",
        "test['TIMESTAMP'] = pd.to_datetime(test['TIMESTAMP'], unit='s')\n",
        "test['WEEKDAY'] = test['TIMESTAMP'].dt.weekday + 1\n",
        "test['HOUR'] = test['TIMESTAMP'].dt.hour + 1"
      ],
      "execution_count": null,
      "outputs": []
    },
    {
      "cell_type": "code",
      "metadata": {
        "id": "Lrh5gK00Nn6F",
        "colab_type": "code",
        "colab": {}
      },
      "source": [
        "# удалим ненужные признаки\n",
        "\n",
        "train = train.drop(['TRIP_ID', 'ORIGIN_CALL', 'DAY_TYPE', 'MISSING_DATA', 'TIMESTAMP'], axis=1)\n",
        "test = test.drop(['TRIP_ID', 'ORIGIN_CALL', 'DAY_TYPE', 'MISSING_DATA', 'TIMESTAMP'], axis=1)"
      ],
      "execution_count": null,
      "outputs": []
    },
    {
      "cell_type": "code",
      "metadata": {
        "id": "LWI8wdEpmS-D",
        "colab_type": "code",
        "colab": {
          "base_uri": "https://localhost:8080/",
          "height": 195
        },
        "outputId": "ba7126bf-6d5d-4c11-aa62-4e60ef53ee8a"
      },
      "source": [
        "train.head()"
      ],
      "execution_count": null,
      "outputs": [
        {
          "output_type": "execute_result",
          "data": {
            "text/html": [
              "<div>\n",
              "<style scoped>\n",
              "    .dataframe tbody tr th:only-of-type {\n",
              "        vertical-align: middle;\n",
              "    }\n",
              "\n",
              "    .dataframe tbody tr th {\n",
              "        vertical-align: top;\n",
              "    }\n",
              "\n",
              "    .dataframe thead th {\n",
              "        text-align: right;\n",
              "    }\n",
              "</style>\n",
              "<table border=\"1\" class=\"dataframe\">\n",
              "  <thead>\n",
              "    <tr style=\"text-align: right;\">\n",
              "      <th></th>\n",
              "      <th>CALL_TYPE</th>\n",
              "      <th>ORIGIN_STAND</th>\n",
              "      <th>TAXI_ID</th>\n",
              "      <th>POLYLINE</th>\n",
              "      <th>WEEKDAY</th>\n",
              "      <th>HOUR</th>\n",
              "    </tr>\n",
              "  </thead>\n",
              "  <tbody>\n",
              "    <tr>\n",
              "      <th>0</th>\n",
              "      <td>C</td>\n",
              "      <td>NaN</td>\n",
              "      <td>20000589</td>\n",
              "      <td>[[-8.618643,41.141412],[-8.618499,41.141376],[...</td>\n",
              "      <td>1</td>\n",
              "      <td>1</td>\n",
              "    </tr>\n",
              "    <tr>\n",
              "      <th>1</th>\n",
              "      <td>B</td>\n",
              "      <td>7.0</td>\n",
              "      <td>20000596</td>\n",
              "      <td>[[-8.639847,41.159826],[-8.640351,41.159871],[...</td>\n",
              "      <td>1</td>\n",
              "      <td>1</td>\n",
              "    </tr>\n",
              "    <tr>\n",
              "      <th>2</th>\n",
              "      <td>C</td>\n",
              "      <td>NaN</td>\n",
              "      <td>20000320</td>\n",
              "      <td>[[-8.612964,41.140359],[-8.613378,41.14035],[-...</td>\n",
              "      <td>1</td>\n",
              "      <td>1</td>\n",
              "    </tr>\n",
              "    <tr>\n",
              "      <th>3</th>\n",
              "      <td>C</td>\n",
              "      <td>NaN</td>\n",
              "      <td>20000520</td>\n",
              "      <td>[[-8.574678,41.151951],[-8.574705,41.151942],[...</td>\n",
              "      <td>1</td>\n",
              "      <td>1</td>\n",
              "    </tr>\n",
              "    <tr>\n",
              "      <th>4</th>\n",
              "      <td>C</td>\n",
              "      <td>NaN</td>\n",
              "      <td>20000337</td>\n",
              "      <td>[[-8.645994,41.18049],[-8.645949,41.180517],[-...</td>\n",
              "      <td>1</td>\n",
              "      <td>1</td>\n",
              "    </tr>\n",
              "  </tbody>\n",
              "</table>\n",
              "</div>"
            ],
            "text/plain": [
              "  CALL_TYPE  ORIGIN_STAND  ...  WEEKDAY HOUR\n",
              "0         C           NaN  ...        1    1\n",
              "1         B           7.0  ...        1    1\n",
              "2         C           NaN  ...        1    1\n",
              "3         C           NaN  ...        1    1\n",
              "4         C           NaN  ...        1    1\n",
              "\n",
              "[5 rows x 6 columns]"
            ]
          },
          "metadata": {
            "tags": []
          },
          "execution_count": 427
        }
      ]
    },
    {
      "cell_type": "markdown",
      "metadata": {
        "id": "udMYRdAG3ZBP",
        "colab_type": "text"
      },
      "source": [
        "**Описание признаков:**\n",
        "\n",
        "ORIGIN_STAND: (integer): It contains a unique identifier for the taxi stand.\n",
        "\n",
        "TAXI_ID: (integer): It contains a unique identifier for the taxi driver that performed each trip.\n",
        "\n",
        "CALL_TYPE: (char) It identifies the way used to demand this service. It may contain one of three possible values:\n",
        "- 'A' if this trip was dispatched from the central;\n",
        "- 'B' if this trip was demanded directly to a taxi driver at a specific stand;\n",
        "- 'C' otherwise (i.e. a trip demanded on a random street).\n",
        "\n",
        "POLYLINE: (String): It contains a list of GPS coordinates mapped as a string. The beginning and the end of the string are identified with brackets. Each pair of coordinates is also identified by the same brackets as [LONGITUDE, LATITUDE]. This list contains one pair of coordinates for each 15 seconds of trip. The last list item corresponds to the trip's destination while the first one represents its start."
      ]
    },
    {
      "cell_type": "code",
      "metadata": {
        "id": "jLhahs-T7Mx7",
        "colab_type": "code",
        "colab": {}
      },
      "source": [
        "# заполним пропущенные значения\n",
        "# заменим ID на порядковые номера\n",
        "# к CALL_TYPE применим one-hot кодирование\n",
        "\n",
        "train['ORIGIN_STAND'].fillna(method ='ffill', inplace=True)\n",
        "test['ORIGIN_STAND'].fillna(method ='ffill', inplace=True)\n",
        "\n",
        "unique_id_train = train['TAXI_ID'].unique()\n",
        "unique_id_test = test['TAXI_ID'].unique()\n",
        "taxi_id_train = {o:i for i,o in enumerate(unique_id_train)}\n",
        "taxi_id_test = {o:i for i,o in enumerate(unique_id_test)}\n",
        "train['TAXI_ID'] = train['TAXI_ID'].apply(lambda x: taxi_id_train[x])\n",
        "test['TAXI_ID'] = test['TAXI_ID'].apply(lambda x: taxi_id_test[x])\n",
        "\n",
        "train = pd.get_dummies(train, columns=['CALL_TYPE'])\n",
        "test = pd.get_dummies(test, columns=['CALL_TYPE'])"
      ],
      "execution_count": null,
      "outputs": []
    },
    {
      "cell_type": "code",
      "metadata": {
        "id": "IKjLmUx2DwId",
        "colab_type": "code",
        "colab": {}
      },
      "source": [
        "# часть этой обработки взята из ноутбука https://github.com/groverpr/deep-learning/blob/master/taxi/taxi3.ipynb\n",
        "\n",
        "import ast\n",
        "\n",
        "# выделим GPS-координаты\n",
        "\n",
        "polyline_train = pd.Series([ast.literal_eval(x) for x in train['POLYLINE']])\n",
        "polyline_test = pd.Series([ast.literal_eval(x) for x in test['POLYLINE']])\n",
        "\n",
        "# определим широту и долготу\n",
        "\n",
        "train['LATITUDE'] = pd.Series([np.array([point[1] for point in poly]) for poly in polyline_train])\n",
        "train['LONGITUDE'] = pd.Series([np.array([point[0] for point in poly]) for poly in polyline_train])\n",
        "    \n",
        "test['LATITUDE'] = pd.Series([np.array([point[1] for point in poly]) for poly in polyline_test])\n",
        "test['LONGITUDE'] = pd.Series([np.array([point[0] for point in poly]) for poly in polyline_test])"
      ],
      "execution_count": null,
      "outputs": []
    },
    {
      "cell_type": "code",
      "metadata": {
        "id": "gM6r7rifIPK9",
        "colab_type": "code",
        "colab": {}
      },
      "source": [
        "# определим целевую переменную, т.е. координаты прибытия (последние коррдинаты в 'POLYLINE')\n",
        "\n",
        "train['TARGET'] = pd.Series([[l[1][0][-1], l[1][1][-1]] if len(l[1][0]) > 1 else 0 for l in train[['LONGITUDE','LATITUDE']].iterrows()])\n",
        "test['TARGET'] = pd.Series([[l[1][0][-1], l[1][1][-1]] if len(l[1][0]) > 1 else 0 for l in test[['LONGITUDE','LATITUDE']].iterrows()])"
      ],
      "execution_count": null,
      "outputs": []
    },
    {
      "cell_type": "code",
      "metadata": {
        "id": "66L1fVmUmGdL",
        "colab_type": "code",
        "colab": {
          "base_uri": "https://localhost:8080/",
          "height": 279
        },
        "outputId": "2c1df060-96cb-4a62-b0dd-d0d025b80be1"
      },
      "source": [
        "train.head()"
      ],
      "execution_count": null,
      "outputs": [
        {
          "output_type": "execute_result",
          "data": {
            "text/html": [
              "<div>\n",
              "<style scoped>\n",
              "    .dataframe tbody tr th:only-of-type {\n",
              "        vertical-align: middle;\n",
              "    }\n",
              "\n",
              "    .dataframe tbody tr th {\n",
              "        vertical-align: top;\n",
              "    }\n",
              "\n",
              "    .dataframe thead th {\n",
              "        text-align: right;\n",
              "    }\n",
              "</style>\n",
              "<table border=\"1\" class=\"dataframe\">\n",
              "  <thead>\n",
              "    <tr style=\"text-align: right;\">\n",
              "      <th></th>\n",
              "      <th>ORIGIN_STAND</th>\n",
              "      <th>TAXI_ID</th>\n",
              "      <th>POLYLINE</th>\n",
              "      <th>WEEKDAY</th>\n",
              "      <th>HOUR</th>\n",
              "      <th>CALL_TYPE_A</th>\n",
              "      <th>CALL_TYPE_B</th>\n",
              "      <th>CALL_TYPE_C</th>\n",
              "      <th>LATITUDE</th>\n",
              "      <th>LONGITUDE</th>\n",
              "      <th>TARGET</th>\n",
              "    </tr>\n",
              "  </thead>\n",
              "  <tbody>\n",
              "    <tr>\n",
              "      <th>0</th>\n",
              "      <td>NaN</td>\n",
              "      <td>0</td>\n",
              "      <td>[[-8.618643,41.141412],[-8.618499,41.141376],[...</td>\n",
              "      <td>1</td>\n",
              "      <td>1</td>\n",
              "      <td>0</td>\n",
              "      <td>0</td>\n",
              "      <td>1</td>\n",
              "      <td>[41.141412, 41.141376, 41.14251, 41.143815, 41...</td>\n",
              "      <td>[-8.618643, -8.618499, -8.620326, -8.622153, -...</td>\n",
              "      <td>[-8.630838, 41.154489]</td>\n",
              "    </tr>\n",
              "    <tr>\n",
              "      <th>1</th>\n",
              "      <td>7.0</td>\n",
              "      <td>1</td>\n",
              "      <td>[[-8.639847,41.159826],[-8.640351,41.159871],[...</td>\n",
              "      <td>1</td>\n",
              "      <td>1</td>\n",
              "      <td>0</td>\n",
              "      <td>1</td>\n",
              "      <td>0</td>\n",
              "      <td>[41.159826, 41.159871, 41.160114, 41.160492, 4...</td>\n",
              "      <td>[-8.639847, -8.640351, -8.642196, -8.644455, -...</td>\n",
              "      <td>[-8.66574, 41.170671]</td>\n",
              "    </tr>\n",
              "    <tr>\n",
              "      <th>2</th>\n",
              "      <td>7.0</td>\n",
              "      <td>2</td>\n",
              "      <td>[[-8.612964,41.140359],[-8.613378,41.14035],[-...</td>\n",
              "      <td>1</td>\n",
              "      <td>1</td>\n",
              "      <td>0</td>\n",
              "      <td>0</td>\n",
              "      <td>1</td>\n",
              "      <td>[41.140359, 41.14035, 41.140278, 41.140368, 41...</td>\n",
              "      <td>[-8.612964, -8.613378, -8.614215, -8.614773, -...</td>\n",
              "      <td>[-8.61597, 41.14053]</td>\n",
              "    </tr>\n",
              "    <tr>\n",
              "      <th>3</th>\n",
              "      <td>7.0</td>\n",
              "      <td>3</td>\n",
              "      <td>[[-8.574678,41.151951],[-8.574705,41.151942],[...</td>\n",
              "      <td>1</td>\n",
              "      <td>1</td>\n",
              "      <td>0</td>\n",
              "      <td>0</td>\n",
              "      <td>1</td>\n",
              "      <td>[41.151951, 41.151942, 41.151933, 41.15196, 41...</td>\n",
              "      <td>[-8.574678, -8.574705, -8.574696, -8.57466, -8...</td>\n",
              "      <td>[-8.607996, 41.142915]</td>\n",
              "    </tr>\n",
              "    <tr>\n",
              "      <th>4</th>\n",
              "      <td>7.0</td>\n",
              "      <td>4</td>\n",
              "      <td>[[-8.645994,41.18049],[-8.645949,41.180517],[-...</td>\n",
              "      <td>1</td>\n",
              "      <td>1</td>\n",
              "      <td>0</td>\n",
              "      <td>0</td>\n",
              "      <td>1</td>\n",
              "      <td>[41.18049, 41.180517, 41.180049, 41.178888, 41...</td>\n",
              "      <td>[-8.645994, -8.645949, -8.646048, -8.646804, -...</td>\n",
              "      <td>[-8.687268, 41.178087]</td>\n",
              "    </tr>\n",
              "  </tbody>\n",
              "</table>\n",
              "</div>"
            ],
            "text/plain": [
              "   ORIGIN_STAND  ...                  TARGET\n",
              "0           NaN  ...  [-8.630838, 41.154489]\n",
              "1           7.0  ...   [-8.66574, 41.170671]\n",
              "2           7.0  ...    [-8.61597, 41.14053]\n",
              "3           7.0  ...  [-8.607996, 41.142915]\n",
              "4           7.0  ...  [-8.687268, 41.178087]\n",
              "\n",
              "[5 rows x 11 columns]"
            ]
          },
          "metadata": {
            "tags": []
          },
          "execution_count": 431
        }
      ]
    },
    {
      "cell_type": "code",
      "metadata": {
        "id": "crBY4mAhU7MG",
        "colab_type": "code",
        "colab": {
          "base_uri": "https://localhost:8080/",
          "height": 34
        },
        "outputId": "df67951f-12a7-4127-b658-61384f18b0aa"
      },
      "source": [
        "train['TARGET'][0]"
      ],
      "execution_count": null,
      "outputs": [
        {
          "output_type": "execute_result",
          "data": {
            "text/plain": [
              "[-8.630838, 41.154489]"
            ]
          },
          "metadata": {
            "tags": []
          },
          "execution_count": 432
        }
      ]
    },
    {
      "cell_type": "code",
      "metadata": {
        "id": "_7kqDyXf00L8",
        "colab_type": "code",
        "colab": {
          "base_uri": "https://localhost:8080/",
          "height": 84
        },
        "outputId": "0471aa95-a178-4899-81f6-b3f92d377869"
      },
      "source": [
        "train['LATITUDE'][0]"
      ],
      "execution_count": null,
      "outputs": [
        {
          "output_type": "execute_result",
          "data": {
            "text/plain": [
              "array([41.141412, 41.141376, 41.14251 , 41.143815, 41.144373, 41.144778,\n",
              "       41.144697, 41.14521 , 41.14692 , 41.148225, 41.150385, 41.151213,\n",
              "       41.15124 , 41.152203, 41.152374, 41.152518, 41.15268 , 41.153022,\n",
              "       41.154489, 41.154507, 41.154516, 41.154498, 41.154489])"
            ]
          },
          "metadata": {
            "tags": []
          },
          "execution_count": 433
        }
      ]
    },
    {
      "cell_type": "code",
      "metadata": {
        "id": "qV7eklt1oUBI",
        "colab_type": "code",
        "colab": {}
      },
      "source": [
        "train_2 = train.copy()\n",
        "test_2 = test.copy()"
      ],
      "execution_count": null,
      "outputs": []
    },
    {
      "cell_type": "code",
      "metadata": {
        "id": "INS0DeuM9u5m",
        "colab_type": "code",
        "colab": {}
      },
      "source": [
        "# выделим k первых и последних координат для широты и долготы\n",
        "\n",
        "result_train = []\n",
        "k = 5\n",
        "\n",
        "for l in train_2[['LONGITUDE','LATITUDE']].iterrows():\n",
        "  if len(l[1][0]) < 2 or len(l[1][1]) < 2:\n",
        "    result_train.append(np.nan)\n",
        "  elif len(l[1][0][:-1]) >= 2*k:\n",
        "    result_train.append(np.concatenate([l[1][0][0:k],l[1][0][-k:],\n",
        "                                        l[1][1][0:k],l[1][1][-k:]]).flatten())\n",
        "  else:\n",
        "    l1 = np.lib.pad(l[1][0][:-1], (0,4*k-len(l[1][0][:-1])), mode='edge')\n",
        "    l2 = np.lib.pad(l[1][1][:-1], (0,4*k-len(l[1][1][:-1])), mode='edge')\n",
        "    result_train.append(np.concatenate([l1[0:k],l1[-k:],l2[0:k],l2[-k:]]).flatten())\n",
        "\n",
        "result_train = pd.Series(result_train)"
      ],
      "execution_count": null,
      "outputs": []
    },
    {
      "cell_type": "code",
      "metadata": {
        "id": "bYTQ0VL7o5f4",
        "colab_type": "code",
        "colab": {}
      },
      "source": [
        "result_test = []\n",
        "k = 5\n",
        "\n",
        "for l in test_2[['LONGITUDE','LATITUDE']].iterrows():\n",
        "  if len(l[1][0]) < 2 or len(l[1][1]) < 2:\n",
        "    result_test.append(np.nan)\n",
        "  elif len(l[1][0][:-1]) >= 2*k:\n",
        "    result_test.append(np.concatenate([l[1][0][0:k],l[1][0][-k:],\n",
        "                                        l[1][1][0:k],l[1][1][-k:]]).flatten())\n",
        "  else:\n",
        "    l1 = np.lib.pad(l[1][0][:-1], (0,4*k-len(l[1][0][:-1])), mode='edge')\n",
        "    l2 = np.lib.pad(l[1][1][:-1], (0,4*k-len(l[1][1][:-1])), mode='edge')\n",
        "    result_test.append(np.concatenate([l1[0:k],l1[-k:],l2[0:k],l2[-k:]]).flatten())\n",
        "\n",
        "result_test = pd.Series(result_test)"
      ],
      "execution_count": null,
      "outputs": []
    },
    {
      "cell_type": "code",
      "metadata": {
        "id": "fSCAVldYqDnh",
        "colab_type": "code",
        "colab": {}
      },
      "source": [
        "# запишем их в отдельный признак\n",
        "\n",
        "train_2['COORD_PATH'] = result_train\n",
        "test_2['COORD_PATH'] = result_test"
      ],
      "execution_count": null,
      "outputs": []
    },
    {
      "cell_type": "code",
      "metadata": {
        "id": "wd4XSkWlqDh0",
        "colab_type": "code",
        "colab": {
          "base_uri": "https://localhost:8080/",
          "height": 235
        },
        "outputId": "d911b2ae-8a60-4baf-fed2-af91b753e496"
      },
      "source": [
        "train_2.isnull().sum()"
      ],
      "execution_count": null,
      "outputs": [
        {
          "output_type": "execute_result",
          "data": {
            "text/plain": [
              "ORIGIN_STAND       1\n",
              "TAXI_ID            0\n",
              "POLYLINE           0\n",
              "WEEKDAY            0\n",
              "HOUR               0\n",
              "CALL_TYPE_A        0\n",
              "CALL_TYPE_B        0\n",
              "CALL_TYPE_C        0\n",
              "LATITUDE           0\n",
              "LONGITUDE          0\n",
              "TARGET             0\n",
              "COORD_PATH      1555\n",
              "dtype: int64"
            ]
          },
          "metadata": {
            "tags": []
          },
          "execution_count": 438
        }
      ]
    },
    {
      "cell_type": "code",
      "metadata": {
        "id": "Cc1-6TtXqDex",
        "colab_type": "code",
        "colab": {
          "base_uri": "https://localhost:8080/",
          "height": 235
        },
        "outputId": "f8fd974c-6589-493e-ea0e-81c616917255"
      },
      "source": [
        "test_2.isnull().sum()"
      ],
      "execution_count": null,
      "outputs": [
        {
          "output_type": "execute_result",
          "data": {
            "text/plain": [
              "ORIGIN_STAND    0\n",
              "TAXI_ID         0\n",
              "POLYLINE        0\n",
              "WEEKDAY         0\n",
              "HOUR            0\n",
              "CALL_TYPE_A     0\n",
              "CALL_TYPE_B     0\n",
              "CALL_TYPE_C     0\n",
              "LATITUDE        0\n",
              "LONGITUDE       0\n",
              "TARGET          0\n",
              "COORD_PATH      2\n",
              "dtype: int64"
            ]
          },
          "metadata": {
            "tags": []
          },
          "execution_count": 439
        }
      ]
    },
    {
      "cell_type": "code",
      "metadata": {
        "id": "0f8etcMjWkKu",
        "colab_type": "code",
        "colab": {}
      },
      "source": [
        "# удалим строки с отсутствующими значениями\n",
        "\n",
        "train_2 = train_2.dropna(axis=0, how='any')\n",
        "test_2 = test_2.dropna(axis=0, how='any')"
      ],
      "execution_count": null,
      "outputs": []
    },
    {
      "cell_type": "code",
      "metadata": {
        "id": "KyNWZt5XFZM6",
        "colab_type": "code",
        "colab": {}
      },
      "source": [
        "# разделим выделенные данные\n",
        "\n",
        "for i in range(0, 10):\n",
        "  train_2[f'long_{i}'] = train_2['COORD_PATH'].apply(lambda x: 0 if type(x) == int else x[i])\n",
        "\n",
        "for i in range(10, 20):\n",
        "    train_2[f'lat_{i}'] = train_2['COORD_PATH'].apply(lambda x: 0 if type(x) == int else x[i])"
      ],
      "execution_count": null,
      "outputs": []
    },
    {
      "cell_type": "code",
      "metadata": {
        "id": "k1dAzKpJG_Ps",
        "colab_type": "code",
        "colab": {}
      },
      "source": [
        "for i in range(0, 10):\n",
        "  test_2[f'long_{i}'] = test_2['COORD_PATH'].apply(lambda x: 0 if type(x) == int else x[i])\n",
        "\n",
        "for i in range(10, 20):\n",
        "  test_2[f'lat_{i}'] = test_2['COORD_PATH'].apply(lambda x: 0 if type(x) == int else x[i])"
      ],
      "execution_count": null,
      "outputs": []
    },
    {
      "cell_type": "code",
      "metadata": {
        "id": "C8Y6nRLypw1O",
        "colab_type": "code",
        "colab": {}
      },
      "source": [
        "# удалим ненужные признаки\n",
        "\n",
        "train_2 = train_2.drop(['POLYLINE', 'LATITUDE', 'LONGITUDE', 'COORD_PATH', 'long_9', 'lat_19'], axis=1)\n",
        "test_2 = test_2.drop(['POLYLINE', 'LATITUDE', 'LONGITUDE', 'COORD_PATH', 'long_9', 'lat_19'], axis=1)"
      ],
      "execution_count": null,
      "outputs": []
    },
    {
      "cell_type": "code",
      "metadata": {
        "id": "w-GEJW46r06E",
        "colab_type": "code",
        "colab": {
          "base_uri": "https://localhost:8080/",
          "height": 299
        },
        "outputId": "73050eb3-0d90-48d5-eb38-7bd090164b41"
      },
      "source": [
        "train_2.head()"
      ],
      "execution_count": null,
      "outputs": [
        {
          "output_type": "execute_result",
          "data": {
            "text/html": [
              "<div>\n",
              "<style scoped>\n",
              "    .dataframe tbody tr th:only-of-type {\n",
              "        vertical-align: middle;\n",
              "    }\n",
              "\n",
              "    .dataframe tbody tr th {\n",
              "        vertical-align: top;\n",
              "    }\n",
              "\n",
              "    .dataframe thead th {\n",
              "        text-align: right;\n",
              "    }\n",
              "</style>\n",
              "<table border=\"1\" class=\"dataframe\">\n",
              "  <thead>\n",
              "    <tr style=\"text-align: right;\">\n",
              "      <th></th>\n",
              "      <th>ORIGIN_STAND</th>\n",
              "      <th>TAXI_ID</th>\n",
              "      <th>WEEKDAY</th>\n",
              "      <th>HOUR</th>\n",
              "      <th>CALL_TYPE_A</th>\n",
              "      <th>CALL_TYPE_B</th>\n",
              "      <th>CALL_TYPE_C</th>\n",
              "      <th>TARGET</th>\n",
              "      <th>long_0</th>\n",
              "      <th>long_1</th>\n",
              "      <th>long_2</th>\n",
              "      <th>long_3</th>\n",
              "      <th>long_4</th>\n",
              "      <th>long_5</th>\n",
              "      <th>long_6</th>\n",
              "      <th>long_7</th>\n",
              "      <th>long_8</th>\n",
              "      <th>lat_10</th>\n",
              "      <th>lat_11</th>\n",
              "      <th>lat_12</th>\n",
              "      <th>lat_13</th>\n",
              "      <th>lat_14</th>\n",
              "      <th>lat_15</th>\n",
              "      <th>lat_16</th>\n",
              "      <th>lat_17</th>\n",
              "      <th>lat_18</th>\n",
              "    </tr>\n",
              "  </thead>\n",
              "  <tbody>\n",
              "    <tr>\n",
              "      <th>1</th>\n",
              "      <td>7.0</td>\n",
              "      <td>1</td>\n",
              "      <td>1</td>\n",
              "      <td>1</td>\n",
              "      <td>0</td>\n",
              "      <td>1</td>\n",
              "      <td>0</td>\n",
              "      <td>[-8.66574, 41.170671]</td>\n",
              "      <td>-8.639847</td>\n",
              "      <td>-8.640351</td>\n",
              "      <td>-8.642196</td>\n",
              "      <td>-8.644455</td>\n",
              "      <td>-8.646921</td>\n",
              "      <td>-8.669610</td>\n",
              "      <td>-8.668098</td>\n",
              "      <td>-8.666640</td>\n",
              "      <td>-8.665767</td>\n",
              "      <td>41.159826</td>\n",
              "      <td>41.159871</td>\n",
              "      <td>41.160114</td>\n",
              "      <td>41.160492</td>\n",
              "      <td>41.160951</td>\n",
              "      <td>41.167962</td>\n",
              "      <td>41.168988</td>\n",
              "      <td>41.170005</td>\n",
              "      <td>41.170635</td>\n",
              "    </tr>\n",
              "    <tr>\n",
              "      <th>2</th>\n",
              "      <td>7.0</td>\n",
              "      <td>2</td>\n",
              "      <td>1</td>\n",
              "      <td>1</td>\n",
              "      <td>0</td>\n",
              "      <td>0</td>\n",
              "      <td>1</td>\n",
              "      <td>[-8.61597, 41.14053]</td>\n",
              "      <td>-8.612964</td>\n",
              "      <td>-8.613378</td>\n",
              "      <td>-8.614215</td>\n",
              "      <td>-8.614773</td>\n",
              "      <td>-8.615907</td>\n",
              "      <td>-8.624088</td>\n",
              "      <td>-8.621325</td>\n",
              "      <td>-8.619444</td>\n",
              "      <td>-8.617365</td>\n",
              "      <td>41.140359</td>\n",
              "      <td>41.140350</td>\n",
              "      <td>41.140278</td>\n",
              "      <td>41.140368</td>\n",
              "      <td>41.140449</td>\n",
              "      <td>41.144463</td>\n",
              "      <td>41.143401</td>\n",
              "      <td>41.141961</td>\n",
              "      <td>41.140863</td>\n",
              "    </tr>\n",
              "    <tr>\n",
              "      <th>3</th>\n",
              "      <td>7.0</td>\n",
              "      <td>3</td>\n",
              "      <td>1</td>\n",
              "      <td>1</td>\n",
              "      <td>0</td>\n",
              "      <td>0</td>\n",
              "      <td>1</td>\n",
              "      <td>[-8.607996, 41.142915]</td>\n",
              "      <td>-8.574678</td>\n",
              "      <td>-8.574705</td>\n",
              "      <td>-8.574696</td>\n",
              "      <td>-8.574660</td>\n",
              "      <td>-8.574723</td>\n",
              "      <td>-8.607978</td>\n",
              "      <td>-8.607996</td>\n",
              "      <td>-8.607987</td>\n",
              "      <td>-8.608005</td>\n",
              "      <td>41.151951</td>\n",
              "      <td>41.151942</td>\n",
              "      <td>41.151933</td>\n",
              "      <td>41.151960</td>\n",
              "      <td>41.151933</td>\n",
              "      <td>41.142825</td>\n",
              "      <td>41.142879</td>\n",
              "      <td>41.142888</td>\n",
              "      <td>41.142915</td>\n",
              "    </tr>\n",
              "    <tr>\n",
              "      <th>4</th>\n",
              "      <td>7.0</td>\n",
              "      <td>4</td>\n",
              "      <td>1</td>\n",
              "      <td>1</td>\n",
              "      <td>0</td>\n",
              "      <td>0</td>\n",
              "      <td>1</td>\n",
              "      <td>[-8.687268, 41.178087]</td>\n",
              "      <td>-8.645994</td>\n",
              "      <td>-8.645949</td>\n",
              "      <td>-8.646048</td>\n",
              "      <td>-8.646804</td>\n",
              "      <td>-8.649495</td>\n",
              "      <td>-8.689059</td>\n",
              "      <td>-8.687502</td>\n",
              "      <td>-8.687259</td>\n",
              "      <td>-8.687259</td>\n",
              "      <td>41.180490</td>\n",
              "      <td>41.180517</td>\n",
              "      <td>41.180049</td>\n",
              "      <td>41.178888</td>\n",
              "      <td>41.178465</td>\n",
              "      <td>41.176593</td>\n",
              "      <td>41.176755</td>\n",
              "      <td>41.177781</td>\n",
              "      <td>41.178078</td>\n",
              "    </tr>\n",
              "    <tr>\n",
              "      <th>5</th>\n",
              "      <td>7.0</td>\n",
              "      <td>5</td>\n",
              "      <td>1</td>\n",
              "      <td>1</td>\n",
              "      <td>0</td>\n",
              "      <td>0</td>\n",
              "      <td>1</td>\n",
              "      <td>[-8.578224, 41.160717]</td>\n",
              "      <td>-8.615502</td>\n",
              "      <td>-8.614854</td>\n",
              "      <td>-8.613351</td>\n",
              "      <td>-8.609976</td>\n",
              "      <td>-8.607537</td>\n",
              "      <td>-8.580546</td>\n",
              "      <td>-8.578719</td>\n",
              "      <td>-8.578629</td>\n",
              "      <td>-8.578521</td>\n",
              "      <td>41.140674</td>\n",
              "      <td>41.140926</td>\n",
              "      <td>41.141520</td>\n",
              "      <td>41.140854</td>\n",
              "      <td>41.141295</td>\n",
              "      <td>41.155947</td>\n",
              "      <td>41.156271</td>\n",
              "      <td>41.157693</td>\n",
              "      <td>41.159439</td>\n",
              "    </tr>\n",
              "  </tbody>\n",
              "</table>\n",
              "</div>"
            ],
            "text/plain": [
              "   ORIGIN_STAND  TAXI_ID  WEEKDAY  ...     lat_16     lat_17     lat_18\n",
              "1           7.0        1        1  ...  41.168988  41.170005  41.170635\n",
              "2           7.0        2        1  ...  41.143401  41.141961  41.140863\n",
              "3           7.0        3        1  ...  41.142879  41.142888  41.142915\n",
              "4           7.0        4        1  ...  41.176755  41.177781  41.178078\n",
              "5           7.0        5        1  ...  41.156271  41.157693  41.159439\n",
              "\n",
              "[5 rows x 26 columns]"
            ]
          },
          "metadata": {
            "tags": []
          },
          "execution_count": 387
        }
      ]
    },
    {
      "cell_type": "code",
      "metadata": {
        "id": "jGo3ZlrsHzbU",
        "colab_type": "code",
        "colab": {}
      },
      "source": [
        "# подготовим данные для обучения\n",
        "\n",
        "X_train_2 = train_2.drop(['TARGET'], axis=1)\n",
        "y_train = train_2['TARGET']\n",
        "X_test_2 = test_2.drop(['TARGET'], axis=1)\n",
        "y_test = test_2['TARGET']"
      ],
      "execution_count": null,
      "outputs": []
    },
    {
      "cell_type": "code",
      "metadata": {
        "id": "X_v8iBzkBxlj",
        "colab_type": "code",
        "colab": {}
      },
      "source": [
        "lat_train = y_train.fillna(method='ffill').apply(lambda x: 0 if type(x) == int else x[1])\n",
        "long_train = y_train.fillna(method='ffill').apply(lambda x: 0 if type(x) == int else x[0])\n",
        "\n",
        "lat_test = y_test.fillna(method='ffill').apply(lambda x: 0 if type(x) == int else x[1])\n",
        "long_test = y_test.fillna(method='ffill').apply(lambda x: 0 if type(x) == int else x[0])"
      ],
      "execution_count": null,
      "outputs": []
    },
    {
      "cell_type": "code",
      "metadata": {
        "id": "xIDy3IknuKQt",
        "colab_type": "code",
        "colab": {}
      },
      "source": [
        "# разделим данные для прогнозирования широты и долготы отдельно\n",
        "\n",
        "col_long = ['long_0', 'long_1', 'long_2', 'long_3', 'long_4', 'long_5', 'long_6', 'long_7', 'long_8']\n",
        "col_lat = ['lat_10', 'lat_11', 'lat_12', 'lat_13', 'lat_14', 'lat_15', 'lat_16', 'lat_17', 'lat_18']\n",
        "\n",
        "X_train_lat = X_train_2.drop(col_long, axis=1)\n",
        "X_train_long = X_train_2.drop(col_lat, axis=1)\n",
        "y_train_lat = lat_train\n",
        "y_train_long = long_train\n",
        "\n",
        "X_test_lat = X_test_2.drop(col_long, axis=1)\n",
        "X_test_long = X_test_2.drop(col_lat, axis=1)\n",
        "y_test_lat = lat_test\n",
        "y_test_long = long_test"
      ],
      "execution_count": null,
      "outputs": []
    },
    {
      "cell_type": "markdown",
      "metadata": {
        "id": "G0AwMB3NM7hm",
        "colab_type": "text"
      },
      "source": [
        "### Создание нейросети"
      ]
    },
    {
      "cell_type": "code",
      "metadata": {
        "id": "R71ExN1EHZ_h",
        "colab_type": "code",
        "colab": {}
      },
      "source": [
        "# обернём наши данные в torch тензоры\n",
        "\n",
        "X_train_lat = torch.from_numpy(np.array(X_train_lat).astype(np.float32))\n",
        "X_train_long = torch.from_numpy(np.array(X_train_long).astype(np.float32))\n",
        "y_train_lat = torch.from_numpy(np.array(y_train_lat).astype(np.float32))\n",
        "y_train_long = torch.from_numpy(np.array(y_train_long).astype(np.float32))\n",
        "\n",
        "X_test_lat = torch.from_numpy(np.array(X_test_lat).astype(np.float32))\n",
        "X_test_long = torch.from_numpy(np.array(X_test_long).astype(np.float32))\n",
        "y_test_lat = torch.from_numpy(np.array(y_test_lat).astype(np.float32))\n",
        "y_test_long = torch.from_numpy(np.array(y_test_long).astype(np.float32))"
      ],
      "execution_count": null,
      "outputs": []
    },
    {
      "cell_type": "code",
      "metadata": {
        "id": "MDKA6q-po5UU",
        "colab_type": "code",
        "colab": {}
      },
      "source": [
        "import torch\n",
        "import torch.nn.functional as F\n",
        "import random\n",
        "import numpy as np"
      ],
      "execution_count": null,
      "outputs": []
    },
    {
      "cell_type": "code",
      "metadata": {
        "id": "cVyqY1T7rlvQ",
        "colab_type": "code",
        "colab": {}
      },
      "source": [
        "# реализуем класс нейросети\n",
        "\n",
        "class TaxiNet(torch.nn.Module):\n",
        "    def __init__(self, n_hidden_neurons):\n",
        "        super(TaxiNet, self).__init__()\n",
        "        \n",
        "        self.drop_layer = torch.nn.Dropout(p=0.1) # dropout-слой\n",
        "        self.fc1 = torch.nn.Linear(16, n_hidden_neurons) # 16 - количество признаков, подается на вход\n",
        "        self.activ1 = torch.nn.ReLU() # активация слоя\n",
        "        self.fc2 = torch.nn.Linear(n_hidden_neurons, 100) # второй скрытый слой\n",
        "        self.activ2 = torch.nn.ReLU() # активация слоя\n",
        "        self.fc3 = torch.nn.Linear(100, 1) # на выходе 1 нейрон, который возвращает предсказанное значение\n",
        "\n",
        "    def forward(self, x):\n",
        "        x = self.drop_layer(x)\n",
        "        x = self.fc1(x)\n",
        "        x = self.activ1(x)\n",
        "        x = self.fc2(x)\n",
        "        x = self.activ2(x)\n",
        "        x = self.fc3(x)\n",
        "        return x\n",
        "    \n",
        "taxi_net = TaxiNet(50) # 50 скрытых нейронов"
      ],
      "execution_count": null,
      "outputs": []
    },
    {
      "cell_type": "code",
      "metadata": {
        "id": "0TxkERysQtOq",
        "colab_type": "code",
        "colab": {}
      },
      "source": [
        "# инициализируем функцию потерь\n",
        "\n",
        "loss_fn = torch.nn.SmoothL1Loss()"
      ],
      "execution_count": null,
      "outputs": []
    },
    {
      "cell_type": "code",
      "metadata": {
        "id": "CnjoUHRgPdgp",
        "colab_type": "code",
        "colab": {}
      },
      "source": [
        "# Подберите метод градиентного спуска из списка SGD, Adam, Momentum (на отложенной выборке) и шаг для этого метода\n",
        "# Подберите значение дропаута и коэффициент L2 регуляризации\n",
        "\n",
        "optimizer = torch.optim.Adam(taxi_net.parameters(), lr=1.0e-3, weight_decay=0.01)\n",
        "# weight_decay - коэффициент L2 регуляризации\n",
        "# p - значение дропаута"
      ],
      "execution_count": null,
      "outputs": []
    },
    {
      "cell_type": "markdown",
      "metadata": {
        "id": "7nMelFofzU9n",
        "colab_type": "text"
      },
      "source": [
        "Были протестированы методы градиентного спуска:\n",
        "- SGD\n",
        "- Adam\n",
        "- Momentum\n",
        "\n",
        "Шаг градиентного спуска:\n",
        "- 1.0e-2\n",
        "- 1.0e-3\n",
        "- 1.0e-4\n",
        "\n",
        "Значение дропаута:\n",
        "- 0.1\n",
        "- 0.3\n",
        "- 0.5\n",
        "\n",
        "Коэффициент L2 регуляризации:\n",
        "- 0.01\n",
        "- 0.05\n",
        "- 0.1\n",
        "- 0.5\n",
        "\n",
        "Лучшими параметрами оказались: Adam, learning_rate=1.0e-3, dropout_p=0.1, weight_decay=0.01"
      ]
    },
    {
      "cell_type": "code",
      "metadata": {
        "id": "CxQuN8tCn4Ii",
        "colab_type": "code",
        "colab": {}
      },
      "source": [
        "# инициализируем метрику haversine\n",
        "\n",
        "def Haversine(pred_output, lat2=y_test_lat, lon2=y_test_long):\n",
        "\n",
        "    rearth = 6371\n",
        "\n",
        "    lon1 = pred_output[:,1]\n",
        "    lat1 = pred_output[:,0]\n",
        "\n",
        "    lat1 *= np.pi/180\n",
        "    lon1 *= np.pi/180\n",
        "    lat2 *= np.pi/180\n",
        "    lon2 *= np.pi/180\n",
        "\n",
        "    x = (lon2-lon1) * torch.cos((lat1+lat2)/2)\n",
        "    y = lat2-lat1\n",
        "    \n",
        "    d = torch.mean((torch.sqrt(x**2 + y**2) * rearth), dim=0)\n",
        "\n",
        "    return d"
      ],
      "execution_count": null,
      "outputs": []
    },
    {
      "cell_type": "code",
      "metadata": {
        "id": "Crfs11AUPddm",
        "colab_type": "code",
        "colab": {
          "base_uri": "https://localhost:8080/",
          "height": 34
        },
        "outputId": "e5b43385-e118-4f70-9b0a-1e612ac8064e"
      },
      "source": [
        "np.random.permutation(5)"
      ],
      "execution_count": null,
      "outputs": [
        {
          "output_type": "execute_result",
          "data": {
            "text/plain": [
              "array([1, 2, 4, 0, 3])"
            ]
          },
          "metadata": {
            "tags": []
          },
          "execution_count": 53
        }
      ]
    },
    {
      "cell_type": "code",
      "metadata": {
        "id": "zAlw9qF96_j-",
        "colab_type": "code",
        "colab": {
          "base_uri": "https://localhost:8080/",
          "height": 1000
        },
        "outputId": "b33a7208-f688-42f1-9e5f-0d1749ab2a35"
      },
      "source": [
        "# обучим нейронную сеть стохастическим градиентным спуском\n",
        "\n",
        "batch_size = 100\n",
        "\n",
        "train_lat_loss = []\n",
        "test_lat_loss = []\n",
        "train_long_loss = []\n",
        "test_long_loss = []\n",
        "\n",
        "for epoch in range(2000):\n",
        "  order = np.random.permutation(len(X_train_long))\n",
        "  for start_index in range(0, len(X_train_long), batch_size):\n",
        "    optimizer.zero_grad()\n",
        "    \n",
        "    batch_indexes = order[start_index:start_index+batch_size]\n",
        "    \n",
        "    x_batch_long = X_train_long[batch_indexes]\n",
        "    y_batch_long = y_train_long[batch_indexes]\n",
        "\n",
        "    x_batch_lat = X_train_lat[batch_indexes]\n",
        "    y_batch_lat = y_train_lat[batch_indexes]\n",
        "    \n",
        "    train_preds_long = taxi_net.forward(x_batch_long)\n",
        "    train_preds_lat = taxi_net.forward(x_batch_lat)\n",
        "    \n",
        "    loss_train_long = loss_fn(train_preds_long, y_batch_long)\n",
        "    loss_train_lat = loss_fn(train_preds_lat, y_batch_lat)\n",
        "\n",
        "    loss_train_long.backward()\n",
        "    loss_train_lat.backward()\n",
        "    \n",
        "    optimizer.step()\n",
        "\n",
        "  test_preds_long = taxi_net.forward(X_test_long)\n",
        "  test_preds_lat = taxi_net.forward(X_test_lat)\n",
        "\n",
        "  pred_train = torch.cat([train_preds_long, train_preds_lat], dim=1)\n",
        "  pred_test = torch.cat([test_preds_long, test_preds_lat], dim=1)\n",
        "\n",
        "  loss_test_long = loss_fn(test_preds_long, y_test_long)\n",
        "  loss_test_lat = loss_fn(test_preds_lat, y_test_lat)\n",
        "\n",
        "  train_lat_loss.append(loss_train_lat)\n",
        "  train_long_loss.append(loss_train_long)\n",
        "  test_lat_loss.append(loss_test_lat)\n",
        "  test_long_loss.append(loss_test_long)\n",
        "\n",
        "  print(Haversine(pred_test))"
      ],
      "execution_count": null,
      "outputs": [
        {
          "output_type": "stream",
          "text": [
            "tensor(4683.6099, grad_fn=<MeanBackward1>)\n",
            "tensor(4676.2593, grad_fn=<MeanBackward1>)\n",
            "tensor(4664.5063, grad_fn=<MeanBackward1>)\n",
            "tensor(4668.9150, grad_fn=<MeanBackward1>)\n",
            "tensor(4658.1895, grad_fn=<MeanBackward1>)\n",
            "tensor(4667.7593, grad_fn=<MeanBackward1>)\n",
            "tensor(4649.8882, grad_fn=<MeanBackward1>)\n",
            "tensor(4672.2769, grad_fn=<MeanBackward1>)\n",
            "tensor(4666.5723, grad_fn=<MeanBackward1>)\n",
            "tensor(4654.7681, grad_fn=<MeanBackward1>)\n",
            "tensor(4678.3477, grad_fn=<MeanBackward1>)\n",
            "tensor(4662.2422, grad_fn=<MeanBackward1>)\n",
            "tensor(4665.6982, grad_fn=<MeanBackward1>)\n",
            "tensor(4673.3281, grad_fn=<MeanBackward1>)\n",
            "tensor(4667.8154, grad_fn=<MeanBackward1>)\n",
            "tensor(4663.7559, grad_fn=<MeanBackward1>)\n",
            "tensor(4669.5283, grad_fn=<MeanBackward1>)\n",
            "tensor(4674.4521, grad_fn=<MeanBackward1>)\n",
            "tensor(4640.0068, grad_fn=<MeanBackward1>)\n",
            "tensor(4668.9463, grad_fn=<MeanBackward1>)\n",
            "tensor(4660.1621, grad_fn=<MeanBackward1>)\n",
            "tensor(4646.1826, grad_fn=<MeanBackward1>)\n",
            "tensor(4662.9429, grad_fn=<MeanBackward1>)\n",
            "tensor(4664.2056, grad_fn=<MeanBackward1>)\n",
            "tensor(4656.3608, grad_fn=<MeanBackward1>)\n",
            "tensor(4660.1226, grad_fn=<MeanBackward1>)\n",
            "tensor(4664.2769, grad_fn=<MeanBackward1>)\n",
            "tensor(4663.3706, grad_fn=<MeanBackward1>)\n",
            "tensor(4654.2705, grad_fn=<MeanBackward1>)\n",
            "tensor(4662.3872, grad_fn=<MeanBackward1>)\n",
            "tensor(4665.5254, grad_fn=<MeanBackward1>)\n",
            "tensor(4676.2319, grad_fn=<MeanBackward1>)\n",
            "tensor(4664.7671, grad_fn=<MeanBackward1>)\n",
            "tensor(4688.3242, grad_fn=<MeanBackward1>)\n",
            "tensor(4659.2417, grad_fn=<MeanBackward1>)\n",
            "tensor(4668.7793, grad_fn=<MeanBackward1>)\n",
            "tensor(4668.2451, grad_fn=<MeanBackward1>)\n",
            "tensor(4651.1084, grad_fn=<MeanBackward1>)\n",
            "tensor(4666.5781, grad_fn=<MeanBackward1>)\n",
            "tensor(4667.6362, grad_fn=<MeanBackward1>)\n",
            "tensor(4662.8521, grad_fn=<MeanBackward1>)\n",
            "tensor(4654.0513, grad_fn=<MeanBackward1>)\n",
            "tensor(4669.8726, grad_fn=<MeanBackward1>)\n",
            "tensor(4676.0132, grad_fn=<MeanBackward1>)\n",
            "tensor(4673.5474, grad_fn=<MeanBackward1>)\n",
            "tensor(4639.8467, grad_fn=<MeanBackward1>)\n",
            "tensor(4665.7974, grad_fn=<MeanBackward1>)\n",
            "tensor(4679.6431, grad_fn=<MeanBackward1>)\n",
            "tensor(4658.2661, grad_fn=<MeanBackward1>)\n",
            "tensor(4658.2168, grad_fn=<MeanBackward1>)\n",
            "tensor(4647.1909, grad_fn=<MeanBackward1>)\n",
            "tensor(4664.7896, grad_fn=<MeanBackward1>)\n",
            "tensor(4645.8149, grad_fn=<MeanBackward1>)\n",
            "tensor(4662.3184, grad_fn=<MeanBackward1>)\n",
            "tensor(4661.4282, grad_fn=<MeanBackward1>)\n",
            "tensor(4650.6826, grad_fn=<MeanBackward1>)\n",
            "tensor(4677.7910, grad_fn=<MeanBackward1>)\n",
            "tensor(4649.1968, grad_fn=<MeanBackward1>)\n",
            "tensor(4661.1436, grad_fn=<MeanBackward1>)\n",
            "tensor(4664.4248, grad_fn=<MeanBackward1>)\n",
            "tensor(4664.7490, grad_fn=<MeanBackward1>)\n",
            "tensor(4668.0845, grad_fn=<MeanBackward1>)\n",
            "tensor(4661.8516, grad_fn=<MeanBackward1>)\n",
            "tensor(4661.5703, grad_fn=<MeanBackward1>)\n",
            "tensor(4678.9878, grad_fn=<MeanBackward1>)\n",
            "tensor(4663.5723, grad_fn=<MeanBackward1>)\n",
            "tensor(4648.3931, grad_fn=<MeanBackward1>)\n",
            "tensor(4663.0493, grad_fn=<MeanBackward1>)\n",
            "tensor(4660.1187, grad_fn=<MeanBackward1>)\n",
            "tensor(4661.1201, grad_fn=<MeanBackward1>)\n",
            "tensor(4659.0464, grad_fn=<MeanBackward1>)\n",
            "tensor(4657.0010, grad_fn=<MeanBackward1>)\n",
            "tensor(4670.1421, grad_fn=<MeanBackward1>)\n",
            "tensor(4664.3271, grad_fn=<MeanBackward1>)\n",
            "tensor(4670.4761, grad_fn=<MeanBackward1>)\n",
            "tensor(4659.4053, grad_fn=<MeanBackward1>)\n",
            "tensor(4645.3740, grad_fn=<MeanBackward1>)\n",
            "tensor(4646.9565, grad_fn=<MeanBackward1>)\n",
            "tensor(4654.8564, grad_fn=<MeanBackward1>)\n",
            "tensor(4669.1807, grad_fn=<MeanBackward1>)\n",
            "tensor(4659.5029, grad_fn=<MeanBackward1>)\n",
            "tensor(4657.0713, grad_fn=<MeanBackward1>)\n",
            "tensor(4668.8799, grad_fn=<MeanBackward1>)\n",
            "tensor(4659.0635, grad_fn=<MeanBackward1>)\n",
            "tensor(4663.8896, grad_fn=<MeanBackward1>)\n",
            "tensor(4669.9214, grad_fn=<MeanBackward1>)\n",
            "tensor(4661.2021, grad_fn=<MeanBackward1>)\n",
            "tensor(4668.6919, grad_fn=<MeanBackward1>)\n",
            "tensor(4659.9414, grad_fn=<MeanBackward1>)\n",
            "tensor(4661.6025, grad_fn=<MeanBackward1>)\n",
            "tensor(4660.4902, grad_fn=<MeanBackward1>)\n",
            "tensor(4661.5396, grad_fn=<MeanBackward1>)\n",
            "tensor(4659.8330, grad_fn=<MeanBackward1>)\n",
            "tensor(4660.5835, grad_fn=<MeanBackward1>)\n",
            "tensor(4673.1753, grad_fn=<MeanBackward1>)\n",
            "tensor(4660.7153, grad_fn=<MeanBackward1>)\n",
            "tensor(4666.7832, grad_fn=<MeanBackward1>)\n",
            "tensor(4672.1489, grad_fn=<MeanBackward1>)\n",
            "tensor(4660.3145, grad_fn=<MeanBackward1>)\n",
            "tensor(4670.2188, grad_fn=<MeanBackward1>)\n",
            "tensor(4655.1655, grad_fn=<MeanBackward1>)\n",
            "tensor(4669.7183, grad_fn=<MeanBackward1>)\n",
            "tensor(4665.2207, grad_fn=<MeanBackward1>)\n",
            "tensor(4650.4390, grad_fn=<MeanBackward1>)\n",
            "tensor(4662.4932, grad_fn=<MeanBackward1>)\n",
            "tensor(4649.6387, grad_fn=<MeanBackward1>)\n",
            "tensor(4661.8018, grad_fn=<MeanBackward1>)\n",
            "tensor(4678.6313, grad_fn=<MeanBackward1>)\n",
            "tensor(4661.0854, grad_fn=<MeanBackward1>)\n",
            "tensor(4658.6362, grad_fn=<MeanBackward1>)\n",
            "tensor(4663.0342, grad_fn=<MeanBackward1>)\n",
            "tensor(4660.6279, grad_fn=<MeanBackward1>)\n",
            "tensor(4660.2769, grad_fn=<MeanBackward1>)\n",
            "tensor(4661.1724, grad_fn=<MeanBackward1>)\n",
            "tensor(4647.7871, grad_fn=<MeanBackward1>)\n",
            "tensor(4651.1943, grad_fn=<MeanBackward1>)\n",
            "tensor(4668.1226, grad_fn=<MeanBackward1>)\n"
          ],
          "name": "stdout"
        },
        {
          "output_type": "error",
          "ename": "KeyboardInterrupt",
          "evalue": "ignored",
          "traceback": [
            "\u001b[0;31m---------------------------------------------------------------------------\u001b[0m",
            "\u001b[0;31mKeyboardInterrupt\u001b[0m                         Traceback (most recent call last)",
            "\u001b[0;32m<ipython-input-81-95780a1520b4>\u001b[0m in \u001b[0;36m<module>\u001b[0;34m()\u001b[0m\n\u001b[1;32m     27\u001b[0m \u001b[0;34m\u001b[0m\u001b[0m\n\u001b[1;32m     28\u001b[0m     \u001b[0mloss_train_long\u001b[0m\u001b[0;34m.\u001b[0m\u001b[0mbackward\u001b[0m\u001b[0;34m(\u001b[0m\u001b[0;34m)\u001b[0m\u001b[0;34m\u001b[0m\u001b[0;34m\u001b[0m\u001b[0m\n\u001b[0;32m---> 29\u001b[0;31m     \u001b[0mloss_train_lat\u001b[0m\u001b[0;34m.\u001b[0m\u001b[0mbackward\u001b[0m\u001b[0;34m(\u001b[0m\u001b[0;34m)\u001b[0m\u001b[0;34m\u001b[0m\u001b[0;34m\u001b[0m\u001b[0m\n\u001b[0m\u001b[1;32m     30\u001b[0m \u001b[0;34m\u001b[0m\u001b[0m\n\u001b[1;32m     31\u001b[0m     \u001b[0moptimizer\u001b[0m\u001b[0;34m.\u001b[0m\u001b[0mstep\u001b[0m\u001b[0;34m(\u001b[0m\u001b[0;34m)\u001b[0m\u001b[0;34m\u001b[0m\u001b[0;34m\u001b[0m\u001b[0m\n",
            "\u001b[0;32m/usr/local/lib/python3.6/dist-packages/torch/tensor.py\u001b[0m in \u001b[0;36mbackward\u001b[0;34m(self, gradient, retain_graph, create_graph)\u001b[0m\n\u001b[1;32m    193\u001b[0m                 \u001b[0mproducts\u001b[0m\u001b[0;34m.\u001b[0m \u001b[0mDefaults\u001b[0m \u001b[0mto\u001b[0m\u001b[0;31m \u001b[0m\u001b[0;31m`\u001b[0m\u001b[0;31m`\u001b[0m\u001b[0;32mFalse\u001b[0m\u001b[0;31m`\u001b[0m\u001b[0;31m`\u001b[0m\u001b[0;34m.\u001b[0m\u001b[0;34m\u001b[0m\u001b[0;34m\u001b[0m\u001b[0m\n\u001b[1;32m    194\u001b[0m         \"\"\"\n\u001b[0;32m--> 195\u001b[0;31m         \u001b[0mtorch\u001b[0m\u001b[0;34m.\u001b[0m\u001b[0mautograd\u001b[0m\u001b[0;34m.\u001b[0m\u001b[0mbackward\u001b[0m\u001b[0;34m(\u001b[0m\u001b[0mself\u001b[0m\u001b[0;34m,\u001b[0m \u001b[0mgradient\u001b[0m\u001b[0;34m,\u001b[0m \u001b[0mretain_graph\u001b[0m\u001b[0;34m,\u001b[0m \u001b[0mcreate_graph\u001b[0m\u001b[0;34m)\u001b[0m\u001b[0;34m\u001b[0m\u001b[0;34m\u001b[0m\u001b[0m\n\u001b[0m\u001b[1;32m    196\u001b[0m \u001b[0;34m\u001b[0m\u001b[0m\n\u001b[1;32m    197\u001b[0m     \u001b[0;32mdef\u001b[0m \u001b[0mregister_hook\u001b[0m\u001b[0;34m(\u001b[0m\u001b[0mself\u001b[0m\u001b[0;34m,\u001b[0m \u001b[0mhook\u001b[0m\u001b[0;34m)\u001b[0m\u001b[0;34m:\u001b[0m\u001b[0;34m\u001b[0m\u001b[0;34m\u001b[0m\u001b[0m\n",
            "\u001b[0;32m/usr/local/lib/python3.6/dist-packages/torch/autograd/__init__.py\u001b[0m in \u001b[0;36mbackward\u001b[0;34m(tensors, grad_tensors, retain_graph, create_graph, grad_variables)\u001b[0m\n\u001b[1;32m     97\u001b[0m     Variable._execution_engine.run_backward(\n\u001b[1;32m     98\u001b[0m         \u001b[0mtensors\u001b[0m\u001b[0;34m,\u001b[0m \u001b[0mgrad_tensors\u001b[0m\u001b[0;34m,\u001b[0m \u001b[0mretain_graph\u001b[0m\u001b[0;34m,\u001b[0m \u001b[0mcreate_graph\u001b[0m\u001b[0;34m,\u001b[0m\u001b[0;34m\u001b[0m\u001b[0;34m\u001b[0m\u001b[0m\n\u001b[0;32m---> 99\u001b[0;31m         allow_unreachable=True)  # allow_unreachable flag\n\u001b[0m\u001b[1;32m    100\u001b[0m \u001b[0;34m\u001b[0m\u001b[0m\n\u001b[1;32m    101\u001b[0m \u001b[0;34m\u001b[0m\u001b[0m\n",
            "\u001b[0;31mKeyboardInterrupt\u001b[0m: "
          ]
        }
      ]
    },
    {
      "cell_type": "code",
      "metadata": {
        "id": "rK1bD_jnPdXm",
        "colab_type": "code",
        "colab": {
          "base_uri": "https://localhost:8080/",
          "height": 448
        },
        "outputId": "0236d1c8-6745-4feb-ced2-619b201bbd28"
      },
      "source": [
        "# Постройте кривые обучения\n",
        "# для longitude\n",
        "\n",
        "plt.figure(figsize=(12, 7))\n",
        "plt.plot(train_long_loss, \n",
        "         label='MSE на тренировочном наборе',\n",
        "         color='orange')\n",
        "plt.plot(test_long_loss, \n",
        "         label='MSE на тестовом наборе')\n",
        "plt.xlabel('Эпоха обучения')\n",
        "plt.ylabel('MSE модели')\n",
        "plt.legend()\n",
        "plt.show()"
      ],
      "execution_count": null,
      "outputs": [
        {
          "output_type": "display_data",
          "data": {
            "image/png": "[encoded data removed]",
            "text/plain": [
              "<Figure size 864x504 with 1 Axes>"
            ]
          },
          "metadata": {
            "tags": []
          }
        }
      ]
    },
    {
      "cell_type": "code",
      "metadata": {
        "id": "V2j1ZXm-Tyn-",
        "colab_type": "code",
        "colab": {
          "base_uri": "https://localhost:8080/",
          "height": 448
        },
        "outputId": "d0e9082b-7bd6-47c5-875c-6bc4f4e2d155"
      },
      "source": [
        "# для latitude\n",
        "\n",
        "plt.figure(figsize=(12, 7))\n",
        "plt.plot(train_lat_loss, \n",
        "         label='MSE на тренировочном наборе',\n",
        "         color='orange')\n",
        "plt.plot(test_lat_loss, \n",
        "         label='MSE на тестовом наборе')\n",
        "plt.xlabel('Эпоха обучения')\n",
        "plt.ylabel('MSE модели')\n",
        "plt.legend()\n",
        "plt.show()"
      ],
      "execution_count": null,
      "outputs": [
        {
          "output_type": "display_data",
          "data": {
            "image/png": "[encoded data removed]",
            "text/plain": [
              "<Figure size 864x504 with 1 Axes>"
            ]
          },
          "metadata": {
            "tags": []
          }
        }
      ]
    },
    {
      "cell_type": "code",
      "metadata": {
        "id": "82QIgZyR6LVn",
        "colab_type": "code",
        "colab": {
          "base_uri": "https://localhost:8080/",
          "height": 1000
        },
        "outputId": "c58c957a-898b-41d0-dba6-a234d302c854"
      },
      "source": [
        "# предсказанные координаты\n",
        "\n",
        "torch.cat([test_preds_long, test_preds_lat], dim=1)"
      ],
      "execution_count": null,
      "outputs": [
        {
          "output_type": "execute_result",
          "data": {
            "text/plain": [
              "tensor([[-8.6030, 41.2200],\n",
              "        [-8.6002, 41.2233],\n",
              "        [-8.5892, 41.2294],\n",
              "        [-8.6050, 41.1591],\n",
              "        [-8.6368, 41.2139],\n",
              "        [-8.4586, 41.2475],\n",
              "        [-8.5896, 41.1488],\n",
              "        [-8.5597, 41.2452],\n",
              "        [-8.6108, 41.1310],\n",
              "        [-8.6080, 41.2420],\n",
              "        [-8.5570, 41.2380],\n",
              "        [-8.5555, 41.2241],\n",
              "        [-8.5537, 41.2281],\n",
              "        [-8.6303, 41.2000],\n",
              "        [-8.5874, 41.2162],\n",
              "        [-8.6178, 41.1563],\n",
              "        [-8.6073, 41.1571],\n",
              "        [-8.6360, 41.2193],\n",
              "        [-8.5993, 41.4381],\n",
              "        [-8.6366, 41.1351],\n",
              "        [-8.5858, 41.2199],\n",
              "        [-8.6036, 41.0407],\n",
              "        [-8.6432, 41.2197],\n",
              "        [-8.5928, 41.1089],\n",
              "        [-8.6119, 41.2180],\n",
              "        [-8.5666, 41.2545],\n",
              "        [-8.6006, 41.1231],\n",
              "        [-8.5762, 41.2202],\n",
              "        [-8.6383, 41.3140],\n",
              "        [-8.5972, 41.2272],\n",
              "        [-8.5890, 41.2266],\n",
              "        [-8.5768, 41.1677],\n",
              "        [-8.5657, 41.1671],\n",
              "        [-8.5817, 41.2146],\n",
              "        [-8.6515, 41.2329],\n",
              "        [-8.6815, 41.1919],\n",
              "        [-8.6435, 41.2241],\n",
              "        [-8.5925, 41.1602],\n",
              "        [-8.6178, 41.2123],\n",
              "        [-8.6016, 41.1719],\n",
              "        [-8.5797, 41.2382],\n",
              "        [-8.5927, 41.2204],\n",
              "        [-8.6191, 41.2355],\n",
              "        [-8.6399, 41.2683],\n",
              "        [-8.5188, 41.1332],\n",
              "        [-8.6307, 41.2951],\n",
              "        [-8.6209, 41.2336],\n",
              "        [-8.5612, 41.2358],\n",
              "        [-8.5336, 41.2287],\n",
              "        [-8.5938, 41.1525],\n",
              "        [-8.6233, 41.1672],\n",
              "        [-8.5618, 41.1385],\n",
              "        [-8.6063, 41.2299],\n",
              "        [-8.6007, 41.2253],\n",
              "        [-8.6249, 41.2881],\n",
              "        [-8.5968, 41.3091],\n",
              "        [-8.6415, 41.2354],\n",
              "        [-8.6404, 41.2564],\n",
              "        [-8.6104, 41.1565],\n",
              "        [-8.6138, 41.1782],\n",
              "        [-8.5589, 41.2614],\n",
              "        [-8.5686, 41.2038],\n",
              "        [-8.6022, 41.3462],\n",
              "        [-8.6312, 41.1397],\n",
              "        [-8.5732, 41.2068],\n",
              "        [-8.5529, 41.2145],\n",
              "        [-8.6232, 41.1295],\n",
              "        [-8.6234, 41.2063],\n",
              "        [-8.6291, 40.9385],\n",
              "        [-8.4768, 41.4445],\n",
              "        [-8.6402, 41.3145],\n",
              "        [-8.5653, 41.1414],\n",
              "        [-8.6431, 41.1794],\n",
              "        [-8.6679, 41.1757],\n",
              "        [-8.5999, 41.2390],\n",
              "        [-8.6128, 41.1689],\n",
              "        [-8.6528, 41.2188],\n",
              "        [-8.5875, 41.2476],\n",
              "        [-8.6516, 41.2944],\n",
              "        [-8.6025, 41.2800],\n",
              "        [-8.6353, 41.1181],\n",
              "        [-7.5683, 41.2493],\n",
              "        [-8.5198, 41.2239],\n",
              "        [-8.6325, 41.0987],\n",
              "        [-8.6479, 41.2532],\n",
              "        [-8.6285, 41.2228],\n",
              "        [-8.6009, 41.0963],\n",
              "        [-8.5912, 41.2139],\n",
              "        [-8.6497, 41.2104],\n",
              "        [-8.6274, 41.1663],\n",
              "        [-8.6522, 41.2927],\n",
              "        [-8.6267, 41.2258],\n",
              "        [-8.5990, 41.2193],\n",
              "        [-8.6853, 41.0984],\n",
              "        [-8.5775, 41.0125],\n",
              "        [-8.6622, 41.2179],\n",
              "        [-8.5917, 41.2478],\n",
              "        [-8.5763, 41.2230],\n",
              "        [-8.5913, 41.1601],\n",
              "        [-8.6584, 41.2592],\n",
              "        [-8.5704, 41.1847],\n",
              "        [-8.5218, 41.1668],\n",
              "        [-8.5223, 41.2243],\n",
              "        [-8.5900, 41.2445],\n",
              "        [-8.6263, 41.2282],\n",
              "        [-8.5215, 41.1140],\n",
              "        [-8.5783, 41.2348],\n",
              "        [-8.5835, 41.2501],\n",
              "        [-8.5554, 41.2278],\n",
              "        [-8.6048, 41.2748],\n",
              "        [-8.5640, 41.1934],\n",
              "        [-8.6443, 41.2484],\n",
              "        [-8.5691, 41.2389],\n",
              "        [-8.6230, 41.1269],\n",
              "        [-8.5453, 41.2122],\n",
              "        [-8.6120, 41.1715],\n",
              "        [-8.6336, 41.1977],\n",
              "        [-8.6290, 41.1508],\n",
              "        [-8.6338, 41.2202],\n",
              "        [-8.6116, 41.2769],\n",
              "        [-8.5844, 41.1950],\n",
              "        [-8.6172, 41.2320],\n",
              "        [-8.5934, 41.2212],\n",
              "        [-8.3391, 41.2498],\n",
              "        [-8.6535, 41.2148],\n",
              "        [-8.6074, 41.2157],\n",
              "        [-8.5962, 41.2492],\n",
              "        [-8.5858, 41.2222],\n",
              "        [-8.5345, 41.1428],\n",
              "        [-8.6514, 41.1628],\n",
              "        [-8.5948, 41.1047],\n",
              "        [-8.5609, 41.2428],\n",
              "        [-8.5112, 41.1895],\n",
              "        [-8.5977, 41.0622],\n",
              "        [-8.5937, 41.2165],\n",
              "        [-8.6134, 41.2128],\n",
              "        [-8.6042, 41.2385],\n",
              "        [-8.5834, 41.2161],\n",
              "        [-8.5759, 41.2326],\n",
              "        [-8.5887, 41.2598],\n",
              "        [-8.5958, 41.2478],\n",
              "        [-8.5668, 41.2466],\n",
              "        [-8.6110, 41.2219],\n",
              "        [-8.6192, 41.3322],\n",
              "        [-8.6216, 41.2634],\n",
              "        [-8.6350, 41.1678],\n",
              "        [-8.5596, 41.1809],\n",
              "        [-8.6643, 41.2283],\n",
              "        [-8.3043, 41.2375],\n",
              "        [-8.6107, 41.2051],\n",
              "        [-8.6407, 41.2128],\n",
              "        [-8.6518, 41.2028],\n",
              "        [-8.6108, 41.1328],\n",
              "        [-8.6466, 41.2341],\n",
              "        [-8.6214, 41.0117],\n",
              "        [-8.6204, 41.2183],\n",
              "        [-8.5372, 41.1672],\n",
              "        [-8.5857, 41.2181],\n",
              "        [-8.5866, 41.2374],\n",
              "        [-8.6211, 41.2427],\n",
              "        [-8.5694, 41.2192],\n",
              "        [-8.5621, 41.2267],\n",
              "        [-8.5516, 41.2093],\n",
              "        [-8.5675, 41.3943],\n",
              "        [-8.5087, 41.2644],\n",
              "        [-8.6343, 41.1534],\n",
              "        [-8.5597, 41.2217],\n",
              "        [-8.5964, 41.2116],\n",
              "        [-8.5977, 41.1454],\n",
              "        [-8.5428, 41.2279],\n",
              "        [-8.4798, 41.1008],\n",
              "        [-8.5096, 41.1330],\n",
              "        [-8.5142, 41.2255],\n",
              "        [-8.6058, 41.2988],\n",
              "        [-8.6226, 41.2158],\n",
              "        [-8.6438, 41.2314],\n",
              "        [-8.5908, 41.2193],\n",
              "        [-8.5308, 41.2176],\n",
              "        [-8.6107, 41.1766],\n",
              "        [-8.5289, 41.2553],\n",
              "        [-8.5910, 41.1743],\n",
              "        [-8.5914, 41.1125],\n",
              "        [-8.5571, 41.2131],\n",
              "        [-8.6022, 41.2497],\n",
              "        [-8.6197, 41.2116],\n",
              "        [-8.6132, 41.1771],\n",
              "        [-8.6037, 41.1365],\n",
              "        [-8.5791, 41.2935],\n",
              "        [-8.5670, 41.2207],\n",
              "        [-8.5604, 41.1802],\n",
              "        [-8.6361, 41.2206],\n",
              "        [-8.6130, 41.2150],\n",
              "        [-8.5953, 41.1339],\n",
              "        [-8.4398, 41.2457],\n",
              "        [-8.6539, 41.2186],\n",
              "        [-8.6040, 41.2692],\n",
              "        [-8.5730, 41.0848],\n",
              "        [-8.5813, 41.1558],\n",
              "        [-8.5986, 41.2515],\n",
              "        [-8.5815, 41.1472],\n",
              "        [-8.6078, 41.2349],\n",
              "        [-8.5804, 41.2558],\n",
              "        [-8.5811, 41.2133],\n",
              "        [-8.5995, 41.1718],\n",
              "        [-8.5642, 41.1212],\n",
              "        [-8.6151, 41.2119],\n",
              "        [-8.3417, 41.2163],\n",
              "        [-8.6074, 41.2127],\n",
              "        [-8.6254, 41.1783],\n",
              "        [-8.6017, 41.2131],\n",
              "        [-8.6193, 41.1795],\n",
              "        [-8.5977, 41.1996],\n",
              "        [-8.6046, 41.3017],\n",
              "        [-8.6172, 41.1298],\n",
              "        [-8.5755, 41.2477],\n",
              "        [-8.5983, 41.2211],\n",
              "        [-8.6749, 41.2235],\n",
              "        [-8.5939, 41.1051],\n",
              "        [-8.5948, 41.5706],\n",
              "        [-8.6081, 41.2831],\n",
              "        [-8.6216, 41.2213],\n",
              "        [-8.6134, 41.2072],\n",
              "        [-8.6113, 41.3183],\n",
              "        [-8.6176, 41.2272],\n",
              "        [-8.6622, 41.1351],\n",
              "        [-8.6286, 41.2634],\n",
              "        [-8.5663, 41.2238],\n",
              "        [-8.5810, 41.1795],\n",
              "        [-8.5831, 41.1589],\n",
              "        [-8.6049, 41.1531],\n",
              "        [-8.5353, 41.2238],\n",
              "        [-8.5642, 41.2999],\n",
              "        [-8.5903, 41.1363],\n",
              "        [-8.6167, 41.1674],\n",
              "        [-8.6264, 41.2503],\n",
              "        [-8.6215, 41.1504],\n",
              "        [-8.6450, 41.2293],\n",
              "        [-8.6850, 41.2417],\n",
              "        [-8.6165, 41.1560],\n",
              "        [-8.6268, 41.1646],\n",
              "        [-8.5735, 41.2838],\n",
              "        [-8.5833, 41.2496],\n",
              "        [-8.5761, 41.1543],\n",
              "        [-8.6091, 41.2467],\n",
              "        [-8.5933, 41.1675],\n",
              "        [-8.6691, 41.1485],\n",
              "        [-8.5938, 41.2254],\n",
              "        [-8.5894, 41.2185],\n",
              "        [-8.5805, 41.2249],\n",
              "        [-8.6016, 41.2182],\n",
              "        [-8.6240, 41.1947],\n",
              "        [-8.6072, 41.1839],\n",
              "        [-8.5776, 41.2181],\n",
              "        [-8.6004, 41.2171],\n",
              "        [-8.5759, 41.3127],\n",
              "        [-8.6493, 41.2276],\n",
              "        [-8.6024, 41.2230],\n",
              "        [-8.5677, 41.2195],\n",
              "        [-8.6180, 41.2118],\n",
              "        [-8.5950, 41.2880],\n",
              "        [-8.6084, 41.3096],\n",
              "        [-8.5012, 40.9415],\n",
              "        [-8.6445, 41.2517],\n",
              "        [-8.5722, 41.2258],\n",
              "        [-8.6316, 41.2245],\n",
              "        [-8.5903, 41.2237],\n",
              "        [-8.6265, 41.2356],\n",
              "        [-8.6370, 41.2450],\n",
              "        [-8.6180, 41.2955],\n",
              "        [-8.6103, 41.1713],\n",
              "        [-8.6438, 41.3078],\n",
              "        [-8.6164, 41.1392],\n",
              "        [-8.5086, 41.2235],\n",
              "        [-8.6004, 41.1798],\n",
              "        [-8.6128, 41.1866],\n",
              "        [-8.5772, 41.2206],\n",
              "        [-8.6182, 41.1266],\n",
              "        [-8.6455, 41.2489],\n",
              "        [-8.6063, 41.1300],\n",
              "        [-8.6592, 41.2375],\n",
              "        [-8.6378, 41.1720],\n",
              "        [-8.5841, 41.1430],\n",
              "        [-8.5849, 41.2374],\n",
              "        [-8.5876, 41.2329],\n",
              "        [-8.6189, 41.2119],\n",
              "        [-8.6366, 41.1735],\n",
              "        [-8.6150, 41.2195],\n",
              "        [-8.5610, 41.1652],\n",
              "        [-8.6352, 41.1834],\n",
              "        [-8.6193, 41.3418],\n",
              "        [-8.5444, 41.0483],\n",
              "        [-8.6173, 41.2179],\n",
              "        [-8.5854, 41.1485],\n",
              "        [-8.6109, 41.2246],\n",
              "        [-8.6602, 41.1712],\n",
              "        [-8.6356, 41.1380],\n",
              "        [-8.6707, 41.2639],\n",
              "        [-8.5179, 41.1183],\n",
              "        [-8.5832, 41.2855],\n",
              "        [-8.5838, 41.1712],\n",
              "        [-8.6575, 41.2541],\n",
              "        [-8.5982, 41.1951],\n",
              "        [-8.6112, 41.1777],\n",
              "        [-8.5593, 41.2377],\n",
              "        [-8.5463, 41.2310],\n",
              "        [-8.6294, 41.1631],\n",
              "        [-8.5982, 41.1908],\n",
              "        [-8.6185, 41.2194],\n",
              "        [-8.7006, 41.2329],\n",
              "        [-8.6194, 41.1936],\n",
              "        [-8.6080, 41.1747],\n",
              "        [-8.6197, 41.2747],\n",
              "        [-8.6037, 41.2512],\n",
              "        [-8.5773, 41.1907],\n",
              "        [-8.6257, 41.1785],\n",
              "        [-8.6543, 40.9817],\n",
              "        [-8.4879, 41.2755],\n",
              "        [-8.5350, 41.2609]], grad_fn=<CatBackward>)"
            ]
          },
          "metadata": {
            "tags": []
          },
          "execution_count": 93
        }
      ]
    }
  ]
}