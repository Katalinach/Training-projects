{
  "nbformat": 4,
  "nbformat_minor": 0,
  "metadata": {
    "kernelspec": {
      "name": "python3",
      "display_name": "Python 3"
    },
    "language_info": {
      "codemirror_mode": {
        "name": "ipython",
        "version": 3
      },
      "file_extension": ".py",
      "mimetype": "text/x-python",
      "name": "python",
      "nbconvert_exporter": "python",
      "pygments_lexer": "ipython3",
      "version": "3.7.6"
    },
    "colab": {
      "name": "RandomForest and feature importances.ipynb",
      "provenance": []
    }
  },
  "cells": [
    {
      "cell_type": "code",
      "metadata": {
        "id": "QvS5eZLVoftr",
        "colab_type": "code",
        "colab": {}
      },
      "source": [
        "%matplotlib inline\n",
        "\n",
        "\n",
        "import matplotlib.pyplot as plt\n",
        "import numpy as np\n",
        "import pandas as pd\n",
        "import seaborn as sns\n",
        "from sklearn.ensemble import BaggingRegressor, RandomForestRegressor, RandomForestClassifier\n",
        "from sklearn.linear_model import Ridge, LinearRegression\n",
        "from sklearn.metrics import r2_score\n",
        "from sklearn.model_selection import GridSearchCV, RandomizedSearchCV, \\\n",
        "    cross_val_score, train_test_split\n",
        "from sklearn.pipeline import Pipeline\n",
        "from sklearn.preprocessing import OneHotEncoder, PolynomialFeatures, \\\n",
        "    PowerTransformer, StandardScaler\n",
        "\n",
        "import warnings\n",
        "warnings.filterwarnings(\"ignore\")"
      ],
      "execution_count": 2,
      "outputs": []
    },
    {
      "cell_type": "markdown",
      "metadata": {
        "id": "2g_Vneo4ofvP",
        "colab_type": "text"
      },
      "source": [
        "## Задача: обучите случайный лес для предсказания возраста морских ушек\n",
        "\n",
        "- Попробуйте полиномиальные признаки 2-го порядка;\n",
        "- Постройте барплоты с важностями исходных признаков и признаков, полученных с помощью `PolynomialFeatures` (включая исходные);\n",
        "- Постройте график зависимости R2 гребневой регрессии от количества задействованных полиномиальных признаков (добавляйте признаки в порядке убывания значимости)."
      ]
    },
    {
      "cell_type": "code",
      "metadata": {
        "id": "DugIstLHofvR",
        "colab_type": "code",
        "colab": {}
      },
      "source": [
        "train_url = 'https://raw.githubusercontent.com/Katalinach/ML-Datasets/master/abalone_train.csv?token=ANTWLAFF2MOZ42YHG2P2K3C7G666E'\n",
        "test_url = 'https://raw.githubusercontent.com/Katalinach/ML-Datasets/master/abalone_test.csv?token=ANTWLAH4CJPLNN7SPWTAIQC7G667O'\n",
        "train_df = pd.read_csv(train_url)\n",
        "test_df = pd.read_csv(test_url)"
      ],
      "execution_count": 3,
      "outputs": []
    },
    {
      "cell_type": "code",
      "metadata": {
        "id": "_dbhpXvh51yh",
        "colab_type": "code",
        "colab": {
          "base_uri": "https://localhost:8080/",
          "height": 206
        },
        "outputId": "3086dd49-54f5-424d-f1e1-77565ba66457"
      },
      "source": [
        "train_df.head()"
      ],
      "execution_count": 4,
      "outputs": [
        {
          "output_type": "execute_result",
          "data": {
            "text/html": [
              "<div>\n",
              "<style scoped>\n",
              "    .dataframe tbody tr th:only-of-type {\n",
              "        vertical-align: middle;\n",
              "    }\n",
              "\n",
              "    .dataframe tbody tr th {\n",
              "        vertical-align: top;\n",
              "    }\n",
              "\n",
              "    .dataframe thead th {\n",
              "        text-align: right;\n",
              "    }\n",
              "</style>\n",
              "<table border=\"1\" class=\"dataframe\">\n",
              "  <thead>\n",
              "    <tr style=\"text-align: right;\">\n",
              "      <th></th>\n",
              "      <th>Sex</th>\n",
              "      <th>Length</th>\n",
              "      <th>Diameter</th>\n",
              "      <th>Height</th>\n",
              "      <th>Whole weight</th>\n",
              "      <th>Shucked weight</th>\n",
              "      <th>Viscera weight</th>\n",
              "      <th>Shell weight</th>\n",
              "      <th>Rings</th>\n",
              "    </tr>\n",
              "  </thead>\n",
              "  <tbody>\n",
              "    <tr>\n",
              "      <th>0</th>\n",
              "      <td>I</td>\n",
              "      <td>0.465</td>\n",
              "      <td>0.360</td>\n",
              "      <td>0.105</td>\n",
              "      <td>0.4520</td>\n",
              "      <td>0.2200</td>\n",
              "      <td>0.1590</td>\n",
              "      <td>0.1035</td>\n",
              "      <td>9</td>\n",
              "    </tr>\n",
              "    <tr>\n",
              "      <th>1</th>\n",
              "      <td>M</td>\n",
              "      <td>0.630</td>\n",
              "      <td>0.510</td>\n",
              "      <td>0.170</td>\n",
              "      <td>1.1885</td>\n",
              "      <td>0.4915</td>\n",
              "      <td>0.3065</td>\n",
              "      <td>0.3480</td>\n",
              "      <td>7</td>\n",
              "    </tr>\n",
              "    <tr>\n",
              "      <th>2</th>\n",
              "      <td>M</td>\n",
              "      <td>0.540</td>\n",
              "      <td>0.435</td>\n",
              "      <td>0.140</td>\n",
              "      <td>0.7345</td>\n",
              "      <td>0.3300</td>\n",
              "      <td>0.1595</td>\n",
              "      <td>0.2130</td>\n",
              "      <td>9</td>\n",
              "    </tr>\n",
              "    <tr>\n",
              "      <th>3</th>\n",
              "      <td>I</td>\n",
              "      <td>0.405</td>\n",
              "      <td>0.300</td>\n",
              "      <td>0.090</td>\n",
              "      <td>0.2690</td>\n",
              "      <td>0.1030</td>\n",
              "      <td>0.0670</td>\n",
              "      <td>0.1100</td>\n",
              "      <td>6</td>\n",
              "    </tr>\n",
              "    <tr>\n",
              "      <th>4</th>\n",
              "      <td>M</td>\n",
              "      <td>0.600</td>\n",
              "      <td>0.485</td>\n",
              "      <td>0.175</td>\n",
              "      <td>1.2675</td>\n",
              "      <td>0.4995</td>\n",
              "      <td>0.2815</td>\n",
              "      <td>0.3800</td>\n",
              "      <td>13</td>\n",
              "    </tr>\n",
              "  </tbody>\n",
              "</table>\n",
              "</div>"
            ],
            "text/plain": [
              "  Sex  Length  Diameter  ...  Viscera weight  Shell weight  Rings\n",
              "0   I   0.465     0.360  ...          0.1590        0.1035      9\n",
              "1   M   0.630     0.510  ...          0.3065        0.3480      7\n",
              "2   M   0.540     0.435  ...          0.1595        0.2130      9\n",
              "3   I   0.405     0.300  ...          0.0670        0.1100      6\n",
              "4   M   0.600     0.485  ...          0.2815        0.3800     13\n",
              "\n",
              "[5 rows x 9 columns]"
            ]
          },
          "metadata": {
            "tags": []
          },
          "execution_count": 4
        }
      ]
    },
    {
      "cell_type": "code",
      "metadata": {
        "id": "--tpaQqG54j1",
        "colab_type": "code",
        "colab": {}
      },
      "source": [
        "X_train = train_df.drop(['Rings'], axis=1)\n",
        "y_train = train_df['Rings']\n",
        "X_test = test_df.drop(['Rings'], axis=1)\n",
        "y_test = test_df['Rings']"
      ],
      "execution_count": 5,
      "outputs": []
    },
    {
      "cell_type": "code",
      "metadata": {
        "id": "7kbn2k7YNyDT",
        "colab_type": "code",
        "colab": {}
      },
      "source": [
        "# закодируем признак 'Sex'с помощью get_dummies\n",
        "\n",
        "X_train = pd.get_dummies(X_train, columns=['Sex'])\n",
        "X_test = pd.get_dummies(X_test, columns=['Sex'])"
      ],
      "execution_count": 6,
      "outputs": []
    },
    {
      "cell_type": "code",
      "metadata": {
        "colab_type": "code",
        "id": "FUKtrUNyOzV2",
        "colab": {
          "base_uri": "https://localhost:8080/",
          "height": 35
        },
        "outputId": "0717323e-8aa4-4930-cce1-b3a4c1f6236a"
      },
      "source": [
        "X_train.shape"
      ],
      "execution_count": 7,
      "outputs": [
        {
          "output_type": "execute_result",
          "data": {
            "text/plain": [
              "(2677, 10)"
            ]
          },
          "metadata": {
            "tags": []
          },
          "execution_count": 7
        }
      ]
    },
    {
      "cell_type": "code",
      "metadata": {
        "id": "g3tpep-eN-PM",
        "colab_type": "code",
        "colab": {
          "base_uri": "https://localhost:8080/",
          "height": 34
        },
        "outputId": "e8c2734b-5cec-42f6-ce57-52a4dd905190"
      },
      "source": [
        "# Обучите случайный лес на задаче предсказания возраста морских ушек\n",
        "# подберем значение n_estimators\n",
        "\n",
        "clf_rf = RandomForestClassifier()\n",
        "n_estimators = np.arange(1, 200, 2)\n",
        "\n",
        "gs = GridSearchCV(clf_rf, param_grid={'n_estimators': n_estimators}, cv=3, scoring='r2')\n",
        "gs.fit(X_train, y_train)\n",
        "gs.best_params_"
      ],
      "execution_count": null,
      "outputs": [
        {
          "output_type": "execute_result",
          "data": {
            "text/plain": [
              "{'n_estimators': 115}"
            ]
          },
          "metadata": {
            "tags": []
          },
          "execution_count": 10
        }
      ]
    },
    {
      "cell_type": "code",
      "metadata": {
        "id": "qhcuUuZrikJb",
        "colab_type": "code",
        "colab": {
          "base_uri": "https://localhost:8080/",
          "height": 34
        },
        "outputId": "7b8f2f3c-5912-47f4-ec6e-c2e176e8fd0b"
      },
      "source": [
        "# обучим модель\n",
        "\n",
        "clf_rf = RandomForestClassifier(**gs.best_params_)\n",
        "clf_rf.fit(X_train, y_train)\n",
        "y_pred = clf_rf.predict(X_test)\n",
        "r2 = r2_score(y_test, y_pred)\n",
        "r2"
      ],
      "execution_count": null,
      "outputs": [
        {
          "output_type": "execute_result",
          "data": {
            "text/plain": [
              "0.37179123446915596"
            ]
          },
          "metadata": {
            "tags": []
          },
          "execution_count": 11
        }
      ]
    },
    {
      "cell_type": "code",
      "metadata": {
        "id": "p8Az8_u0iVWm",
        "colab_type": "code",
        "colab": {}
      },
      "source": [
        "# Попробуйте полиномиальные признаки 2-го порядка\n",
        "\n",
        "poly_transformer = PolynomialFeatures(degree=2) # создадим полиномиальный объект степени 2\n",
        "poly_transformer.fit(X_train) # тренировка полиномиальных признаков\n",
        "\n",
        "poly_features_train = poly_transformer.transform(X_train) # трансформация признаков\n",
        "poly_features_test = poly_transformer.transform(X_test)"
      ],
      "execution_count": null,
      "outputs": []
    },
    {
      "cell_type": "code",
      "metadata": {
        "id": "zT2wAOBmlhvP",
        "colab_type": "code",
        "colab": {
          "base_uri": "https://localhost:8080/",
          "height": 34
        },
        "outputId": "7f2fdd26-bd36-4daf-8556-8473638cc7e7"
      },
      "source": [
        "poly_features_train.shape"
      ],
      "execution_count": null,
      "outputs": [
        {
          "output_type": "execute_result",
          "data": {
            "text/plain": [
              "(2677, 66)"
            ]
          },
          "metadata": {
            "tags": []
          },
          "execution_count": 13
        }
      ]
    },
    {
      "cell_type": "code",
      "metadata": {
        "id": "CPc2wM-qQgoe",
        "colab_type": "code",
        "colab": {
          "base_uri": "https://localhost:8080/",
          "height": 34
        },
        "outputId": "2c717c08-e1fb-4a87-8042-e4cfd0a642e6"
      },
      "source": [
        "# подберем значение n_estimators\n",
        "\n",
        "clf_rf_poly = RandomForestClassifier()\n",
        "n_estimators = np.arange(1, 200, 2)\n",
        "\n",
        "gs = GridSearchCV(clf_rf_poly, param_grid={'n_estimators': n_estimators}, cv=3, scoring='r2')\n",
        "gs.fit(poly_features_train, y_train)\n",
        "gs.best_params_"
      ],
      "execution_count": null,
      "outputs": [
        {
          "output_type": "execute_result",
          "data": {
            "text/plain": [
              "{'n_estimators': 143}"
            ]
          },
          "metadata": {
            "tags": []
          },
          "execution_count": 14
        }
      ]
    },
    {
      "cell_type": "code",
      "metadata": {
        "id": "odMOXJamUzgM",
        "colab_type": "code",
        "colab": {
          "base_uri": "https://localhost:8080/",
          "height": 34
        },
        "outputId": "2007a2fb-b42a-41a5-b070-36a38e062574"
      },
      "source": [
        "# обучим модель\n",
        "\n",
        "clf_rf_poly = RandomForestClassifier(**gs.best_params_)\n",
        "clf_rf_poly.fit(poly_features_train, y_train)\n",
        "y_pred = clf_rf_poly.predict(poly_features_test)\n",
        "r2 = r2_score(y_test, y_pred)\n",
        "r2"
      ],
      "execution_count": null,
      "outputs": [
        {
          "output_type": "execute_result",
          "data": {
            "text/plain": [
              "0.35850862022035257"
            ]
          },
          "metadata": {
            "tags": []
          },
          "execution_count": 15
        }
      ]
    },
    {
      "cell_type": "code",
      "metadata": {
        "id": "M1lfRDxghuQi",
        "colab_type": "code",
        "colab": {
          "base_uri": "https://localhost:8080/",
          "height": 528
        },
        "outputId": "208a52b8-ec29-4a75-8162-3d5bead9740c"
      },
      "source": [
        "# Постройте барплоты с важностями исходных признаков\n",
        "\n",
        "features = list(X_train.columns)\n",
        "importances = clf_rf.feature_importances_\n",
        "indices = np.argsort(importances)[::-1]\n",
        "num_to_plot = 10\n",
        "\n",
        "print('Важность признаков')\n",
        "  \n",
        "for f in range(num_to_plot):\n",
        "    print(\"%d. %s %f \" % (f, \n",
        "            features[indices[f]], \n",
        "            importances[indices[f]]))\n",
        "\n",
        "plt.figure(figsize=(15, 5))\n",
        "plt.title('Важность признаков', fontdict={'fontsize': 20})\n",
        "bars = plt.bar(range(num_to_plot), \n",
        "               importances[indices[:num_to_plot]],\n",
        "               color=([str(i/float(num_to_plot+1)) \n",
        "               for i in range(num_to_plot)]))\n",
        "ticks = plt.xticks(range(num_to_plot), indices)\n",
        "plt.legend(bars, [''.join(features[i]) \n",
        "                  for i in indices]);"
      ],
      "execution_count": null,
      "outputs": [
        {
          "output_type": "stream",
          "text": [
            "Важность признаков\n",
            "0. Shell weight 0.166557 \n",
            "1. Shucked weight 0.152945 \n",
            "2. Viscera weight 0.147861 \n",
            "3. Whole weight 0.146266 \n",
            "4. Length 0.119072 \n",
            "5. Diameter 0.113549 \n",
            "6. Height 0.099856 \n",
            "7. Sex_M 0.018973 \n",
            "8. Sex_F 0.017908 \n",
            "9. Sex_I 0.017014 \n"
          ],
          "name": "stdout"
        },
        {
          "output_type": "display_data",
          "data": {
            "image/png": "[encoded data removed]",
            "text/plain": [
              "<Figure size 1080x360 with 1 Axes>"
            ]
          },
          "metadata": {
            "tags": []
          }
        }
      ]
    },
    {
      "cell_type": "code",
      "metadata": {
        "id": "iBBU0j0noAvF",
        "colab_type": "code",
        "colab": {
          "base_uri": "https://localhost:8080/",
          "height": 528
        },
        "outputId": "c43a4299-ece2-4320-f30e-cd28ec714952"
      },
      "source": [
        "# и признаков, полученных с помощью PolynomialFeatures (включая исходные)\n",
        "\n",
        "columns = (['poly_' + str(i) for i in range(66)])\n",
        "poly_features_train_df = pd.DataFrame(poly_features_train, columns=columns)\n",
        "poly_features_test_df = pd.DataFrame(poly_features_test, columns=columns)\n",
        "features = list(poly_features_train_df.columns)\n",
        "importances = clf_rf_poly.feature_importances_\n",
        "indices = np.argsort(importances)[::-1]\n",
        "num_to_plot = 10\n",
        "\n",
        "print('Важность признаков')\n",
        "  \n",
        "for f in range(num_to_plot):\n",
        "    print(\"%d. %s %f \" % (f, \n",
        "            features[indices[f]], \n",
        "            importances[indices[f]]))\n",
        "\n",
        "plt.figure(figsize=(15, 5))\n",
        "plt.title('Важность признаков', fontdict={'fontsize': 20})\n",
        "bars = plt.bar(range(num_to_plot), \n",
        "               importances[indices[:num_to_plot]],\n",
        "               color=([str(i/float(num_to_plot+1)) \n",
        "               for i in range(num_to_plot)]))\n",
        "ticks = plt.xticks(range(num_to_plot), indices)\n",
        "plt.legend(bars, [''.join(features[i]) \n",
        "                  for i in indices]);"
      ],
      "execution_count": null,
      "outputs": [
        {
          "output_type": "stream",
          "text": [
            "Важность признаков\n",
            "0. poly_34 0.032384 \n",
            "1. poly_56 0.031735 \n",
            "2. poly_17 0.031258 \n",
            "3. poly_7 0.030662 \n",
            "4. poly_26 0.030471 \n",
            "5. poly_52 0.029394 \n",
            "6. poly_41 0.027626 \n",
            "7. poly_33 0.027073 \n",
            "8. poly_25 0.025763 \n",
            "9. poly_22 0.025640 \n"
          ],
          "name": "stdout"
        },
        {
          "output_type": "display_data",
          "data": {
            "image/png": "[encoded data removed]",
            "text/plain": [
              "<Figure size 1080x360 with 1 Axes>"
            ]
          },
          "metadata": {
            "tags": []
          }
        }
      ]
    },
    {
      "cell_type": "code",
      "metadata": {
        "id": "cRiirSBZYOcU",
        "colab_type": "code",
        "colab": {}
      },
      "source": [
        "# создадим датафрейм с новыми признаками, расположенными в порядке убывания важности\n",
        "\n",
        "new_features = []\n",
        "new_importances = []\n",
        "  \n",
        "for f in range(66):\n",
        "    new_features.append(features[indices[f]])\n",
        "    new_importances.append(importances[indices[f]])"
      ],
      "execution_count": null,
      "outputs": []
    },
    {
      "cell_type": "code",
      "metadata": {
        "id": "QdmPTomXdUyH",
        "colab_type": "code",
        "colab": {}
      },
      "source": [
        "new_features = pd.concat([pd.DataFrame(new_features), pd.DataFrame(new_importances)], axis=1, names = ['feature', 'importance'], ignore_index=False)\n",
        "new_features.columns = ['feature', 'importance']\n",
        "new_features = list(new_features['feature'])"
      ],
      "execution_count": null,
      "outputs": []
    },
    {
      "cell_type": "code",
      "metadata": {
        "id": "aH0xyho8fcoR",
        "colab_type": "code",
        "colab": {}
      },
      "source": [
        "X_train_poly = poly_features_train_df[new_features]\n",
        "X_test_poly = poly_features_test_df[new_features]"
      ],
      "execution_count": null,
      "outputs": []
    },
    {
      "cell_type": "code",
      "metadata": {
        "id": "wfSSXWhTiJF6",
        "colab_type": "code",
        "colab": {
          "base_uri": "https://localhost:8080/",
          "height": 215
        },
        "outputId": "d71bc991-5d4c-455a-8ba2-09edda089a20"
      },
      "source": [
        "X_train_poly.head()"
      ],
      "execution_count": null,
      "outputs": [
        {
          "output_type": "execute_result",
          "data": {
            "text/html": [
              "<div>\n",
              "<style scoped>\n",
              "    .dataframe tbody tr th:only-of-type {\n",
              "        vertical-align: middle;\n",
              "    }\n",
              "\n",
              "    .dataframe tbody tr th {\n",
              "        vertical-align: top;\n",
              "    }\n",
              "\n",
              "    .dataframe thead th {\n",
              "        text-align: right;\n",
              "    }\n",
              "</style>\n",
              "<table border=\"1\" class=\"dataframe\">\n",
              "  <thead>\n",
              "    <tr style=\"text-align: right;\">\n",
              "      <th></th>\n",
              "      <th>poly_34</th>\n",
              "      <th>poly_56</th>\n",
              "      <th>poly_17</th>\n",
              "      <th>poly_7</th>\n",
              "      <th>poly_26</th>\n",
              "      <th>poly_52</th>\n",
              "      <th>poly_41</th>\n",
              "      <th>poly_33</th>\n",
              "      <th>poly_25</th>\n",
              "      <th>poly_22</th>\n",
              "      <th>poly_15</th>\n",
              "      <th>poly_31</th>\n",
              "      <th>poly_12</th>\n",
              "      <th>poly_13</th>\n",
              "      <th>poly_47</th>\n",
              "      <th>poly_45</th>\n",
              "      <th>poly_24</th>\n",
              "      <th>poly_5</th>\n",
              "      <th>poly_32</th>\n",
              "      <th>poly_46</th>\n",
              "      <th>poly_16</th>\n",
              "      <th>poly_40</th>\n",
              "      <th>poly_39</th>\n",
              "      <th>poly_23</th>\n",
              "      <th>poly_14</th>\n",
              "      <th>poly_51</th>\n",
              "      <th>poly_6</th>\n",
              "      <th>poly_38</th>\n",
              "      <th>poly_4</th>\n",
              "      <th>poly_1</th>\n",
              "      <th>poly_2</th>\n",
              "      <th>poly_11</th>\n",
              "      <th>poly_21</th>\n",
              "      <th>poly_3</th>\n",
              "      <th>poly_30</th>\n",
              "      <th>poly_59</th>\n",
              "      <th>poly_50</th>\n",
              "      <th>poly_44</th>\n",
              "      <th>poly_55</th>\n",
              "      <th>poly_54</th>\n",
              "      <th>poly_49</th>\n",
              "      <th>poly_48</th>\n",
              "      <th>poly_20</th>\n",
              "      <th>poly_57</th>\n",
              "      <th>poly_58</th>\n",
              "      <th>poly_42</th>\n",
              "      <th>poly_18</th>\n",
              "      <th>poly_53</th>\n",
              "      <th>poly_43</th>\n",
              "      <th>poly_29</th>\n",
              "      <th>poly_37</th>\n",
              "      <th>poly_28</th>\n",
              "      <th>poly_27</th>\n",
              "      <th>poly_35</th>\n",
              "      <th>poly_19</th>\n",
              "      <th>poly_36</th>\n",
              "      <th>poly_9</th>\n",
              "      <th>poly_10</th>\n",
              "      <th>poly_65</th>\n",
              "      <th>poly_60</th>\n",
              "      <th>poly_63</th>\n",
              "      <th>poly_8</th>\n",
              "      <th>poly_64</th>\n",
              "      <th>poly_61</th>\n",
              "      <th>poly_62</th>\n",
              "      <th>poly_0</th>\n",
              "    </tr>\n",
              "  </thead>\n",
              "  <tbody>\n",
              "    <tr>\n",
              "      <th>0</th>\n",
              "      <td>0.010867</td>\n",
              "      <td>0.010712</td>\n",
              "      <td>0.048127</td>\n",
              "      <td>0.1035</td>\n",
              "      <td>0.037260</td>\n",
              "      <td>0.016456</td>\n",
              "      <td>0.046782</td>\n",
              "      <td>0.016695</td>\n",
              "      <td>0.057240</td>\n",
              "      <td>0.037800</td>\n",
              "      <td>0.102300</td>\n",
              "      <td>0.047460</td>\n",
              "      <td>0.1674</td>\n",
              "      <td>0.048825</td>\n",
              "      <td>0.022770</td>\n",
              "      <td>0.048400</td>\n",
              "      <td>0.079200</td>\n",
              "      <td>0.2200</td>\n",
              "      <td>0.023100</td>\n",
              "      <td>0.034980</td>\n",
              "      <td>0.073935</td>\n",
              "      <td>0.071868</td>\n",
              "      <td>0.099440</td>\n",
              "      <td>0.162720</td>\n",
              "      <td>0.210180</td>\n",
              "      <td>0.025281</td>\n",
              "      <td>0.1590</td>\n",
              "      <td>0.204304</td>\n",
              "      <td>0.4520</td>\n",
              "      <td>0.465</td>\n",
              "      <td>0.360</td>\n",
              "      <td>0.216225</td>\n",
              "      <td>0.129600</td>\n",
              "      <td>0.105</td>\n",
              "      <td>0.011025</td>\n",
              "      <td>0.000</td>\n",
              "      <td>0.0000</td>\n",
              "      <td>0.0000</td>\n",
              "      <td>0.0000</td>\n",
              "      <td>0.159</td>\n",
              "      <td>0.220</td>\n",
              "      <td>0.0</td>\n",
              "      <td>0.00</td>\n",
              "      <td>0.0</td>\n",
              "      <td>0.1035</td>\n",
              "      <td>0.0</td>\n",
              "      <td>0.0</td>\n",
              "      <td>0.0</td>\n",
              "      <td>0.452</td>\n",
              "      <td>0.000</td>\n",
              "      <td>0.000</td>\n",
              "      <td>0.36</td>\n",
              "      <td>0.0</td>\n",
              "      <td>0.0</td>\n",
              "      <td>0.465</td>\n",
              "      <td>0.105</td>\n",
              "      <td>1.0</td>\n",
              "      <td>0.0</td>\n",
              "      <td>0.0</td>\n",
              "      <td>0.0</td>\n",
              "      <td>1.0</td>\n",
              "      <td>0.0</td>\n",
              "      <td>0.0</td>\n",
              "      <td>0.0</td>\n",
              "      <td>0.0</td>\n",
              "      <td>1.0</td>\n",
              "    </tr>\n",
              "    <tr>\n",
              "      <th>1</th>\n",
              "      <td>0.059160</td>\n",
              "      <td>0.121104</td>\n",
              "      <td>0.219240</td>\n",
              "      <td>0.3480</td>\n",
              "      <td>0.177480</td>\n",
              "      <td>0.106662</td>\n",
              "      <td>0.413598</td>\n",
              "      <td>0.052105</td>\n",
              "      <td>0.156315</td>\n",
              "      <td>0.086700</td>\n",
              "      <td>0.309645</td>\n",
              "      <td>0.202045</td>\n",
              "      <td>0.3213</td>\n",
              "      <td>0.107100</td>\n",
              "      <td>0.171042</td>\n",
              "      <td>0.241572</td>\n",
              "      <td>0.250665</td>\n",
              "      <td>0.4915</td>\n",
              "      <td>0.083555</td>\n",
              "      <td>0.150645</td>\n",
              "      <td>0.193095</td>\n",
              "      <td>0.364275</td>\n",
              "      <td>0.584148</td>\n",
              "      <td>0.606135</td>\n",
              "      <td>0.748755</td>\n",
              "      <td>0.093942</td>\n",
              "      <td>0.3065</td>\n",
              "      <td>1.412532</td>\n",
              "      <td>1.1885</td>\n",
              "      <td>0.630</td>\n",
              "      <td>0.510</td>\n",
              "      <td>0.396900</td>\n",
              "      <td>0.260100</td>\n",
              "      <td>0.170</td>\n",
              "      <td>0.028900</td>\n",
              "      <td>0.348</td>\n",
              "      <td>0.4915</td>\n",
              "      <td>1.1885</td>\n",
              "      <td>0.3065</td>\n",
              "      <td>0.000</td>\n",
              "      <td>0.000</td>\n",
              "      <td>0.0</td>\n",
              "      <td>0.63</td>\n",
              "      <td>0.0</td>\n",
              "      <td>0.0000</td>\n",
              "      <td>0.0</td>\n",
              "      <td>0.0</td>\n",
              "      <td>0.0</td>\n",
              "      <td>0.000</td>\n",
              "      <td>0.510</td>\n",
              "      <td>0.170</td>\n",
              "      <td>0.00</td>\n",
              "      <td>0.0</td>\n",
              "      <td>0.0</td>\n",
              "      <td>0.000</td>\n",
              "      <td>0.000</td>\n",
              "      <td>0.0</td>\n",
              "      <td>1.0</td>\n",
              "      <td>1.0</td>\n",
              "      <td>0.0</td>\n",
              "      <td>0.0</td>\n",
              "      <td>0.0</td>\n",
              "      <td>0.0</td>\n",
              "      <td>0.0</td>\n",
              "      <td>0.0</td>\n",
              "      <td>1.0</td>\n",
              "    </tr>\n",
              "    <tr>\n",
              "      <th>2</th>\n",
              "      <td>0.029820</td>\n",
              "      <td>0.045369</td>\n",
              "      <td>0.115020</td>\n",
              "      <td>0.2130</td>\n",
              "      <td>0.092655</td>\n",
              "      <td>0.033973</td>\n",
              "      <td>0.156449</td>\n",
              "      <td>0.022330</td>\n",
              "      <td>0.069382</td>\n",
              "      <td>0.060900</td>\n",
              "      <td>0.178200</td>\n",
              "      <td>0.102830</td>\n",
              "      <td>0.2349</td>\n",
              "      <td>0.075600</td>\n",
              "      <td>0.070290</td>\n",
              "      <td>0.108900</td>\n",
              "      <td>0.143550</td>\n",
              "      <td>0.3300</td>\n",
              "      <td>0.046200</td>\n",
              "      <td>0.052635</td>\n",
              "      <td>0.086130</td>\n",
              "      <td>0.117153</td>\n",
              "      <td>0.242385</td>\n",
              "      <td>0.319507</td>\n",
              "      <td>0.396630</td>\n",
              "      <td>0.025440</td>\n",
              "      <td>0.1595</td>\n",
              "      <td>0.539490</td>\n",
              "      <td>0.7345</td>\n",
              "      <td>0.540</td>\n",
              "      <td>0.435</td>\n",
              "      <td>0.291600</td>\n",
              "      <td>0.189225</td>\n",
              "      <td>0.140</td>\n",
              "      <td>0.019600</td>\n",
              "      <td>0.213</td>\n",
              "      <td>0.3300</td>\n",
              "      <td>0.7345</td>\n",
              "      <td>0.1595</td>\n",
              "      <td>0.000</td>\n",
              "      <td>0.000</td>\n",
              "      <td>0.0</td>\n",
              "      <td>0.54</td>\n",
              "      <td>0.0</td>\n",
              "      <td>0.0000</td>\n",
              "      <td>0.0</td>\n",
              "      <td>0.0</td>\n",
              "      <td>0.0</td>\n",
              "      <td>0.000</td>\n",
              "      <td>0.435</td>\n",
              "      <td>0.140</td>\n",
              "      <td>0.00</td>\n",
              "      <td>0.0</td>\n",
              "      <td>0.0</td>\n",
              "      <td>0.000</td>\n",
              "      <td>0.000</td>\n",
              "      <td>0.0</td>\n",
              "      <td>1.0</td>\n",
              "      <td>1.0</td>\n",
              "      <td>0.0</td>\n",
              "      <td>0.0</td>\n",
              "      <td>0.0</td>\n",
              "      <td>0.0</td>\n",
              "      <td>0.0</td>\n",
              "      <td>0.0</td>\n",
              "      <td>1.0</td>\n",
              "    </tr>\n",
              "    <tr>\n",
              "      <th>3</th>\n",
              "      <td>0.009900</td>\n",
              "      <td>0.012100</td>\n",
              "      <td>0.044550</td>\n",
              "      <td>0.1100</td>\n",
              "      <td>0.033000</td>\n",
              "      <td>0.007370</td>\n",
              "      <td>0.029590</td>\n",
              "      <td>0.006030</td>\n",
              "      <td>0.020100</td>\n",
              "      <td>0.027000</td>\n",
              "      <td>0.041715</td>\n",
              "      <td>0.024210</td>\n",
              "      <td>0.1215</td>\n",
              "      <td>0.036450</td>\n",
              "      <td>0.011330</td>\n",
              "      <td>0.010609</td>\n",
              "      <td>0.030900</td>\n",
              "      <td>0.1030</td>\n",
              "      <td>0.009270</td>\n",
              "      <td>0.006901</td>\n",
              "      <td>0.027135</td>\n",
              "      <td>0.018023</td>\n",
              "      <td>0.027707</td>\n",
              "      <td>0.080700</td>\n",
              "      <td>0.108945</td>\n",
              "      <td>0.004489</td>\n",
              "      <td>0.0670</td>\n",
              "      <td>0.072361</td>\n",
              "      <td>0.2690</td>\n",
              "      <td>0.405</td>\n",
              "      <td>0.300</td>\n",
              "      <td>0.164025</td>\n",
              "      <td>0.090000</td>\n",
              "      <td>0.090</td>\n",
              "      <td>0.008100</td>\n",
              "      <td>0.000</td>\n",
              "      <td>0.0000</td>\n",
              "      <td>0.0000</td>\n",
              "      <td>0.0000</td>\n",
              "      <td>0.067</td>\n",
              "      <td>0.103</td>\n",
              "      <td>0.0</td>\n",
              "      <td>0.00</td>\n",
              "      <td>0.0</td>\n",
              "      <td>0.1100</td>\n",
              "      <td>0.0</td>\n",
              "      <td>0.0</td>\n",
              "      <td>0.0</td>\n",
              "      <td>0.269</td>\n",
              "      <td>0.000</td>\n",
              "      <td>0.000</td>\n",
              "      <td>0.30</td>\n",
              "      <td>0.0</td>\n",
              "      <td>0.0</td>\n",
              "      <td>0.405</td>\n",
              "      <td>0.090</td>\n",
              "      <td>1.0</td>\n",
              "      <td>0.0</td>\n",
              "      <td>0.0</td>\n",
              "      <td>0.0</td>\n",
              "      <td>1.0</td>\n",
              "      <td>0.0</td>\n",
              "      <td>0.0</td>\n",
              "      <td>0.0</td>\n",
              "      <td>0.0</td>\n",
              "      <td>1.0</td>\n",
              "    </tr>\n",
              "    <tr>\n",
              "      <th>4</th>\n",
              "      <td>0.066500</td>\n",
              "      <td>0.144400</td>\n",
              "      <td>0.228000</td>\n",
              "      <td>0.3800</td>\n",
              "      <td>0.184300</td>\n",
              "      <td>0.106970</td>\n",
              "      <td>0.481650</td>\n",
              "      <td>0.049262</td>\n",
              "      <td>0.136527</td>\n",
              "      <td>0.084875</td>\n",
              "      <td>0.299700</td>\n",
              "      <td>0.221812</td>\n",
              "      <td>0.2910</td>\n",
              "      <td>0.105000</td>\n",
              "      <td>0.189810</td>\n",
              "      <td>0.249500</td>\n",
              "      <td>0.242257</td>\n",
              "      <td>0.4995</td>\n",
              "      <td>0.087412</td>\n",
              "      <td>0.140609</td>\n",
              "      <td>0.168900</td>\n",
              "      <td>0.356801</td>\n",
              "      <td>0.633116</td>\n",
              "      <td>0.614738</td>\n",
              "      <td>0.760500</td>\n",
              "      <td>0.079242</td>\n",
              "      <td>0.2815</td>\n",
              "      <td>1.606556</td>\n",
              "      <td>1.2675</td>\n",
              "      <td>0.600</td>\n",
              "      <td>0.485</td>\n",
              "      <td>0.360000</td>\n",
              "      <td>0.235225</td>\n",
              "      <td>0.175</td>\n",
              "      <td>0.030625</td>\n",
              "      <td>0.380</td>\n",
              "      <td>0.4995</td>\n",
              "      <td>1.2675</td>\n",
              "      <td>0.2815</td>\n",
              "      <td>0.000</td>\n",
              "      <td>0.000</td>\n",
              "      <td>0.0</td>\n",
              "      <td>0.60</td>\n",
              "      <td>0.0</td>\n",
              "      <td>0.0000</td>\n",
              "      <td>0.0</td>\n",
              "      <td>0.0</td>\n",
              "      <td>0.0</td>\n",
              "      <td>0.000</td>\n",
              "      <td>0.485</td>\n",
              "      <td>0.175</td>\n",
              "      <td>0.00</td>\n",
              "      <td>0.0</td>\n",
              "      <td>0.0</td>\n",
              "      <td>0.000</td>\n",
              "      <td>0.000</td>\n",
              "      <td>0.0</td>\n",
              "      <td>1.0</td>\n",
              "      <td>1.0</td>\n",
              "      <td>0.0</td>\n",
              "      <td>0.0</td>\n",
              "      <td>0.0</td>\n",
              "      <td>0.0</td>\n",
              "      <td>0.0</td>\n",
              "      <td>0.0</td>\n",
              "      <td>1.0</td>\n",
              "    </tr>\n",
              "  </tbody>\n",
              "</table>\n",
              "</div>"
            ],
            "text/plain": [
              "    poly_34   poly_56   poly_17  poly_7  ...  poly_64  poly_61  poly_62  poly_0\n",
              "0  0.010867  0.010712  0.048127  0.1035  ...      0.0      0.0      0.0     1.0\n",
              "1  0.059160  0.121104  0.219240  0.3480  ...      0.0      0.0      0.0     1.0\n",
              "2  0.029820  0.045369  0.115020  0.2130  ...      0.0      0.0      0.0     1.0\n",
              "3  0.009900  0.012100  0.044550  0.1100  ...      0.0      0.0      0.0     1.0\n",
              "4  0.066500  0.144400  0.228000  0.3800  ...      0.0      0.0      0.0     1.0\n",
              "\n",
              "[5 rows x 66 columns]"
            ]
          },
          "metadata": {
            "tags": []
          },
          "execution_count": 26
        }
      ]
    },
    {
      "cell_type": "code",
      "metadata": {
        "id": "smrmIqizxddP",
        "colab_type": "code",
        "colab": {
          "base_uri": "https://localhost:8080/",
          "height": 1000
        },
        "outputId": "0b0e52d0-fd50-48f8-9c23-2ed621f5ccc9"
      },
      "source": [
        "# Постройте график зависимости R2 гребневой регрессии от количества задействованных полиномиальных признаков\n",
        "# добавляйте признаки в порядке убывания значимости\n",
        "\n",
        "model = Pipeline([('poly', PolynomialFeatures(degree=2)),\n",
        "                  ('ridge', Ridge())])\n",
        "\n",
        "i = 1\n",
        "q_feat = np.arange(1, 67)\n",
        "r2_list = []\n",
        "\n",
        "while i <= len(new_features):\n",
        "  for q in q_feat:\n",
        "    model.fit(X_train_poly.iloc[:, :i], y_train)\n",
        "    y_pred = model.predict(X_test_poly.iloc[:, :i])\n",
        "    r2 = r2_score(y_test, y_pred)\n",
        "    r2_list.append(r2)\n",
        "\n",
        "    print('Количество признаков:', q)\n",
        "    print('r2_score:', r2)\n",
        "    print()\n",
        "    i += 1"
      ],
      "execution_count": null,
      "outputs": [
        {
          "output_type": "stream",
          "text": [
            "Количество признаков: 1\n",
            "r2_score: 0.29615801335341707\n",
            "\n",
            "Количество признаков: 2\n",
            "r2_score: 0.2992620523751143\n",
            "\n",
            "Количество признаков: 3\n",
            "r2_score: 0.32715735182219685\n",
            "\n",
            "Количество признаков: 4\n",
            "r2_score: 0.3943219178595575\n",
            "\n",
            "Количество признаков: 5\n",
            "r2_score: 0.39763762085542775\n",
            "\n",
            "Количество признаков: 6\n",
            "r2_score: 0.4081003080662118\n",
            "\n",
            "Количество признаков: 7\n",
            "r2_score: 0.42044887300842515\n",
            "\n",
            "Количество признаков: 8\n",
            "r2_score: 0.42042624996662026\n",
            "\n",
            "Количество признаков: 9\n",
            "r2_score: 0.42173045292559996\n",
            "\n",
            "Количество признаков: 10\n",
            "r2_score: 0.422373640662403\n",
            "\n",
            "Количество признаков: 11\n",
            "r2_score: 0.478774246017005\n",
            "\n",
            "Количество признаков: 12\n",
            "r2_score: 0.4819386333554124\n",
            "\n",
            "Количество признаков: 13\n",
            "r2_score: 0.48574200735565\n",
            "\n",
            "Количество признаков: 14\n",
            "r2_score: 0.4863889351381956\n",
            "\n",
            "Количество признаков: 15\n",
            "r2_score: 0.4900649965687438\n",
            "\n",
            "Количество признаков: 16\n",
            "r2_score: 0.49561170079238315\n",
            "\n",
            "Количество признаков: 17\n",
            "r2_score: 0.4968133438005664\n",
            "\n",
            "Количество признаков: 18\n",
            "r2_score: 0.5000899384428008\n",
            "\n",
            "Количество признаков: 19\n",
            "r2_score: 0.5004651398438631\n",
            "\n",
            "Количество признаков: 20\n",
            "r2_score: 0.5001501167231157\n",
            "\n",
            "Количество признаков: 21\n",
            "r2_score: 0.5004808879593441\n",
            "\n",
            "Количество признаков: 22\n",
            "r2_score: 0.49858700688205415\n",
            "\n",
            "Количество признаков: 23\n",
            "r2_score: 0.4999093725067245\n",
            "\n",
            "Количество признаков: 24\n",
            "r2_score: 0.5087289884359607\n",
            "\n",
            "Количество признаков: 25\n",
            "r2_score: 0.513033183067619\n",
            "\n",
            "Количество признаков: 26\n",
            "r2_score: 0.512891632630184\n",
            "\n",
            "Количество признаков: 27\n",
            "r2_score: 0.5133253607692629\n",
            "\n",
            "Количество признаков: 28\n",
            "r2_score: 0.5164655613348068\n",
            "\n",
            "Количество признаков: 29\n",
            "r2_score: 0.5287480166443381\n",
            "\n",
            "Количество признаков: 30\n",
            "r2_score: 0.5311711585285762\n",
            "\n",
            "Количество признаков: 31\n",
            "r2_score: 0.5330317416934242\n",
            "\n",
            "Количество признаков: 32\n",
            "r2_score: 0.5336754707286644\n",
            "\n",
            "Количество признаков: 33\n",
            "r2_score: 0.5338013295731441\n",
            "\n",
            "Количество признаков: 34\n",
            "r2_score: 0.535236342952061\n",
            "\n",
            "Количество признаков: 35\n",
            "r2_score: 0.5356190660872283\n",
            "\n",
            "Количество признаков: 36\n",
            "r2_score: 0.5327329240711741\n",
            "\n",
            "Количество признаков: 37\n",
            "r2_score: 0.5318238266493778\n",
            "\n",
            "Количество признаков: 38\n",
            "r2_score: 0.5315299689192403\n",
            "\n",
            "Количество признаков: 39\n",
            "r2_score: 0.5314500020460939\n",
            "\n",
            "Количество признаков: 40\n",
            "r2_score: 0.5314315582846696\n",
            "\n",
            "Количество признаков: 41\n",
            "r2_score: 0.5323461064832784\n",
            "\n",
            "Количество признаков: 42\n",
            "r2_score: 0.5349739943042711\n",
            "\n",
            "Количество признаков: 43\n",
            "r2_score: 0.5357221306653284\n",
            "\n",
            "Количество признаков: 44\n",
            "r2_score: 0.5368279746112148\n",
            "\n",
            "Количество признаков: 45\n",
            "r2_score: 0.5364436018778495\n",
            "\n",
            "Количество признаков: 46\n",
            "r2_score: 0.5409193005889334\n",
            "\n",
            "Количество признаков: 47\n",
            "r2_score: 0.5422585042998597\n",
            "\n",
            "Количество признаков: 48\n",
            "r2_score: 0.542723493326865\n",
            "\n",
            "Количество признаков: 49\n",
            "r2_score: 0.5446734218872895\n",
            "\n",
            "Количество признаков: 50\n",
            "r2_score: 0.5446261869102991\n",
            "\n",
            "Количество признаков: 51\n",
            "r2_score: 0.5445554754351771\n",
            "\n",
            "Количество признаков: 52\n",
            "r2_score: 0.5447125489384195\n",
            "\n",
            "Количество признаков: 53\n",
            "r2_score: 0.544820389130137\n",
            "\n",
            "Количество признаков: 54\n",
            "r2_score: 0.544897946324194\n",
            "\n",
            "Количество признаков: 55\n",
            "r2_score: 0.5452417634495275\n",
            "\n",
            "Количество признаков: 56\n",
            "r2_score: 0.5455657974347562\n",
            "\n",
            "Количество признаков: 57\n",
            "r2_score: 0.5456826312002372\n",
            "\n",
            "Количество признаков: 58\n",
            "r2_score: 0.5463462911584795\n",
            "\n",
            "Количество признаков: 59\n",
            "r2_score: 0.5466757837404973\n",
            "\n",
            "Количество признаков: 60\n",
            "r2_score: 0.5483841259248747\n",
            "\n",
            "Количество признаков: 61\n",
            "r2_score: 0.5491020335371235\n",
            "\n",
            "Количество признаков: 62\n",
            "r2_score: 0.5501027785918567\n",
            "\n",
            "Количество признаков: 63\n",
            "r2_score: 0.550102778591859\n",
            "\n",
            "Количество признаков: 64\n",
            "r2_score: 0.5501027785918533\n",
            "\n",
            "Количество признаков: 65\n",
            "r2_score: 0.5501027785918575\n",
            "\n",
            "Количество признаков: 66\n",
            "r2_score: 0.5525492036526454\n",
            "\n"
          ],
          "name": "stdout"
        }
      ]
    },
    {
      "cell_type": "code",
      "metadata": {
        "id": "w5NYXaMJ1FI0",
        "colab_type": "code",
        "colab": {
          "base_uri": "https://localhost:8080/",
          "height": 431
        },
        "outputId": "97c435c9-8f97-4026-fb09-6d2b5458759b"
      },
      "source": [
        "plt.figure(figsize=(12, 7))\n",
        "sns.lineplot(x=q_feat, y=r2_list);"
      ],
      "execution_count": null,
      "outputs": [
        {
          "output_type": "display_data",
          "data": {
            "image/png": "[encoded data removed]",
            "text/plain": [
              "<Figure size 864x504 with 1 Axes>"
            ]
          },
          "metadata": {
            "tags": []
          }
        }
      ]
    }
  ]
}