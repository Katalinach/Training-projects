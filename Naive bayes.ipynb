{
  "nbformat": 4,
  "nbformat_minor": 0,
  "metadata": {
    "kernelspec": {
      "display_name": "Python 3",
      "language": "python",
      "name": "python3"
    },
    "language_info": {
      "codemirror_mode": {
        "name": "ipython",
        "version": 3
      },
      "file_extension": ".py",
      "mimetype": "text/x-python",
      "name": "python",
      "nbconvert_exporter": "python",
      "pygments_lexer": "ipython3",
      "version": "3.6.9"
    },
    "colab": {
      "name": "Naive_bayes.ipynb",
      "provenance": [],
      "collapsed_sections": []
    }
  },
  "cells": [
    {
      "cell_type": "code",
      "metadata": {
        "id": "JjoncmQD14sB",
        "colab_type": "code",
        "colab": {}
      },
      "source": [
        "%matplotlib inline\n",
        "\n",
        "import matplotlib.pyplot as plt\n",
        "import numpy as np\n",
        "import pandas as pd\n",
        "import seaborn as sns\n",
        "from sklearn.compose import ColumnTransformer\n",
        "from sklearn.linear_model import LogisticRegression\n",
        "from sklearn.preprocessing import StandardScaler, MinMaxScaler\n",
        "from sklearn.metrics import accuracy_score\n",
        "from sklearn.model_selection import GridSearchCV\n",
        "from sklearn.naive_bayes import CategoricalNB, MultinomialNB, \\\n",
        "    GaussianNB, BernoulliNB\n",
        "from sklearn.svm import SVC, LinearSVC\n",
        "from sklearn.preprocessing import FunctionTransformer, LabelEncoder, \\\n",
        "    KBinsDiscretizer, OrdinalEncoder\n",
        "\n",
        "import warnings\n",
        "from warnings import filterwarnings\n",
        "filterwarnings('ignore')"
      ],
      "execution_count": null,
      "outputs": []
    },
    {
      "cell_type": "markdown",
      "metadata": {
        "id": "OnUCF9aX14sW",
        "colab_type": "text"
      },
      "source": [
        "Примените к датасету [Heart](https://archive.ics.uci.edu/ml/datasets/Statlog+%28Heart%29) наивный байесовский классификатор.\n",
        "\n",
        "Выберите подходящую модель из библиотеки Scikit-learn:\n",
        "- класс $GaussianNB$ для признаков, распределенных по Гауссу;\n",
        "- класс $MultinomialNB$ для признаков, подчиняющихся мультиномиальному распределению;\n",
        "- класс $BernoulliNB$, который рассматривает каждый признак, как распределенный по Бернулли;\n",
        "- класс $CategoricalNB$ для классических категориальных признаков.\n",
        "\n",
        "Используйте 2 способа комбинирования категориальных и числовых признаков:\n",
        "- дискретизация числовых признаков;\n",
        "- объединенеие гауссовского классификатора для числовых признаков с дискретной моделью для категориальных признаков."
      ]
    },
    {
      "cell_type": "code",
      "metadata": {
        "id": "GpVgglQp14sX",
        "colab_type": "code",
        "colab": {}
      },
      "source": [
        "train_url = 'https://raw.githubusercontent.com/Katalinach/ML-Datasets/master/Heart_train.csv?token=ANTWLABAMF7IYZLCX5U6KCC7GRUPW'\n",
        "train_df = pd.read_csv(train_url)"
      ],
      "execution_count": null,
      "outputs": []
    },
    {
      "cell_type": "code",
      "metadata": {
        "id": "vyV73wzD14sa",
        "colab_type": "code",
        "colab": {}
      },
      "source": [
        "test_url = 'https://raw.githubusercontent.com/Katalinach/ML-Datasets/master/Heart_test.csv?token=ANTWLAAVUKT3CL7CZHF3NHS7GRUSQ'\n",
        "test_df = pd.read_csv(test_url)"
      ],
      "execution_count": null,
      "outputs": []
    },
    {
      "cell_type": "code",
      "metadata": {
        "id": "R1QwoVz5lKDM",
        "colab_type": "code",
        "colab": {
          "base_uri": "https://localhost:8080/",
          "height": 53
        },
        "outputId": "7bec0ffe-4afe-4f4d-a7b9-0f550db0a02f"
      },
      "source": [
        "print(train_df.shape)\n",
        "print(test_df.shape)"
      ],
      "execution_count": null,
      "outputs": [
        {
          "output_type": "stream",
          "text": [
            "(180, 14)\n",
            "(90, 14)\n"
          ],
          "name": "stdout"
        }
      ]
    },
    {
      "cell_type": "code",
      "metadata": {
        "id": "F4Nkh2Uu6g29",
        "colab_type": "code",
        "colab": {}
      },
      "source": [
        "# возьмем датасет целиком\n",
        "\n",
        "test_size = train_df.shape[0]\n",
        "df_heart = pd.concat([train_df, test_df], axis=0)"
      ],
      "execution_count": null,
      "outputs": []
    },
    {
      "cell_type": "code",
      "metadata": {
        "id": "7syxdtHM53cW",
        "colab_type": "code",
        "colab": {
          "base_uri": "https://localhost:8080/",
          "height": 206
        },
        "outputId": "d326cce9-10dc-4e01-c1df-e12f04ba627a"
      },
      "source": [
        "df_heart.head()"
      ],
      "execution_count": null,
      "outputs": [
        {
          "output_type": "execute_result",
          "data": {
            "text/html": [
              "<div>\n",
              "<style scoped>\n",
              "    .dataframe tbody tr th:only-of-type {\n",
              "        vertical-align: middle;\n",
              "    }\n",
              "\n",
              "    .dataframe tbody tr th {\n",
              "        vertical-align: top;\n",
              "    }\n",
              "\n",
              "    .dataframe thead th {\n",
              "        text-align: right;\n",
              "    }\n",
              "</style>\n",
              "<table border=\"1\" class=\"dataframe\">\n",
              "  <thead>\n",
              "    <tr style=\"text-align: right;\">\n",
              "      <th></th>\n",
              "      <th>age</th>\n",
              "      <th>sex</th>\n",
              "      <th>pain type</th>\n",
              "      <th>blood pressure</th>\n",
              "      <th>cholestoral</th>\n",
              "      <th>blood sugar</th>\n",
              "      <th>ecg</th>\n",
              "      <th>heart rate</th>\n",
              "      <th>angina</th>\n",
              "      <th>oldpeak</th>\n",
              "      <th>slope</th>\n",
              "      <th>flourosopy</th>\n",
              "      <th>thal</th>\n",
              "      <th>class</th>\n",
              "    </tr>\n",
              "  </thead>\n",
              "  <tbody>\n",
              "    <tr>\n",
              "      <th>0</th>\n",
              "      <td>64.0</td>\n",
              "      <td>1</td>\n",
              "      <td>1</td>\n",
              "      <td>110.0</td>\n",
              "      <td>211.0</td>\n",
              "      <td>0</td>\n",
              "      <td>2</td>\n",
              "      <td>144.0</td>\n",
              "      <td>1</td>\n",
              "      <td>1.8</td>\n",
              "      <td>2</td>\n",
              "      <td>0.0</td>\n",
              "      <td>3</td>\n",
              "      <td>1</td>\n",
              "    </tr>\n",
              "    <tr>\n",
              "      <th>1</th>\n",
              "      <td>57.0</td>\n",
              "      <td>1</td>\n",
              "      <td>4</td>\n",
              "      <td>150.0</td>\n",
              "      <td>276.0</td>\n",
              "      <td>0</td>\n",
              "      <td>2</td>\n",
              "      <td>112.0</td>\n",
              "      <td>1</td>\n",
              "      <td>0.6</td>\n",
              "      <td>2</td>\n",
              "      <td>1.0</td>\n",
              "      <td>6</td>\n",
              "      <td>2</td>\n",
              "    </tr>\n",
              "    <tr>\n",
              "      <th>2</th>\n",
              "      <td>57.0</td>\n",
              "      <td>1</td>\n",
              "      <td>3</td>\n",
              "      <td>128.0</td>\n",
              "      <td>229.0</td>\n",
              "      <td>0</td>\n",
              "      <td>2</td>\n",
              "      <td>150.0</td>\n",
              "      <td>0</td>\n",
              "      <td>0.4</td>\n",
              "      <td>2</td>\n",
              "      <td>1.0</td>\n",
              "      <td>7</td>\n",
              "      <td>2</td>\n",
              "    </tr>\n",
              "    <tr>\n",
              "      <th>3</th>\n",
              "      <td>55.0</td>\n",
              "      <td>0</td>\n",
              "      <td>4</td>\n",
              "      <td>180.0</td>\n",
              "      <td>327.0</td>\n",
              "      <td>0</td>\n",
              "      <td>1</td>\n",
              "      <td>117.0</td>\n",
              "      <td>1</td>\n",
              "      <td>3.4</td>\n",
              "      <td>2</td>\n",
              "      <td>0.0</td>\n",
              "      <td>3</td>\n",
              "      <td>2</td>\n",
              "    </tr>\n",
              "    <tr>\n",
              "      <th>4</th>\n",
              "      <td>44.0</td>\n",
              "      <td>0</td>\n",
              "      <td>3</td>\n",
              "      <td>118.0</td>\n",
              "      <td>242.0</td>\n",
              "      <td>0</td>\n",
              "      <td>0</td>\n",
              "      <td>149.0</td>\n",
              "      <td>0</td>\n",
              "      <td>0.3</td>\n",
              "      <td>2</td>\n",
              "      <td>1.0</td>\n",
              "      <td>3</td>\n",
              "      <td>1</td>\n",
              "    </tr>\n",
              "  </tbody>\n",
              "</table>\n",
              "</div>"
            ],
            "text/plain": [
              "    age  sex  pain type  blood pressure  ...  slope  flourosopy  thal  class\n",
              "0  64.0    1          1           110.0  ...      2         0.0     3      1\n",
              "1  57.0    1          4           150.0  ...      2         1.0     6      2\n",
              "2  57.0    1          3           128.0  ...      2         1.0     7      2\n",
              "3  55.0    0          4           180.0  ...      2         0.0     3      2\n",
              "4  44.0    0          3           118.0  ...      2         1.0     3      1\n",
              "\n",
              "[5 rows x 14 columns]"
            ]
          },
          "metadata": {
            "tags": []
          },
          "execution_count": 6
        }
      ]
    },
    {
      "cell_type": "code",
      "metadata": {
        "id": "-oIFth__57e8",
        "colab_type": "code",
        "colab": {
          "base_uri": "https://localhost:8080/",
          "height": 399
        },
        "outputId": "b09057db-9709-4974-8745-46db55f15d28"
      },
      "source": [
        "df_heart.info()"
      ],
      "execution_count": null,
      "outputs": [
        {
          "output_type": "stream",
          "text": [
            "<class 'pandas.core.frame.DataFrame'>\n",
            "Int64Index: 270 entries, 0 to 89\n",
            "Data columns (total 14 columns):\n",
            " #   Column          Non-Null Count  Dtype  \n",
            "---  ------          --------------  -----  \n",
            " 0   age             270 non-null    float64\n",
            " 1   sex             270 non-null    int64  \n",
            " 2   pain type       270 non-null    int64  \n",
            " 3   blood pressure  270 non-null    float64\n",
            " 4   cholestoral     270 non-null    float64\n",
            " 5   blood sugar     270 non-null    int64  \n",
            " 6   ecg             270 non-null    int64  \n",
            " 7   heart rate      270 non-null    float64\n",
            " 8   angina          270 non-null    int64  \n",
            " 9   oldpeak         270 non-null    float64\n",
            " 10  slope           270 non-null    int64  \n",
            " 11  flourosopy      270 non-null    float64\n",
            " 12  thal            270 non-null    int64  \n",
            " 13  class           270 non-null    int64  \n",
            "dtypes: float64(6), int64(8)\n",
            "memory usage: 31.6 KB\n"
          ],
          "name": "stdout"
        }
      ]
    },
    {
      "cell_type": "code",
      "metadata": {
        "id": "e2XSWX_58fFk",
        "colab_type": "code",
        "colab": {
          "base_uri": "https://localhost:8080/",
          "height": 290
        },
        "outputId": "e9910777-43a4-4e1d-f020-7fdbec6fad17"
      },
      "source": [
        "df_heart.isnull().sum()"
      ],
      "execution_count": null,
      "outputs": [
        {
          "output_type": "execute_result",
          "data": {
            "text/plain": [
              "age               0\n",
              "sex               0\n",
              "pain type         0\n",
              "blood pressure    0\n",
              "cholestoral       0\n",
              "blood sugar       0\n",
              "ecg               0\n",
              "heart rate        0\n",
              "angina            0\n",
              "oldpeak           0\n",
              "slope             0\n",
              "flourosopy        0\n",
              "thal              0\n",
              "class             0\n",
              "dtype: int64"
            ]
          },
          "metadata": {
            "tags": []
          },
          "execution_count": 8
        }
      ]
    },
    {
      "cell_type": "code",
      "metadata": {
        "id": "nXDGot2b14se",
        "colab_type": "code",
        "colab": {}
      },
      "source": [
        "categorical_indices = [1, 2, 5, 6, 8, 10, 11, 12]\n",
        "numerical_indices = [0, 3, 4, 7, 9]"
      ],
      "execution_count": null,
      "outputs": []
    },
    {
      "cell_type": "code",
      "metadata": {
        "id": "fy2b2Phg14sh",
        "colab_type": "code",
        "colab": {
          "base_uri": "https://localhost:8080/",
          "height": 50
        },
        "outputId": "b95cdbb5-3ff6-41d0-9cdc-ef74eb7c26d0"
      },
      "source": [
        "numerical = []\n",
        "for i in numerical_indices:\n",
        "    numerical.append(train_df.columns[i])\n",
        "\n",
        "categorical = []\n",
        "for i in categorical_indices:\n",
        "    categorical.append(train_df.columns[i])\n",
        "\n",
        "print(numerical)\n",
        "print(categorical)"
      ],
      "execution_count": null,
      "outputs": [
        {
          "output_type": "stream",
          "text": [
            "['age', 'blood pressure', 'cholestoral', 'heart rate', 'oldpeak']\n",
            "['sex', 'pain type', 'blood sugar', 'ecg', 'angina', 'slope', 'flourosopy', 'thal']\n"
          ],
          "name": "stdout"
        }
      ]
    },
    {
      "cell_type": "code",
      "metadata": {
        "colab_type": "code",
        "id": "IggdjP5-Yux4",
        "colab": {
          "base_uri": "https://localhost:8080/",
          "height": 513
        },
        "outputId": "5104fab6-f809-49e2-e9f3-28b801d36d5e"
      },
      "source": [
        "# посмотрим на распределение категориальных и числовых признаков\n",
        "\n",
        "nr_rows = 2\n",
        "nr_cols = 4\n",
        "\n",
        "fig, axs = plt.subplots(nr_rows, nr_cols, figsize=(14,7))\n",
        "\n",
        "for r in range(0,nr_rows):\n",
        "    for c in range(0,nr_cols):\n",
        "        i = r*nr_cols+c       \n",
        "        ax = axs[r][c]\n",
        "        sns.countplot(df_heart[categorical[i]], ax=ax)\n",
        "        ax.set_title(categorical[i], fontsize=14, fontweight='bold')\n",
        "        \n",
        "plt.tight_layout()"
      ],
      "execution_count": null,
      "outputs": [
        {
          "output_type": "display_data",
          "data": {
            "image/png": "[encoded data removed]",
            "text/plain": [
              "<Figure size 1008x504 with 8 Axes>"
            ]
          },
          "metadata": {
            "tags": []
          }
        }
      ]
    },
    {
      "cell_type": "code",
      "metadata": {
        "id": "hkCourfknh2k",
        "colab_type": "code",
        "colab": {
          "base_uri": "https://localhost:8080/",
          "height": 513
        },
        "outputId": "177b5374-4518-49a4-e3b4-45b4dc445851"
      },
      "source": [
        "plt.figure(figsize=(12,7))\n",
        "\n",
        "plt.subplot(2, 3, 1), sns.distplot(df_heart['age']), plt.title ('age', fontsize=14, fontweight='bold')\n",
        "plt.subplot(2, 3, 2), sns.distplot(df_heart['blood pressure']), plt.title ('blood pressure', fontsize=14, fontweight='bold')\n",
        "plt.subplot(2, 3, 3), sns.distplot(df_heart['cholestoral']), plt.title ('cholestoral', fontsize=14, fontweight='bold')\n",
        "plt.subplot(2, 3, 4), sns.distplot(df_heart['heart rate']), plt.title ('heart rate', fontsize=14, fontweight='bold')\n",
        "plt.subplot(2, 3, 5), sns.distplot(df_heart['oldpeak']), plt.title ('oldpeak', fontsize=14, fontweight='bold')\n",
        "\n",
        "plt.tight_layout()"
      ],
      "execution_count": null,
      "outputs": [
        {
          "output_type": "display_data",
          "data": {
            "image/png": "[encoded data removed]",
            "text/plain": [
              "<Figure size 864x504 with 5 Axes>"
            ]
          },
          "metadata": {
            "tags": []
          }
        }
      ]
    },
    {
      "cell_type": "code",
      "metadata": {
        "id": "leEvN6XR8wd1",
        "colab_type": "code",
        "colab": {
          "base_uri": "https://localhost:8080/",
          "height": 195
        },
        "outputId": "a094b43b-cb19-479c-adc9-cc41b0457b69"
      },
      "source": [
        "# заменим числовые признаки на дискретные\n",
        "\n",
        "est = KBinsDiscretizer(n_bins=4, encode='ordinal', strategy='uniform')\n",
        "\n",
        "X_est_train = est.fit_transform(train_df[numerical])\n",
        "X_est_test = est.transform(test_df[numerical])\n",
        "X_est_train = pd.DataFrame(X_est_train, columns=numerical)\n",
        "X_est_test = pd.DataFrame(X_est_test, columns=numerical)\n",
        "\n",
        "X_est = pd.concat([X_est_train, X_est_test], axis=0)\n",
        "\n",
        "X_est.head()"
      ],
      "execution_count": null,
      "outputs": [
        {
          "output_type": "execute_result",
          "data": {
            "text/html": [
              "<div>\n",
              "<style scoped>\n",
              "    .dataframe tbody tr th:only-of-type {\n",
              "        vertical-align: middle;\n",
              "    }\n",
              "\n",
              "    .dataframe tbody tr th {\n",
              "        vertical-align: top;\n",
              "    }\n",
              "\n",
              "    .dataframe thead th {\n",
              "        text-align: right;\n",
              "    }\n",
              "</style>\n",
              "<table border=\"1\" class=\"dataframe\">\n",
              "  <thead>\n",
              "    <tr style=\"text-align: right;\">\n",
              "      <th></th>\n",
              "      <th>age</th>\n",
              "      <th>blood pressure</th>\n",
              "      <th>cholestoral</th>\n",
              "      <th>heart rate</th>\n",
              "      <th>oldpeak</th>\n",
              "    </tr>\n",
              "  </thead>\n",
              "  <tbody>\n",
              "    <tr>\n",
              "      <th>0</th>\n",
              "      <td>2.0</td>\n",
              "      <td>0.0</td>\n",
              "      <td>0.0</td>\n",
              "      <td>2.0</td>\n",
              "      <td>1.0</td>\n",
              "    </tr>\n",
              "    <tr>\n",
              "      <th>1</th>\n",
              "      <td>2.0</td>\n",
              "      <td>2.0</td>\n",
              "      <td>1.0</td>\n",
              "      <td>1.0</td>\n",
              "      <td>0.0</td>\n",
              "    </tr>\n",
              "    <tr>\n",
              "      <th>2</th>\n",
              "      <td>2.0</td>\n",
              "      <td>1.0</td>\n",
              "      <td>0.0</td>\n",
              "      <td>2.0</td>\n",
              "      <td>0.0</td>\n",
              "    </tr>\n",
              "    <tr>\n",
              "      <th>3</th>\n",
              "      <td>1.0</td>\n",
              "      <td>3.0</td>\n",
              "      <td>1.0</td>\n",
              "      <td>1.0</td>\n",
              "      <td>2.0</td>\n",
              "    </tr>\n",
              "    <tr>\n",
              "      <th>4</th>\n",
              "      <td>0.0</td>\n",
              "      <td>0.0</td>\n",
              "      <td>1.0</td>\n",
              "      <td>2.0</td>\n",
              "      <td>0.0</td>\n",
              "    </tr>\n",
              "  </tbody>\n",
              "</table>\n",
              "</div>"
            ],
            "text/plain": [
              "   age  blood pressure  cholestoral  heart rate  oldpeak\n",
              "0  2.0             0.0          0.0         2.0      1.0\n",
              "1  2.0             2.0          1.0         1.0      0.0\n",
              "2  2.0             1.0          0.0         2.0      0.0\n",
              "3  1.0             3.0          1.0         1.0      2.0\n",
              "4  0.0             0.0          1.0         2.0      0.0"
            ]
          },
          "metadata": {
            "tags": []
          },
          "execution_count": 143
        }
      ]
    },
    {
      "cell_type": "code",
      "metadata": {
        "id": "rExEGkkaGdfD",
        "colab_type": "code",
        "colab": {
          "base_uri": "https://localhost:8080/",
          "height": 195
        },
        "outputId": "1a4d8509-f175-4857-f5fd-67b0a7ec0519"
      },
      "source": [
        "# объединим их с остальными признаками и целевым классом\n",
        "\n",
        "df_est = pd.concat([X_est, df_heart.drop(numerical, axis=1)], axis=1)\n",
        "\n",
        "df_est.head()"
      ],
      "execution_count": null,
      "outputs": [
        {
          "output_type": "execute_result",
          "data": {
            "text/html": [
              "<div>\n",
              "<style scoped>\n",
              "    .dataframe tbody tr th:only-of-type {\n",
              "        vertical-align: middle;\n",
              "    }\n",
              "\n",
              "    .dataframe tbody tr th {\n",
              "        vertical-align: top;\n",
              "    }\n",
              "\n",
              "    .dataframe thead th {\n",
              "        text-align: right;\n",
              "    }\n",
              "</style>\n",
              "<table border=\"1\" class=\"dataframe\">\n",
              "  <thead>\n",
              "    <tr style=\"text-align: right;\">\n",
              "      <th></th>\n",
              "      <th>age</th>\n",
              "      <th>blood pressure</th>\n",
              "      <th>cholestoral</th>\n",
              "      <th>heart rate</th>\n",
              "      <th>oldpeak</th>\n",
              "      <th>sex</th>\n",
              "      <th>pain type</th>\n",
              "      <th>blood sugar</th>\n",
              "      <th>ecg</th>\n",
              "      <th>angina</th>\n",
              "      <th>slope</th>\n",
              "      <th>flourosopy</th>\n",
              "      <th>thal</th>\n",
              "      <th>class</th>\n",
              "    </tr>\n",
              "  </thead>\n",
              "  <tbody>\n",
              "    <tr>\n",
              "      <th>0</th>\n",
              "      <td>2.0</td>\n",
              "      <td>0.0</td>\n",
              "      <td>0.0</td>\n",
              "      <td>2.0</td>\n",
              "      <td>1.0</td>\n",
              "      <td>1</td>\n",
              "      <td>1</td>\n",
              "      <td>0</td>\n",
              "      <td>2</td>\n",
              "      <td>1</td>\n",
              "      <td>2</td>\n",
              "      <td>0.0</td>\n",
              "      <td>3</td>\n",
              "      <td>1</td>\n",
              "    </tr>\n",
              "    <tr>\n",
              "      <th>1</th>\n",
              "      <td>2.0</td>\n",
              "      <td>2.0</td>\n",
              "      <td>1.0</td>\n",
              "      <td>1.0</td>\n",
              "      <td>0.0</td>\n",
              "      <td>1</td>\n",
              "      <td>4</td>\n",
              "      <td>0</td>\n",
              "      <td>2</td>\n",
              "      <td>1</td>\n",
              "      <td>2</td>\n",
              "      <td>1.0</td>\n",
              "      <td>6</td>\n",
              "      <td>2</td>\n",
              "    </tr>\n",
              "    <tr>\n",
              "      <th>2</th>\n",
              "      <td>2.0</td>\n",
              "      <td>1.0</td>\n",
              "      <td>0.0</td>\n",
              "      <td>2.0</td>\n",
              "      <td>0.0</td>\n",
              "      <td>1</td>\n",
              "      <td>3</td>\n",
              "      <td>0</td>\n",
              "      <td>2</td>\n",
              "      <td>0</td>\n",
              "      <td>2</td>\n",
              "      <td>1.0</td>\n",
              "      <td>7</td>\n",
              "      <td>2</td>\n",
              "    </tr>\n",
              "    <tr>\n",
              "      <th>3</th>\n",
              "      <td>1.0</td>\n",
              "      <td>3.0</td>\n",
              "      <td>1.0</td>\n",
              "      <td>1.0</td>\n",
              "      <td>2.0</td>\n",
              "      <td>0</td>\n",
              "      <td>4</td>\n",
              "      <td>0</td>\n",
              "      <td>1</td>\n",
              "      <td>1</td>\n",
              "      <td>2</td>\n",
              "      <td>0.0</td>\n",
              "      <td>3</td>\n",
              "      <td>2</td>\n",
              "    </tr>\n",
              "    <tr>\n",
              "      <th>4</th>\n",
              "      <td>0.0</td>\n",
              "      <td>0.0</td>\n",
              "      <td>1.0</td>\n",
              "      <td>2.0</td>\n",
              "      <td>0.0</td>\n",
              "      <td>0</td>\n",
              "      <td>3</td>\n",
              "      <td>0</td>\n",
              "      <td>0</td>\n",
              "      <td>0</td>\n",
              "      <td>2</td>\n",
              "      <td>1.0</td>\n",
              "      <td>3</td>\n",
              "      <td>1</td>\n",
              "    </tr>\n",
              "  </tbody>\n",
              "</table>\n",
              "</div>"
            ],
            "text/plain": [
              "   age  blood pressure  cholestoral  heart rate  ...  slope  flourosopy  thal  class\n",
              "0  2.0             0.0          0.0         2.0  ...      2         0.0     3      1\n",
              "1  2.0             2.0          1.0         1.0  ...      2         1.0     6      2\n",
              "2  2.0             1.0          0.0         2.0  ...      2         1.0     7      2\n",
              "3  1.0             3.0          1.0         1.0  ...      2         0.0     3      2\n",
              "4  0.0             0.0          1.0         2.0  ...      2         1.0     3      1\n",
              "\n",
              "[5 rows x 14 columns]"
            ]
          },
          "metadata": {
            "tags": []
          },
          "execution_count": 141
        }
      ]
    },
    {
      "cell_type": "code",
      "metadata": {
        "id": "YfygdNcOa8US",
        "colab_type": "code",
        "colab": {
          "base_uri": "https://localhost:8080/",
          "height": 50
        },
        "outputId": "68a788ea-e44a-46a2-dc22-79e00e880073"
      },
      "source": [
        "# применим MultinomialNB\n",
        "\n",
        "gs_cv_m = GridSearchCV(MultinomialNB(), param_grid={'alpha': np.arange(0.1, 50, 0.1)}, cv=5)\n",
        "gs_cv_m.fit(df_est.iloc[:test_size, :-1], df_est.iloc[:test_size, -1:])\n",
        "\n",
        "clf_m = MultinomialNB(**gs_cv_m.best_params_)\n",
        "clf_m.fit(df_est.iloc[:test_size, :-1], df_est.iloc[:test_size, -1:])\n",
        "print(gs_cv_m.best_params_)\n",
        "print(round(clf_m.score(df_est.iloc[:-test_size, :-1], df_est.iloc[:-test_size, -1:]), 2))"
      ],
      "execution_count": null,
      "outputs": [
        {
          "output_type": "stream",
          "text": [
            "{'alpha': 0.1}\n",
            "0.8\n"
          ],
          "name": "stdout"
        }
      ]
    },
    {
      "cell_type": "code",
      "metadata": {
        "id": "kboIAMjHMt2H",
        "colab_type": "code",
        "colab": {
          "base_uri": "https://localhost:8080/",
          "height": 34
        },
        "outputId": "3287483e-89f3-4bb4-c053-75ac387c1e62"
      },
      "source": [
        "# применим CategoricalNB\n",
        "\n",
        "clf = CategoricalNB()\n",
        "clf.fit(df_est.iloc[:test_size, :-1], df_est.iloc[:test_size, -1:])\n",
        "print(round(clf.score(df_est.iloc[:-test_size, :-1], df_est.iloc[:-test_size, -1:]), 2))"
      ],
      "execution_count": null,
      "outputs": [
        {
          "output_type": "stream",
          "text": [
            "0.88\n"
          ],
          "name": "stdout"
        }
      ]
    },
    {
      "cell_type": "code",
      "metadata": {
        "id": "2uNDrHxqUFnl",
        "colab_type": "code",
        "colab": {}
      },
      "source": [
        "# выделим булевские и не булевские признаки\n",
        "\n",
        "boolean = ['sex', 'blood sugar', 'angina']\n",
        "not_boolean = ['pain type', 'ecg', 'slope', 'flourosopy', 'thal']"
      ],
      "execution_count": null,
      "outputs": []
    },
    {
      "cell_type": "code",
      "metadata": {
        "id": "tVY7JxfRUaqM",
        "colab_type": "code",
        "colab": {
          "base_uri": "https://localhost:8080/",
          "height": 34
        },
        "outputId": "f8f43e65-fc15-4919-8a2c-851052388edd"
      },
      "source": [
        "# приведем числовые признаки к булевскому типу (для этого n_bins возьмем равным 2)\n",
        "\n",
        "est_bool = KBinsDiscretizer(n_bins=2, encode='ordinal', strategy='uniform')\n",
        "X_bool_train = est_bool.fit_transform(train_df[numerical])\n",
        "X_bool_test = est_bool.transform(test_df[numerical])\n",
        "X_bool_train = pd.DataFrame(X_bool_train, columns=numerical)\n",
        "X_bool_test = pd.DataFrame(X_bool_test, columns=numerical)\n",
        "\n",
        "X_bool = pd.concat([X_bool_train, X_bool_test], axis=0)\n",
        "\n",
        "X_bool['age'].unique()"
      ],
      "execution_count": null,
      "outputs": [
        {
          "output_type": "execute_result",
          "data": {
            "text/plain": [
              "array([1., 0.])"
            ]
          },
          "metadata": {
            "tags": []
          },
          "execution_count": 146
        }
      ]
    },
    {
      "cell_type": "code",
      "metadata": {
        "id": "ZVP_uGt9kszr",
        "colab_type": "code",
        "colab": {
          "base_uri": "https://localhost:8080/",
          "height": 212
        },
        "outputId": "f69548f6-a302-46a5-c143-b3dd01624014"
      },
      "source": [
        "# используем для не булевских признаков get_dummies\n",
        "\n",
        "X_dumm = pd.get_dummies(df_heart[not_boolean], columns=not_boolean)\n",
        "\n",
        "X_dumm.head()"
      ],
      "execution_count": null,
      "outputs": [
        {
          "output_type": "execute_result",
          "data": {
            "text/html": [
              "<div>\n",
              "<style scoped>\n",
              "    .dataframe tbody tr th:only-of-type {\n",
              "        vertical-align: middle;\n",
              "    }\n",
              "\n",
              "    .dataframe tbody tr th {\n",
              "        vertical-align: top;\n",
              "    }\n",
              "\n",
              "    .dataframe thead th {\n",
              "        text-align: right;\n",
              "    }\n",
              "</style>\n",
              "<table border=\"1\" class=\"dataframe\">\n",
              "  <thead>\n",
              "    <tr style=\"text-align: right;\">\n",
              "      <th></th>\n",
              "      <th>pain type_1</th>\n",
              "      <th>pain type_2</th>\n",
              "      <th>pain type_3</th>\n",
              "      <th>pain type_4</th>\n",
              "      <th>ecg_0</th>\n",
              "      <th>ecg_1</th>\n",
              "      <th>ecg_2</th>\n",
              "      <th>slope_1</th>\n",
              "      <th>slope_2</th>\n",
              "      <th>slope_3</th>\n",
              "      <th>flourosopy_0.0</th>\n",
              "      <th>flourosopy_1.0</th>\n",
              "      <th>flourosopy_2.0</th>\n",
              "      <th>flourosopy_3.0</th>\n",
              "      <th>thal_3</th>\n",
              "      <th>thal_6</th>\n",
              "      <th>thal_7</th>\n",
              "    </tr>\n",
              "  </thead>\n",
              "  <tbody>\n",
              "    <tr>\n",
              "      <th>0</th>\n",
              "      <td>1</td>\n",
              "      <td>0</td>\n",
              "      <td>0</td>\n",
              "      <td>0</td>\n",
              "      <td>0</td>\n",
              "      <td>0</td>\n",
              "      <td>1</td>\n",
              "      <td>0</td>\n",
              "      <td>1</td>\n",
              "      <td>0</td>\n",
              "      <td>1</td>\n",
              "      <td>0</td>\n",
              "      <td>0</td>\n",
              "      <td>0</td>\n",
              "      <td>1</td>\n",
              "      <td>0</td>\n",
              "      <td>0</td>\n",
              "    </tr>\n",
              "    <tr>\n",
              "      <th>1</th>\n",
              "      <td>0</td>\n",
              "      <td>0</td>\n",
              "      <td>0</td>\n",
              "      <td>1</td>\n",
              "      <td>0</td>\n",
              "      <td>0</td>\n",
              "      <td>1</td>\n",
              "      <td>0</td>\n",
              "      <td>1</td>\n",
              "      <td>0</td>\n",
              "      <td>0</td>\n",
              "      <td>1</td>\n",
              "      <td>0</td>\n",
              "      <td>0</td>\n",
              "      <td>0</td>\n",
              "      <td>1</td>\n",
              "      <td>0</td>\n",
              "    </tr>\n",
              "    <tr>\n",
              "      <th>2</th>\n",
              "      <td>0</td>\n",
              "      <td>0</td>\n",
              "      <td>1</td>\n",
              "      <td>0</td>\n",
              "      <td>0</td>\n",
              "      <td>0</td>\n",
              "      <td>1</td>\n",
              "      <td>0</td>\n",
              "      <td>1</td>\n",
              "      <td>0</td>\n",
              "      <td>0</td>\n",
              "      <td>1</td>\n",
              "      <td>0</td>\n",
              "      <td>0</td>\n",
              "      <td>0</td>\n",
              "      <td>0</td>\n",
              "      <td>1</td>\n",
              "    </tr>\n",
              "    <tr>\n",
              "      <th>3</th>\n",
              "      <td>0</td>\n",
              "      <td>0</td>\n",
              "      <td>0</td>\n",
              "      <td>1</td>\n",
              "      <td>0</td>\n",
              "      <td>1</td>\n",
              "      <td>0</td>\n",
              "      <td>0</td>\n",
              "      <td>1</td>\n",
              "      <td>0</td>\n",
              "      <td>1</td>\n",
              "      <td>0</td>\n",
              "      <td>0</td>\n",
              "      <td>0</td>\n",
              "      <td>1</td>\n",
              "      <td>0</td>\n",
              "      <td>0</td>\n",
              "    </tr>\n",
              "    <tr>\n",
              "      <th>4</th>\n",
              "      <td>0</td>\n",
              "      <td>0</td>\n",
              "      <td>1</td>\n",
              "      <td>0</td>\n",
              "      <td>1</td>\n",
              "      <td>0</td>\n",
              "      <td>0</td>\n",
              "      <td>0</td>\n",
              "      <td>1</td>\n",
              "      <td>0</td>\n",
              "      <td>0</td>\n",
              "      <td>1</td>\n",
              "      <td>0</td>\n",
              "      <td>0</td>\n",
              "      <td>1</td>\n",
              "      <td>0</td>\n",
              "      <td>0</td>\n",
              "    </tr>\n",
              "  </tbody>\n",
              "</table>\n",
              "</div>"
            ],
            "text/plain": [
              "   pain type_1  pain type_2  pain type_3  ...  thal_3  thal_6  thal_7\n",
              "0            1            0            0  ...       1       0       0\n",
              "1            0            0            0  ...       0       1       0\n",
              "2            0            0            1  ...       0       0       1\n",
              "3            0            0            0  ...       1       0       0\n",
              "4            0            0            1  ...       1       0       0\n",
              "\n",
              "[5 rows x 17 columns]"
            ]
          },
          "metadata": {
            "tags": []
          },
          "execution_count": 147
        }
      ]
    },
    {
      "cell_type": "code",
      "metadata": {
        "id": "oqKMIG86U8Fd",
        "colab_type": "code",
        "colab": {
          "base_uri": "https://localhost:8080/",
          "height": 470
        },
        "outputId": "33b955bd-4f5d-4d56-841f-1eb79c6f79f9"
      },
      "source": [
        "# объединим все таблицы\n",
        "\n",
        "df_bool = pd.concat([X_bool, X_dumm, df_heart[boolean], df_heart['class']], axis=1)\n",
        "\n",
        "df_bool.nunique() # количество уникальных значений признака"
      ],
      "execution_count": null,
      "outputs": [
        {
          "output_type": "execute_result",
          "data": {
            "text/plain": [
              "age               2\n",
              "blood pressure    2\n",
              "cholestoral       2\n",
              "heart rate        2\n",
              "oldpeak           2\n",
              "pain type_1       2\n",
              "pain type_2       2\n",
              "pain type_3       2\n",
              "pain type_4       2\n",
              "ecg_0             2\n",
              "ecg_1             2\n",
              "ecg_2             2\n",
              "slope_1           2\n",
              "slope_2           2\n",
              "slope_3           2\n",
              "flourosopy_0.0    2\n",
              "flourosopy_1.0    2\n",
              "flourosopy_2.0    2\n",
              "flourosopy_3.0    2\n",
              "thal_3            2\n",
              "thal_6            2\n",
              "thal_7            2\n",
              "sex               2\n",
              "blood sugar       2\n",
              "angina            2\n",
              "class             2\n",
              "dtype: int64"
            ]
          },
          "metadata": {
            "tags": []
          },
          "execution_count": 151
        }
      ]
    },
    {
      "cell_type": "code",
      "metadata": {
        "id": "zDCOpRa3Rg8x",
        "colab_type": "code",
        "colab": {
          "base_uri": "https://localhost:8080/",
          "height": 34
        },
        "outputId": "ebc3bbe8-cf5b-4e1c-d5af-f1c46aba4acc"
      },
      "source": [
        "# применим BernoulliNB\n",
        "\n",
        "clf_b = BernoulliNB()\n",
        "clf_b.fit(df_bool.iloc[:test_size, :-1], df_bool.iloc[:test_size, -1:])\n",
        "print(round(clf_b.score(df_bool.iloc[:-test_size, :-1], df_bool.iloc[:-test_size, -1:]), 2))"
      ],
      "execution_count": null,
      "outputs": [
        {
          "output_type": "stream",
          "text": [
            "0.87\n"
          ],
          "name": "stdout"
        }
      ]
    },
    {
      "cell_type": "code",
      "metadata": {
        "id": "tmDaMaycQ__W",
        "colab_type": "code",
        "colab": {}
      },
      "source": [
        "# объединение нескольких классификаторов\n",
        "\n",
        "clf_gauc = GaussianNB()\n",
        "clf_cat = CategoricalNB()\n",
        "clf_bool = BernoulliNB()"
      ],
      "execution_count": null,
      "outputs": []
    },
    {
      "cell_type": "code",
      "metadata": {
        "id": "CZdSpIE-e_xU",
        "colab_type": "code",
        "colab": {}
      },
      "source": [
        "# выделим мультиномиальные признаки\n",
        "\n",
        "mult = ['pain type', 'ecg', 'slope', 'flourosopy', 'thal']"
      ],
      "execution_count": null,
      "outputs": []
    },
    {
      "cell_type": "code",
      "metadata": {
        "id": "VwnfvTI5k7jW",
        "colab_type": "code",
        "colab": {
          "base_uri": "https://localhost:8080/",
          "height": 50
        },
        "outputId": "a139a6e7-f64a-49e7-9c39-b25fb73c6307"
      },
      "source": [
        "# для CategoricalNB и BernoulliNB используем GridSearch\n",
        "\n",
        "gs_cat = GridSearchCV(clf_cat, param_grid={'alpha': np.arange(0.1, 50, 0.1)}, cv=5)\n",
        "gs_cat.fit(train_df[mult], train_df['class'])\n",
        "print(gs_cat.best_params_)\n",
        "\n",
        "gs_bool = GridSearchCV(clf_bool, param_grid={'alpha': np.arange(0.1, 50, 0.1), 'binarize': np.arange(0.1, 10)}, cv=5)\n",
        "gs_bool.fit(train_df[boolean], train_df['class'])\n",
        "print(gs_bool.best_params_)"
      ],
      "execution_count": null,
      "outputs": [
        {
          "output_type": "stream",
          "text": [
            "{'alpha': 25.900000000000002}\n",
            "{'alpha': 31.300000000000004, 'binarize': 0.1}\n"
          ],
          "name": "stdout"
        }
      ]
    },
    {
      "cell_type": "code",
      "metadata": {
        "id": "RVt1x3MEm3Vs",
        "colab_type": "code",
        "colab": {
          "base_uri": "https://localhost:8080/",
          "height": 67
        },
        "outputId": "d753efa4-150b-49df-bf83-cb545f0c0805"
      },
      "source": [
        "# к числовым признакам применим StandardScaler\n",
        "# для всех классификаторов посчитаем предсказания классов\n",
        "\n",
        "pipe_gauc = make_pipeline(StandardScaler(), GaussianNB())\n",
        "\n",
        "make_pipeline(StandardScaler(), GaussianNB(priors=None))\n",
        "Pipeline(steps=[('standardscaler', StandardScaler()),\n",
        "                ('gaussiannb', GaussianNB())])\n",
        "\n",
        "pipe_gauc.fit(train_df[numerical], train_df['class'])\n",
        "clf_gauc_pred = pipe_gauc.predict_proba(test_df[numerical])\n",
        "print('Gaussian', round(pipe_gauc.score(test_df[numerical], test_df['class']), 2))\n",
        "\n",
        "clf_cat = CategoricalNB(**gs_cat.best_params_)\n",
        "clf_cat.fit(train_df[mult], train_df['class'])\n",
        "clf_cat_pred = clf_cat.predict_proba(test_df[mult])\n",
        "print('Categorical', round(clf_cat.score(test_df[mult], test_df['class']), 2))\n",
        "\n",
        "clf_bool = BernoulliNB(**gs_bool.best_params_)\n",
        "clf_bool.fit(train_df[boolean], train_df['class'])\n",
        "clf_bool_pred = clf_bool.predict_proba(test_df[boolean])\n",
        "print('Bernoulli', round(clf_bool.score(test_df[boolean], test_df['class']), 2))"
      ],
      "execution_count": null,
      "outputs": [
        {
          "output_type": "stream",
          "text": [
            "Gaussian 0.72\n",
            "Categorical 0.83\n",
            "Bernoulli 0.7\n"
          ],
          "name": "stdout"
        }
      ]
    },
    {
      "cell_type": "code",
      "metadata": {
        "id": "yQ39RwmFvUc8",
        "colab_type": "code",
        "colab": {
          "base_uri": "https://localhost:8080/",
          "height": 34
        },
        "outputId": "36aa7d2b-89ee-45b0-c836-50244f597024"
      },
      "source": [
        "# выведем вероятность объединенных классов\n",
        "\n",
        "mix_pred = clf_gauc_pred * clf_cat_pred * clf_bool_pred\n",
        "mix_pred_1 = mix_pred[:, 0]\n",
        "mix_pred_2 = mix_pred[:, 1]\n",
        "\n",
        "# сохраним в список новые метки классов\n",
        "class_mark = []\n",
        "\n",
        "for i in range(len(mix_pred_1)):\n",
        "  if mix_pred[i, 0] > mix_pred[i, 1]:\n",
        "    class_mark.append(1)\n",
        "  else:\n",
        "    class_mark.append(2)\n",
        "\n",
        "len(class_mark)"
      ],
      "execution_count": null,
      "outputs": [
        {
          "output_type": "execute_result",
          "data": {
            "text/plain": [
              "90"
            ]
          },
          "metadata": {
            "tags": []
          },
          "execution_count": 224
        }
      ]
    },
    {
      "cell_type": "code",
      "metadata": {
        "id": "-eT7o9tTxE_3",
        "colab_type": "code",
        "colab": {
          "base_uri": "https://localhost:8080/",
          "height": 34
        },
        "outputId": "890ed5fa-4ae0-4ec3-d219-0a915375a8fd"
      },
      "source": [
        "# выведем итоговый accuracy\n",
        "\n",
        "class_mix_score = accuracy_score(class_mark, test_df['class'])\n",
        "print('class_mix_score:', round((class_mix_score), 2))"
      ],
      "execution_count": null,
      "outputs": [
        {
          "output_type": "stream",
          "text": [
            "class_mix_score: 0.83\n"
          ],
          "name": "stdout"
        }
      ]
    },
    {
      "cell_type": "markdown",
      "metadata": {
        "id": "KBSGK5LOIuWN",
        "colab_type": "text"
      },
      "source": [
        "###Accuracy на основании нескольких классов не дает лучшего результата.\n",
        "###Лучший результат показал класс CategoricalNB с применением KBinsDiscretizer для числовых признаков с параметром n_bins=4."
      ]
    }
  ]
}
